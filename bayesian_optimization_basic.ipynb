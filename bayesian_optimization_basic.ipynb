{
 "cells": [
  {
   "cell_type": "code",
   "execution_count": null,
   "metadata": {},
   "outputs": [],
   "source": [
    "# https://github.com/fmfn/BayesianOptimization \n",
    "# conda install -c conda-forge bayesian-optimization로 설치"
   ]
  },
  {
   "cell_type": "markdown",
   "metadata": {},
   "source": [
    "##### 범위를 가지는 x, y 데이터를 기반으로 특정 값을 반환하는 함수  생성"
   ]
  },
  {
   "cell_type": "code",
   "execution_count": 1,
   "metadata": {},
   "outputs": [],
   "source": [
    "# 범위를 가지는 x, y 데이터를 기반으로 특정 값을 반환하는 함수.\n",
    "# Bayesian optimization 은 넓은 범위의 입력값들을 이 함수에 입력했을 때 어떤 입력값이 이 함수를 최대화 하는지 추론.\n",
    "def black_box_function(x, y):\n",
    "\n",
    "    return -x ** 2 - (y - 1) ** 2 + 1"
   ]
  },
  {
   "cell_type": "markdown",
   "metadata": {},
   "source": [
    "##### 입력 파라미터들의 범위(공간) 설정 "
   ]
  },
  {
   "cell_type": "code",
   "execution_count": 2,
   "metadata": {},
   "outputs": [],
   "source": [
    "# 입력 파라미터들의 범위(공간)\n",
    "pbounds = {'x': (2, 4), 'y': (-3, 3)}"
   ]
  },
  {
   "cell_type": "markdown",
   "metadata": {},
   "source": [
    "##### BayesianOptimization 객체 생성하고 함수 반환값을 최대화 할 수 있는 입력 파라미터 값과 반환값을 iteration하면서 최적 검색"
   ]
  },
  {
   "cell_type": "code",
   "execution_count": 3,
   "metadata": {},
   "outputs": [
    {
     "name": "stdout",
     "output_type": "stream",
     "text": [
      "|   iter    |  target   |     x     |     y     |\n",
      "-------------------------------------------------\n",
      "| \u001b[0m 1       \u001b[0m | \u001b[0m-7.135   \u001b[0m | \u001b[0m 2.834   \u001b[0m | \u001b[0m 1.322   \u001b[0m |\n",
      "| \u001b[0m 2       \u001b[0m | \u001b[0m-7.78    \u001b[0m | \u001b[0m 2.0     \u001b[0m | \u001b[0m-1.186   \u001b[0m |\n",
      "| \u001b[95m 3       \u001b[0m | \u001b[95m-7.11    \u001b[0m | \u001b[95m 2.218   \u001b[0m | \u001b[95m-0.7867  \u001b[0m |\n",
      "| \u001b[0m 4       \u001b[0m | \u001b[0m-12.4    \u001b[0m | \u001b[0m 3.66    \u001b[0m | \u001b[0m 0.9608  \u001b[0m |\n",
      "| \u001b[95m 5       \u001b[0m | \u001b[95m-6.999   \u001b[0m | \u001b[95m 2.23    \u001b[0m | \u001b[95m-0.7392  \u001b[0m |\n",
      "| \u001b[95m 6       \u001b[0m | \u001b[95m-3.047   \u001b[0m | \u001b[95m 2.0     \u001b[0m | \u001b[95m 0.7829  \u001b[0m |\n",
      "| \u001b[0m 7       \u001b[0m | \u001b[0m-4.166   \u001b[0m | \u001b[0m 2.0     \u001b[0m | \u001b[0m 2.08    \u001b[0m |\n",
      "=================================================\n"
     ]
    }
   ],
   "source": [
    "from bayes_opt import BayesianOptimization\n",
    "\n",
    "# 최적화할 함수와, 입력 파라미터의 범위를 입력 받아서 BayesianOptimization 객체 생성 \n",
    "optimizer = BayesianOptimization(\n",
    "    f=black_box_function,\n",
    "    pbounds=pbounds,\n",
    "    random_state=1\n",
    ")\n",
    "\n",
    "# 함수 반환값을 최대화 할 수 있는 입력 파라미터 값과 반환값을 iteration하면서 최적 검색 \n",
    "optimizer.maximize(\n",
    "    init_points=2,\n",
    "    n_iter=5,\n",
    ")"
   ]
  },
  {
   "cell_type": "markdown",
   "metadata": {},
   "source": [
    "##### 순차적으로 반환값의 최대값을 찾는 로직 비교 "
   ]
  },
  {
   "cell_type": "code",
   "execution_count": 4,
   "metadata": {},
   "outputs": [
    {
     "name": "stdout",
     "output_type": "stream",
     "text": [
      "iteration count: 1260 max result: -3.0 x value: 2.0 y value: 1.0000000000000036\n"
     ]
    }
   ],
   "source": [
    "import numpy as np\n",
    "\n",
    "result = -9999\n",
    "x_val = -9999\n",
    "y_val = -9999\n",
    "iter_count = 0\n",
    "\n",
    "for x in np.arange(2, 4.1, 0.1):\n",
    "    for y in np.arange(-3, 3, 0.1):\n",
    "        current_result = black_box_function(x, y)\n",
    "        iter_count += 1\n",
    "        if current_result > result:\n",
    "            result = current_result\n",
    "            x_val = x\n",
    "            y_val = y\n",
    "\n",
    "print('iteration count:', iter_count, 'max result:', result, 'x value:', x_val, 'y value:', y_val)"
   ]
  },
  {
   "cell_type": "markdown",
   "metadata": {},
   "source": [
    "##### 입력 파라미터들의 범위(공간)을 넓혀서 다시 수행 비교. "
   ]
  },
  {
   "cell_type": "code",
   "execution_count": 5,
   "metadata": {},
   "outputs": [
    {
     "name": "stdout",
     "output_type": "stream",
     "text": [
      "|   iter    |  target   |     x     |     y     |\n",
      "-------------------------------------------------\n",
      "| \u001b[0m 1       \u001b[0m | \u001b[0m-708.4   \u001b[0m | \u001b[0m 17.85   \u001b[0m | \u001b[0m 20.77   \u001b[0m |\n",
      "| \u001b[95m 2       \u001b[0m | \u001b[95m-38.74   \u001b[0m | \u001b[95m 2.004   \u001b[0m | \u001b[95m 6.977   \u001b[0m |\n",
      "| \u001b[0m 3       \u001b[0m | \u001b[0m-52.3    \u001b[0m | \u001b[0m 3.172   \u001b[0m | \u001b[0m 7.576   \u001b[0m |\n",
      "| \u001b[0m 4       \u001b[0m | \u001b[0m-117.8   \u001b[0m | \u001b[0m 10.14   \u001b[0m | \u001b[0m-2.995   \u001b[0m |\n",
      "| \u001b[0m 5       \u001b[0m | \u001b[0m-1.615e+0\u001b[0m | \u001b[0m 40.0    \u001b[0m | \u001b[0m-3.0     \u001b[0m |\n",
      "| \u001b[0m 6       \u001b[0m | \u001b[0m-844.0   \u001b[0m | \u001b[0m 2.0     \u001b[0m | \u001b[0m 30.0    \u001b[0m |\n",
      "| \u001b[95m 7       \u001b[0m | \u001b[95m-19.0    \u001b[0m | \u001b[95m 2.0     \u001b[0m | \u001b[95m-3.0     \u001b[0m |\n",
      "| \u001b[0m 8       \u001b[0m | \u001b[0m-20.04   \u001b[0m | \u001b[0m 4.501   \u001b[0m | \u001b[0m 1.881   \u001b[0m |\n",
      "| \u001b[95m 9       \u001b[0m | \u001b[95m-3.086   \u001b[0m | \u001b[95m 2.0     \u001b[0m | \u001b[95m 1.294   \u001b[0m |\n",
      "| \u001b[0m 10      \u001b[0m | \u001b[0m-8.189   \u001b[0m | \u001b[0m 2.026   \u001b[0m | \u001b[0m 3.255   \u001b[0m |\n",
      "| \u001b[0m 11      \u001b[0m | \u001b[0m-4.0     \u001b[0m | \u001b[0m 2.0     \u001b[0m | \u001b[0m-0.000178\u001b[0m |\n",
      "| \u001b[0m 12      \u001b[0m | \u001b[0m-4.982   \u001b[0m | \u001b[0m 2.441   \u001b[0m | \u001b[0m 0.8543  \u001b[0m |\n",
      "=================================================\n"
     ]
    }
   ],
   "source": [
    "# 입력 파라미터들의 범위(공간)\n",
    "pbounds = {'x': (2, 40), 'y': (-3, 30)}\n",
    "\n",
    "optimizer = BayesianOptimization(\n",
    "    f=black_box_function,\n",
    "    pbounds=pbounds,\n",
    "    random_state=1,\n",
    ")\n",
    "\n",
    "optimizer.maximize(\n",
    "    init_points=2,\n",
    "    n_iter=10,\n",
    ")"
   ]
  },
  {
   "cell_type": "code",
   "execution_count": 6,
   "metadata": {},
   "outputs": [
    {
     "name": "stdout",
     "output_type": "stream",
     "text": [
      "iteration count: 125730 max result: -3.0 x value: 2.0 y value: 1.0000000000000036\n"
     ]
    }
   ],
   "source": [
    "import numpy as np\n",
    "\n",
    "result = -9999\n",
    "x_val = -9999\n",
    "y_val = -9999\n",
    "iter_count = 0\n",
    "for x in np.arange(2, 40.1, 0.1):\n",
    "    for y in np.arange(-3, 30, 0.1):\n",
    "        current_result = black_box_function(x, y)\n",
    "        iter_count += 1\n",
    "        if current_result > result:\n",
    "            result = current_result\n",
    "            x_val = x\n",
    "            y_val = y\n",
    "\n",
    "print('iteration count:', iter_count, 'max result:', result, 'x value:', x_val, 'y value:', y_val)"
   ]
  },
  {
   "cell_type": "code",
   "execution_count": null,
   "metadata": {},
   "outputs": [],
   "source": []
  }
 ],
 "metadata": {
  "kernelspec": {
   "display_name": "Python 3",
   "language": "python",
   "name": "python3"
  },
  "language_info": {
   "codemirror_mode": {
    "name": "ipython",
    "version": 3
   },
   "file_extension": ".py",
   "mimetype": "text/x-python",
   "name": "python",
   "nbconvert_exporter": "python",
   "pygments_lexer": "ipython3",
   "version": "3.8.3"
  }
 },
 "nbformat": 4,
 "nbformat_minor": 4
}
