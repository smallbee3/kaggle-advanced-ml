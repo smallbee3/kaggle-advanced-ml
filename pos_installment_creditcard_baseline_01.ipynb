{
 "cells": [
  {
   "cell_type": "markdown",
   "metadata": {
    "colab_type": "text",
    "id": "jJftJID_5POA"
   },
   "source": [
    "### POS_CASH_balance, installments_payments, credit_card_balance 데이터 가공, EDA, 모델 생성."
   ]
  },
  {
   "cell_type": "code",
   "execution_count": null,
   "metadata": {
    "colab": {
     "base_uri": "https://localhost:8080/",
     "height": 75
    },
    "colab_type": "code",
    "executionInfo": {
     "elapsed": 851,
     "status": "ok",
     "timestamp": 1599722716168,
     "user": {
      "displayName": "권철민",
      "photoUrl": "",
      "userId": "03917677622451543916"
     },
     "user_tz": -540
    },
    "id": "YzmbdQKo5POD",
    "outputId": "fcb9dbf3-37f1-4279-b893-2517f1d65bec"
   },
   "outputs": [
    {
     "name": "stderr",
     "output_type": "stream",
     "text": [
      "/usr/local/lib/python3.6/dist-packages/statsmodels/tools/_testing.py:19: FutureWarning: pandas.util.testing is deprecated. Use the functions in the public API at pandas.testing instead.\n",
      "  import pandas.util.testing as tm\n"
     ]
    }
   ],
   "source": [
    "import pandas as pd\n",
    "import numpy as np\n",
    "import matplotlib.pyplot as plt\n",
    "import seaborn as sns\n",
    "%matplotlib inline"
   ]
  },
  {
   "cell_type": "markdown",
   "metadata": {
    "colab_type": "text",
    "id": "-GYS-opC5POO"
   },
   "source": [
    "#### BALANCE 데이터 세트들을 로딩. 메모리 사이즈를 줄이기 위해 컬럼 타입 변경"
   ]
  },
  {
   "cell_type": "code",
   "execution_count": null,
   "metadata": {
    "colab": {},
    "colab_type": "code",
    "id": "3QZfyp5F5POS"
   },
   "outputs": [],
   "source": [
    "def get_balance_data():\n",
    "    pos_dtype = {\n",
    "        'SK_ID_PREV':np.uint32, 'SK_ID_CURR':np.uint32, 'MONTHS_BALANCE':np.int32, 'SK_DPD':np.int32,\n",
    "        'SK_DPD_DEF':np.int32, 'CNT_INSTALMENT':np.float32,'CNT_INSTALMENT_FUTURE':np.float32\n",
    "    }\n",
    "    \n",
    "    install_dtype = {\n",
    "        'SK_ID_PREV':np.uint32, 'SK_ID_CURR':np.uint32, 'NUM_INSTALMENT_NUMBER':np.int32, 'NUM_INSTALMENT_VERSION':np.float32,\n",
    "        'DAYS_INSTALMENT':np.float32, 'DAYS_ENTRY_PAYMENT':np.float32, 'AMT_INSTALMENT':np.float32, 'AMT_PAYMENT':np.float32\n",
    "    }\n",
    "    \n",
    "    card_dtype = {\n",
    "        'SK_ID_PREV':np.uint32, 'SK_ID_CURR':np.uint32, 'MONTHS_BALANCE':np.int16,\n",
    "        'AMT_CREDIT_LIMIT_ACTUAL':np.int32, 'CNT_DRAWINGS_CURRENT':np.int32, 'SK_DPD':np.int32,'SK_DPD_DEF':np.int32,\n",
    "        'AMT_BALANCE':np.float32, 'AMT_DRAWINGS_ATM_CURRENT':np.float32, 'AMT_DRAWINGS_CURRENT':np.float32,\n",
    "        'AMT_DRAWINGS_OTHER_CURRENT':np.float32, 'AMT_DRAWINGS_POS_CURRENT':np.float32, 'AMT_INST_MIN_REGULARITY':np.float32,\n",
    "        'AMT_PAYMENT_CURRENT':np.float32, 'AMT_PAYMENT_TOTAL_CURRENT':np.float32, 'AMT_RECEIVABLE_PRINCIPAL':np.float32,\n",
    "        'AMT_RECIVABLE':np.float32, 'AMT_TOTAL_RECEIVABLE':np.float32, 'CNT_DRAWINGS_ATM_CURRENT':np.float32,\n",
    "        'CNT_DRAWINGS_OTHER_CURRENT':np.float32, 'CNT_DRAWINGS_POS_CURRENT':np.float32, 'CNT_INSTALMENT_MATURE_CUM':np.float32\n",
    "    }\n",
    "        \n",
    "    pos_bal = pd.read_csv('POS_CASH_balance.csv', dtype=pos_dtype)\n",
    "    install = pd.read_csv('installments_payments.csv', dtype=install_dtype)\n",
    "    card_bal = pd.read_csv('credit_card_balance.csv', dtype=card_dtype)\n",
    "    \n",
    "    return pos_bal, install, card_bal\n",
    "\n",
    "pos_bal, install, card_bal = get_balance_data()"
   ]
  },
  {
   "cell_type": "code",
   "execution_count": null,
   "metadata": {
    "colab": {},
    "colab_type": "code",
    "id": "6NDlLhGh5POa"
   },
   "outputs": [],
   "source": [
    "pos_bal_temp = pd.read_csv(os.path.join(default_dir,'POS_CASH_balance.csv'))\n"
   ]
  },
  {
   "cell_type": "code",
   "execution_count": null,
   "metadata": {
    "colab": {},
    "colab_type": "code",
    "id": "b_yDBOM_5POi",
    "outputId": "c5ab6662-05f7-4846-eecc-c63e4ec5d97f"
   },
   "outputs": [
    {
     "name": "stdout",
     "output_type": "stream",
     "text": [
      "<class 'pandas.core.frame.DataFrame'>\n",
      "RangeIndex: 10001358 entries, 0 to 10001357\n",
      "Data columns (total 8 columns):\n",
      " #   Column                 Dtype  \n",
      "---  ------                 -----  \n",
      " 0   SK_ID_PREV             uint32 \n",
      " 1   SK_ID_CURR             uint32 \n",
      " 2   MONTHS_BALANCE         int32  \n",
      " 3   CNT_INSTALMENT         float32\n",
      " 4   CNT_INSTALMENT_FUTURE  float32\n",
      " 5   NAME_CONTRACT_STATUS   object \n",
      " 6   SK_DPD                 int32  \n",
      " 7   SK_DPD_DEF             int32  \n",
      "dtypes: float32(2), int32(3), object(1), uint32(2)\n",
      "memory usage: 343.4+ MB\n"
     ]
    }
   ],
   "source": [
    "pos_bal.info()"
   ]
  },
  {
   "cell_type": "code",
   "execution_count": null,
   "metadata": {
    "colab": {},
    "colab_type": "code",
    "id": "R6l3q91r5POr",
    "outputId": "f062df7e-9284-419f-ea7c-4c8fddc29cd1"
   },
   "outputs": [
    {
     "data": {
      "text/plain": [
       "120"
      ]
     },
     "execution_count": 8,
     "metadata": {
      "tags": []
     },
     "output_type": "execute_result"
    }
   ],
   "source": [
    "import gc\n",
    "\n",
    "del pos_bal_temp\n",
    "gc.collect()"
   ]
  },
  {
   "cell_type": "code",
   "execution_count": null,
   "metadata": {
    "colab": {},
    "colab_type": "code",
    "id": "j7O4t5Qg5POy"
   },
   "outputs": [],
   "source": [
    "app_train = pd.read_csv(os.path.join(default_dir,'application_train.csv'))\n",
    "app_test = pd.read_csv(os.path.join(default_dir,'application_test.csv'))\n",
    "apps = pd.concat([app_train, app_test])"
   ]
  },
  {
   "cell_type": "markdown",
   "metadata": {
    "colab_type": "text",
    "id": "KwSF96Hv5PO5"
   },
   "source": [
    "### POS_CASH_balance, installments_payments, credit_card_balance 컬럼 설명"
   ]
  },
  {
   "cell_type": "markdown",
   "metadata": {
    "colab_type": "text",
    "id": "ZSAyw-X75PO6"
   },
   "source": [
    "|Table|컬럼명|컬럼 대분류|컬럼 중분류|컬럼 설명|\n",
    "|------|--------|----|--------|-----------------|\n",
    "|POS_CASH_balance.csv|SK_ID_PREV |대출|고유ID|과거 대출 고유 ID|\n",
    "|POS_CASH_balance.csv|SK_ID_CURR|대출|고유ID|현재 대출 고유 ID|\n",
    "|POS_CASH_balance.csv|MONTHS_BALANCE|대출|대출 상태|신청일 기준 잔액 월(-1은 가장 최근 잔액 월 의미)|\n",
    "|POS_CASH_balance.csv|CNT_INSTALMENT|대출|대출 상태|납부 횟수|\n",
    "|POS_CASH_balance.csv|CNT_INSTALMENT_FUTURE|대출|대출 상태|앞으로 남아있는 납부 횟수|\n",
    "|POS_CASH_balance.csv|NAME_CONTRACT_STATUS|대출|대출 상태|현 월 대출 상태|\n",
    "|POS_CASH_balance.csv|SK_DPD|대출|행동|연체 일자|\n",
    "|POS_CASH_balance.csv|SK_DPD_DEF|대출|행동|월에 허용가능한 연체 일자|\n",
    "|credit_card_balance.csv|SK_ID_PREV |대출|고유ID|과거 대출 고유 ID|\n",
    "|credit_card_balance.csv|SK_ID_CURR|대출|고유ID|현재 대출 고유 ID|\n",
    "|credit_card_balance.csv|MONTHS_BALANCE|대출|대출금액|신청일 기준 잔액 월(-1은 가장 최근 잔액 월 의미)|\n",
    "|credit_card_balance.csv|AMT_BALANCE|대출|대출금액|월별 잔액|\n",
    "|credit_card_balance.csv|AMT_CREDIT_LIMIT_ACTUAL|대출|대출금액|월별 카드 허용한도|\n",
    "|credit_card_balance.csv|AMT_DRAWINGS_ATM_CURRENT|대출|행동|월별 AMT 인출 금액|\n",
    "|credit_card_balance.csv|AMT_DRAWINGS_CURRENT|대출|행동|월별 인출 금액|\n",
    "|credit_card_balance.csv|AMT_DRAWINGS_OTHER_CURRENT|대출|행동|월별 기타 인출 금액|\n",
    "|credit_card_balance.csv|AMT_DRAWINGS_POS_CURRENT|대출|행동|월별 인출 금액 또는 상품 구입|\n",
    "|credit_card_balance.csv|AMT_INST_MIN_REGULARITY|대출|대출금액|최소 할부 납입금액|\n",
    "|credit_card_balance.csv|AMT_PAYMENT_CURRENT|대출|대출금액|월별 고객이 납부한 금액|\n",
    "|credit_card_balance.csv|AMT_PAYMENT_TOTAL_CURRENT|대출|대출금액|고객이 최종 납부한 금액|\n",
    "|credit_card_balance.csv|AMT_RECEIVABLE_PRINCIPAL|대출|대출금액|대출에 대해 원금 회수 가능 금액|\n",
    "|credit_card_balance.csv|AMT_RECIVABLE|대출|대출금액|대출 원금 회수 금액|\n",
    "|credit_card_balance.csv|AMT_TOTAL_RECEIVABLE|대출|대출금액|총 원금 회수 금액|\n",
    "|credit_card_balance.csv|CNT_DRAWINGS_ATM_CURRENT|대출|행동|월별 ATM 인출 횟수|\n",
    "|credit_card_balance.csv|CNT_DRAWINGS_CURRENT|대출|행동|월별 인출 횟수|\n",
    "|credit_card_balance.csv|CNT_DRAWINGS_OTHER_CURRENT|대출|행동|월별 기타 인출 횟수|\n",
    "|credit_card_balance.csv|CNT_DRAWINGS_POS_CURRENT|대출|행동|월별 상품 인출 횟수|\n",
    "|credit_card_balance.csv|CNT_INSTALMENT_MATURE_CUM|대출|상태|납부 횟수|\n",
    "|credit_card_balance.csv|NAME_CONTRACT_STATUS|대출|상태|계약 상태|\n",
    "|credit_card_balance.csv|SK_DPD|대출|상태|연체 일자|\n",
    "|credit_card_balance.csv|SK_DPD_DEF|대출|상태|허용가능한 연체 일자|\n",
    "|installments_payments.csv|SK_ID_CURR|대출|고유ID|현재 대출 고유 ID|\n",
    "|installments_payments.csv|NUM_INSTALMENT_VERSION|대출|행동|대출 납입 변경시 부여되는 버전|\n",
    "|installments_payments.csv|NUM_INSTALMENT_NUMBER|대출|행동|대출 납입 순번|\n",
    "|installments_payments.csv|DAYS_INSTALMENT|대출|대출금액|대출 월 납입예정일 (대출 신청 날짜 대비)|\n",
    "|installments_payments.csv|DAYS_ENTRY_PAYMENT|대출|행동|현재 대출 신청 일자 대비 이전 credit가 실제 납부된 일자 |\n",
    "|installments_payments.csv|AMT_INSTALMENT|대출|대출금액|대출 월 납입예정액|\n",
    "|installments_payments.csv|AMT_PAYMENT|대출|행동, 대출금액|실제 월 납입예정액|\n"
   ]
  },
  {
   "cell_type": "code",
   "execution_count": null,
   "metadata": {
    "colab": {},
    "colab_type": "code",
    "id": "pQI_UvJ-5PO8",
    "outputId": "df24dabc-21d1-4d78-8f2e-1a24250d222a"
   },
   "outputs": [
    {
     "data": {
      "text/html": [
       "<div>\n",
       "<style scoped>\n",
       "    .dataframe tbody tr th:only-of-type {\n",
       "        vertical-align: middle;\n",
       "    }\n",
       "\n",
       "    .dataframe tbody tr th {\n",
       "        vertical-align: top;\n",
       "    }\n",
       "\n",
       "    .dataframe thead th {\n",
       "        text-align: right;\n",
       "    }\n",
       "</style>\n",
       "<table border=\"1\" class=\"dataframe\">\n",
       "  <thead>\n",
       "    <tr style=\"text-align: right;\">\n",
       "      <th></th>\n",
       "      <th>SK_ID_PREV</th>\n",
       "      <th>SK_ID_CURR</th>\n",
       "      <th>MONTHS_BALANCE</th>\n",
       "      <th>CNT_INSTALMENT</th>\n",
       "      <th>CNT_INSTALMENT_FUTURE</th>\n",
       "      <th>NAME_CONTRACT_STATUS</th>\n",
       "      <th>SK_DPD</th>\n",
       "      <th>SK_DPD_DEF</th>\n",
       "    </tr>\n",
       "  </thead>\n",
       "  <tbody>\n",
       "    <tr>\n",
       "      <th>0</th>\n",
       "      <td>1803195</td>\n",
       "      <td>182943</td>\n",
       "      <td>-31</td>\n",
       "      <td>48.0</td>\n",
       "      <td>45.0</td>\n",
       "      <td>Active</td>\n",
       "      <td>0</td>\n",
       "      <td>0</td>\n",
       "    </tr>\n",
       "    <tr>\n",
       "      <th>1</th>\n",
       "      <td>1715348</td>\n",
       "      <td>367990</td>\n",
       "      <td>-33</td>\n",
       "      <td>36.0</td>\n",
       "      <td>35.0</td>\n",
       "      <td>Active</td>\n",
       "      <td>0</td>\n",
       "      <td>0</td>\n",
       "    </tr>\n",
       "    <tr>\n",
       "      <th>2</th>\n",
       "      <td>1784872</td>\n",
       "      <td>397406</td>\n",
       "      <td>-32</td>\n",
       "      <td>12.0</td>\n",
       "      <td>9.0</td>\n",
       "      <td>Active</td>\n",
       "      <td>0</td>\n",
       "      <td>0</td>\n",
       "    </tr>\n",
       "    <tr>\n",
       "      <th>3</th>\n",
       "      <td>1903291</td>\n",
       "      <td>269225</td>\n",
       "      <td>-35</td>\n",
       "      <td>48.0</td>\n",
       "      <td>42.0</td>\n",
       "      <td>Active</td>\n",
       "      <td>0</td>\n",
       "      <td>0</td>\n",
       "    </tr>\n",
       "    <tr>\n",
       "      <th>4</th>\n",
       "      <td>2341044</td>\n",
       "      <td>334279</td>\n",
       "      <td>-35</td>\n",
       "      <td>36.0</td>\n",
       "      <td>35.0</td>\n",
       "      <td>Active</td>\n",
       "      <td>0</td>\n",
       "      <td>0</td>\n",
       "    </tr>\n",
       "  </tbody>\n",
       "</table>\n",
       "</div>"
      ],
      "text/plain": [
       "   SK_ID_PREV  SK_ID_CURR  MONTHS_BALANCE  CNT_INSTALMENT  \\\n",
       "0     1803195      182943             -31            48.0   \n",
       "1     1715348      367990             -33            36.0   \n",
       "2     1784872      397406             -32            12.0   \n",
       "3     1903291      269225             -35            48.0   \n",
       "4     2341044      334279             -35            36.0   \n",
       "\n",
       "   CNT_INSTALMENT_FUTURE NAME_CONTRACT_STATUS  SK_DPD  SK_DPD_DEF  \n",
       "0                   45.0               Active       0           0  \n",
       "1                   35.0               Active       0           0  \n",
       "2                    9.0               Active       0           0  \n",
       "3                   42.0               Active       0           0  \n",
       "4                   35.0               Active       0           0  "
      ]
     },
     "execution_count": 10,
     "metadata": {
      "tags": []
     },
     "output_type": "execute_result"
    }
   ],
   "source": [
    "pos_bal.head()"
   ]
  },
  {
   "cell_type": "markdown",
   "metadata": {
    "colab_type": "text",
    "id": "o8-JC_vw5PPD"
   },
   "source": [
    "##### SK_ID_CURR/SK_ID_PREV별 평균 건수, MONTHS_BALANCE, DAYS_INSTALMENT에 따른 분포\n",
    "* SK_ID_CURR 별로 평균 건수\n",
    "* SK_ID_PREV 별로 평균 건수\n",
    "* SK_ID_CURR별로 고유한 SK_ID_PREV 평균 건수\n",
    "* MONTHS_BALANCE, DAYS_INSTALMENT에 따른 분포"
   ]
  },
  {
   "cell_type": "code",
   "execution_count": null,
   "metadata": {
    "colab": {
     "base_uri": "https://localhost:8080/",
     "height": 36
    },
    "colab_type": "code",
    "executionInfo": {
     "elapsed": 1231,
     "status": "ok",
     "timestamp": 1599722882804,
     "user": {
      "displayName": "권철민",
      "photoUrl": "",
      "userId": "03917677622451543916"
     },
     "user_tz": -540
    },
    "id": "l8AXYjYk5PPE",
    "outputId": "3b324e06-a81f-479c-dc3f-20fcf71a149d"
   },
   "outputs": [
    {
     "data": {
      "text/plain": [
       "29.655444593360453"
      ]
     },
     "execution_count": 9,
     "metadata": {
      "tags": []
     },
     "output_type": "execute_result"
    }
   ],
   "source": [
    "pos_bal.groupby('SK_ID_CURR')['SK_ID_CURR'].count().mean()"
   ]
  },
  {
   "cell_type": "code",
   "execution_count": null,
   "metadata": {
    "colab": {
     "base_uri": "https://localhost:8080/",
     "height": 36
    },
    "colab_type": "code",
    "executionInfo": {
     "elapsed": 1758,
     "status": "ok",
     "timestamp": 1599722885166,
     "user": {
      "displayName": "권철민",
      "photoUrl": "",
      "userId": "03917677622451543916"
     },
     "user_tz": -540
    },
    "id": "pgn4jUyf5PPM",
    "outputId": "53541bba-e81a-445a-d929-c5fefd7bb7df"
   },
   "outputs": [
    {
     "data": {
      "text/plain": [
       "10.68150268336315"
      ]
     },
     "execution_count": 10,
     "metadata": {
      "tags": []
     },
     "output_type": "execute_result"
    }
   ],
   "source": [
    "pos_bal.groupby('SK_ID_PREV')['SK_ID_PREV'].count().mean()"
   ]
  },
  {
   "cell_type": "code",
   "execution_count": null,
   "metadata": {
    "colab": {
     "base_uri": "https://localhost:8080/",
     "height": 36
    },
    "colab_type": "code",
    "executionInfo": {
     "elapsed": 16470,
     "status": "ok",
     "timestamp": 1599722901979,
     "user": {
      "displayName": "권철민",
      "photoUrl": "",
      "userId": "03917677622451543916"
     },
     "user_tz": -540
    },
    "id": "YaLUxMly5PPS",
    "outputId": "d5d7d72c-9bb4-47f5-f73f-43c8c43758fe"
   },
   "outputs": [
    {
     "data": {
      "text/plain": [
       "2.7763363894061412"
      ]
     },
     "execution_count": 11,
     "metadata": {
      "tags": []
     },
     "output_type": "execute_result"
    }
   ],
   "source": [
    "pos_bal.groupby('SK_ID_CURR')['SK_ID_PREV'].nunique().mean()"
   ]
  },
  {
   "cell_type": "code",
   "execution_count": null,
   "metadata": {
    "colab": {
     "base_uri": "https://localhost:8080/",
     "height": 789
    },
    "colab_type": "code",
    "executionInfo": {
     "elapsed": 7749,
     "status": "ok",
     "timestamp": 1599722901983,
     "user": {
      "displayName": "권철민",
      "photoUrl": "",
      "userId": "03917677622451543916"
     },
     "user_tz": -540
    },
    "id": "0ijonWSA5PPY",
    "outputId": "cd1bc0f8-d2a1-4d01-9684-bd12ab1a4ab1"
   },
   "outputs": [
    {
     "data": {
      "text/plain": [
       "-10    216441\n",
       "-11    216023\n",
       "-9     215558\n",
       "-12    214716\n",
       "-8     214149\n",
       "-13    210950\n",
       "-7     210229\n",
       "-14    208352\n",
       "-6     206849\n",
       "-15    204935\n",
       "-5     200726\n",
       "-16    200432\n",
       "-17    195713\n",
       "-4     193147\n",
       "-18    190385\n",
       "-19    184302\n",
       "-3     183589\n",
       "-20    179741\n",
       "-21    173543\n",
       "-2     169529\n",
       "-22    167834\n",
       "-23    162220\n",
       "-24    155855\n",
       "-25    148399\n",
       "-26    142602\n",
       "-27    136913\n",
       "-28    131861\n",
       "-29    127147\n",
       "-30    122386\n",
       "-31    117961\n",
       "-32    114353\n",
       "-33    110085\n",
       "-34    106609\n",
       "-35    103432\n",
       "-36     99834\n",
       "-37     96190\n",
       "-1      94908\n",
       "-38     93921\n",
       "-39     92211\n",
       "-40     90836\n",
       "Name: MONTHS_BALANCE, dtype: int64"
      ]
     },
     "execution_count": 12,
     "metadata": {
      "tags": []
     },
     "output_type": "execute_result"
    }
   ],
   "source": [
    "pos_bal['MONTHS_BALANCE'].value_counts().head(40)"
   ]
  },
  {
   "cell_type": "code",
   "execution_count": null,
   "metadata": {
    "colab": {
     "base_uri": "https://localhost:8080/",
     "height": 284
    },
    "colab_type": "code",
    "executionInfo": {
     "elapsed": 1174,
     "status": "ok",
     "timestamp": 1599722909491,
     "user": {
      "displayName": "권철민",
      "photoUrl": "",
      "userId": "03917677622451543916"
     },
     "user_tz": -540
    },
    "id": "Axgt1i6a5PPe",
    "outputId": "4a05d5c9-f587-4ef8-ffa1-f7e1654fe162",
    "scrolled": true
   },
   "outputs": [
    {
     "data": {
      "text/plain": [
       "<matplotlib.axes._subplots.AxesSubplot at 0x7f548d6adc18>"
      ]
     },
     "execution_count": 13,
     "metadata": {
      "tags": []
     },
     "output_type": "execute_result"
    },
    {
     "data": {
      "image/png": "[encoded data removed]",
      "text/plain": [
       "<Figure size 432x288 with 1 Axes>"
      ]
     },
     "metadata": {
      "needs_background": "light",
      "tags": []
     },
     "output_type": "display_data"
    }
   ],
   "source": [
    "pos_bal['MONTHS_BALANCE'].hist(bins=100)"
   ]
  },
  {
   "cell_type": "code",
   "execution_count": null,
   "metadata": {
    "colab": {
     "base_uri": "https://localhost:8080/",
     "height": 284
    },
    "colab_type": "code",
    "executionInfo": {
     "elapsed": 1146,
     "status": "ok",
     "timestamp": 1599722915002,
     "user": {
      "displayName": "권철민",
      "photoUrl": "",
      "userId": "03917677622451543916"
     },
     "user_tz": -540
    },
    "id": "YEWkiZov5PPm",
    "outputId": "49848324-9f52-4d7d-fa20-b122c6047643"
   },
   "outputs": [
    {
     "data": {
      "text/plain": [
       "<matplotlib.axes._subplots.AxesSubplot at 0x7f54821263c8>"
      ]
     },
     "execution_count": 14,
     "metadata": {
      "tags": []
     },
     "output_type": "execute_result"
    },
    {
     "data": {
      "image/png": "[encoded data removed]",
      "text/plain": [
       "<Figure size 432x288 with 1 Axes>"
      ]
     },
     "metadata": {
      "needs_background": "light",
      "tags": []
     },
     "output_type": "display_data"
    }
   ],
   "source": [
    "card_bal['MONTHS_BALANCE'].hist(bins=100)"
   ]
  },
  {
   "cell_type": "code",
   "execution_count": null,
   "metadata": {
    "colab": {
     "base_uri": "https://localhost:8080/",
     "height": 299
    },
    "colab_type": "code",
    "executionInfo": {
     "elapsed": 956,
     "status": "ok",
     "timestamp": 1599722916653,
     "user": {
      "displayName": "권철민",
      "photoUrl": "",
      "userId": "03917677622451543916"
     },
     "user_tz": -540
    },
    "id": "9xhdREPa5PPr",
    "outputId": "b5727c0a-6d9e-4b8d-b446-2dcf2b79c0ac"
   },
   "outputs": [
    {
     "data": {
      "text/plain": [
       "<matplotlib.axes._subplots.AxesSubplot at 0x7f5481b4d358>"
      ]
     },
     "execution_count": 15,
     "metadata": {
      "tags": []
     },
     "output_type": "execute_result"
    },
    {
     "data": {
      "image/png": "[encoded data removed]",
      "text/plain": [
       "<Figure size 432x288 with 1 Axes>"
      ]
     },
     "metadata": {
      "needs_background": "light",
      "tags": []
     },
     "output_type": "display_data"
    }
   ],
   "source": [
    "sns.boxplot(card_bal['MONTHS_BALANCE'])"
   ]
  },
  {
   "cell_type": "code",
   "execution_count": null,
   "metadata": {
    "colab": {
     "base_uri": "https://localhost:8080/",
     "height": 284
    },
    "colab_type": "code",
    "executionInfo": {
     "elapsed": 1236,
     "status": "ok",
     "timestamp": 1599722918654,
     "user": {
      "displayName": "권철민",
      "photoUrl": "",
      "userId": "03917677622451543916"
     },
     "user_tz": -540
    },
    "id": "QVMnrrHO5PPy",
    "outputId": "b2917b73-336e-4ae8-c7d8-9e2ee000806b"
   },
   "outputs": [
    {
     "data": {
      "text/plain": [
       "<matplotlib.axes._subplots.AxesSubplot at 0x7f5481ab0320>"
      ]
     },
     "execution_count": 16,
     "metadata": {
      "tags": []
     },
     "output_type": "execute_result"
    },
    {
     "data": {
      "image/png": "[encoded data removed]",
      "text/plain": [
       "<Figure size 432x288 with 1 Axes>"
      ]
     },
     "metadata": {
      "needs_background": "light",
      "tags": []
     },
     "output_type": "display_data"
    }
   ],
   "source": [
    "install['DAYS_INSTALMENT'].hist(bins=100)"
   ]
  },
  {
   "cell_type": "markdown",
   "metadata": {
    "colab_type": "text",
    "id": "OoqlI7gy5PP3"
   },
   "source": [
    "##### BALANCE 데이터 세트에 대한 컬럼 및 Null 조사\n",
    "* POS_CACHE, INSTALL은 Null값이 많지 않지만, CREDIT_CARD의 경우 인출(DRAWINGS)관련 속성들의 Null값이 많음"
   ]
  },
  {
   "cell_type": "code",
   "execution_count": null,
   "metadata": {
    "colab": {
     "base_uri": "https://localhost:8080/",
     "height": 300
    },
    "colab_type": "code",
    "executionInfo": {
     "elapsed": 796,
     "status": "ok",
     "timestamp": 1599722923210,
     "user": {
      "displayName": "권철민",
      "photoUrl": "",
      "userId": "03917677622451543916"
     },
     "user_tz": -540
    },
    "id": "eOu7_hAt5PP4",
    "outputId": "fc919a7a-400b-4450-8bb5-8f22e0978e92"
   },
   "outputs": [
    {
     "name": "stdout",
     "output_type": "stream",
     "text": [
      "<class 'pandas.core.frame.DataFrame'>\n",
      "RangeIndex: 10001358 entries, 0 to 10001357\n",
      "Data columns (total 8 columns):\n",
      " #   Column                 Dtype  \n",
      "---  ------                 -----  \n",
      " 0   SK_ID_PREV             uint32 \n",
      " 1   SK_ID_CURR             uint32 \n",
      " 2   MONTHS_BALANCE         int32  \n",
      " 3   CNT_INSTALMENT         float32\n",
      " 4   CNT_INSTALMENT_FUTURE  float32\n",
      " 5   NAME_CONTRACT_STATUS   object \n",
      " 6   SK_DPD                 int32  \n",
      " 7   SK_DPD_DEF             int32  \n",
      "dtypes: float32(2), int32(3), object(1), uint32(2)\n",
      "memory usage: 343.4+ MB\n"
     ]
    }
   ],
   "source": [
    "pos_bal.info()"
   ]
  },
  {
   "cell_type": "code",
   "execution_count": null,
   "metadata": {
    "colab": {
     "base_uri": "https://localhost:8080/",
     "height": 187
    },
    "colab_type": "code",
    "executionInfo": {
     "elapsed": 1269,
     "status": "ok",
     "timestamp": 1599722925273,
     "user": {
      "displayName": "권철민",
      "photoUrl": "",
      "userId": "03917677622451543916"
     },
     "user_tz": -540
    },
    "id": "7uIREclr5PP9",
    "outputId": "b8da6460-f12d-45ac-ae37-8849c554ed26"
   },
   "outputs": [
    {
     "data": {
      "text/plain": [
       "SK_ID_PREV                   0\n",
       "SK_ID_CURR                   0\n",
       "MONTHS_BALANCE               0\n",
       "CNT_INSTALMENT           26071\n",
       "CNT_INSTALMENT_FUTURE    26087\n",
       "NAME_CONTRACT_STATUS         0\n",
       "SK_DPD                       0\n",
       "SK_DPD_DEF                   0\n",
       "dtype: int64"
      ]
     },
     "execution_count": 18,
     "metadata": {
      "tags": []
     },
     "output_type": "execute_result"
    }
   ],
   "source": [
    "pos_bal.isnull().sum()"
   ]
  },
  {
   "cell_type": "code",
   "execution_count": null,
   "metadata": {
    "colab": {
     "base_uri": "https://localhost:8080/",
     "height": 300
    },
    "colab_type": "code",
    "executionInfo": {
     "elapsed": 522,
     "status": "ok",
     "timestamp": 1599722926343,
     "user": {
      "displayName": "권철민",
      "photoUrl": "",
      "userId": "03917677622451543916"
     },
     "user_tz": -540
    },
    "id": "GpeehwHF5PQB",
    "outputId": "c9a2943d-6c1a-4ade-c31d-3e05eee30b33"
   },
   "outputs": [
    {
     "name": "stdout",
     "output_type": "stream",
     "text": [
      "<class 'pandas.core.frame.DataFrame'>\n",
      "RangeIndex: 13605401 entries, 0 to 13605400\n",
      "Data columns (total 8 columns):\n",
      " #   Column                  Dtype  \n",
      "---  ------                  -----  \n",
      " 0   SK_ID_PREV              uint32 \n",
      " 1   SK_ID_CURR              uint32 \n",
      " 2   NUM_INSTALMENT_VERSION  float32\n",
      " 3   NUM_INSTALMENT_NUMBER   int32  \n",
      " 4   DAYS_INSTALMENT         float32\n",
      " 5   DAYS_ENTRY_PAYMENT      float32\n",
      " 6   AMT_INSTALMENT          float32\n",
      " 7   AMT_PAYMENT             float32\n",
      "dtypes: float32(5), int32(1), uint32(2)\n",
      "memory usage: 415.2 MB\n"
     ]
    }
   ],
   "source": [
    "install.info()"
   ]
  },
  {
   "cell_type": "code",
   "execution_count": null,
   "metadata": {
    "colab": {
     "base_uri": "https://localhost:8080/",
     "height": 187
    },
    "colab_type": "code",
    "executionInfo": {
     "elapsed": 919,
     "status": "ok",
     "timestamp": 1599722927868,
     "user": {
      "displayName": "권철민",
      "photoUrl": "",
      "userId": "03917677622451543916"
     },
     "user_tz": -540
    },
    "id": "ErgS2AAp5PQG",
    "outputId": "dbddc2a1-dd20-4d47-dcf8-ee8bbaea1e44"
   },
   "outputs": [
    {
     "data": {
      "text/plain": [
       "SK_ID_PREV                   0\n",
       "SK_ID_CURR                   0\n",
       "NUM_INSTALMENT_VERSION       0\n",
       "NUM_INSTALMENT_NUMBER        0\n",
       "DAYS_INSTALMENT              0\n",
       "DAYS_ENTRY_PAYMENT        2905\n",
       "AMT_INSTALMENT               0\n",
       "AMT_PAYMENT               2905\n",
       "dtype: int64"
      ]
     },
     "execution_count": 20,
     "metadata": {
      "tags": []
     },
     "output_type": "execute_result"
    }
   ],
   "source": [
    "install.isnull().sum()"
   ]
  },
  {
   "cell_type": "code",
   "execution_count": null,
   "metadata": {
    "colab": {
     "base_uri": "https://localhost:8080/",
     "height": 582
    },
    "colab_type": "code",
    "executionInfo": {
     "elapsed": 606,
     "status": "ok",
     "timestamp": 1599722929084,
     "user": {
      "displayName": "권철민",
      "photoUrl": "",
      "userId": "03917677622451543916"
     },
     "user_tz": -540
    },
    "id": "HG0-osk55PQK",
    "outputId": "10037bd4-2df6-4537-f6ea-13c342f9cb59"
   },
   "outputs": [
    {
     "name": "stdout",
     "output_type": "stream",
     "text": [
      "<class 'pandas.core.frame.DataFrame'>\n",
      "RangeIndex: 3840312 entries, 0 to 3840311\n",
      "Data columns (total 23 columns):\n",
      " #   Column                      Dtype  \n",
      "---  ------                      -----  \n",
      " 0   SK_ID_PREV                  uint32 \n",
      " 1   SK_ID_CURR                  uint32 \n",
      " 2   MONTHS_BALANCE              int16  \n",
      " 3   AMT_BALANCE                 float32\n",
      " 4   AMT_CREDIT_LIMIT_ACTUAL     int32  \n",
      " 5   AMT_DRAWINGS_ATM_CURRENT    float32\n",
      " 6   AMT_DRAWINGS_CURRENT        float32\n",
      " 7   AMT_DRAWINGS_OTHER_CURRENT  float32\n",
      " 8   AMT_DRAWINGS_POS_CURRENT    float32\n",
      " 9   AMT_INST_MIN_REGULARITY     float32\n",
      " 10  AMT_PAYMENT_CURRENT         float32\n",
      " 11  AMT_PAYMENT_TOTAL_CURRENT   float32\n",
      " 12  AMT_RECEIVABLE_PRINCIPAL    float32\n",
      " 13  AMT_RECIVABLE               float32\n",
      " 14  AMT_TOTAL_RECEIVABLE        float32\n",
      " 15  CNT_DRAWINGS_ATM_CURRENT    float32\n",
      " 16  CNT_DRAWINGS_CURRENT        int32  \n",
      " 17  CNT_DRAWINGS_OTHER_CURRENT  float32\n",
      " 18  CNT_DRAWINGS_POS_CURRENT    float32\n",
      " 19  CNT_INSTALMENT_MATURE_CUM   float32\n",
      " 20  NAME_CONTRACT_STATUS        object \n",
      " 21  SK_DPD                      int32  \n",
      " 22  SK_DPD_DEF                  int32  \n",
      "dtypes: float32(15), int16(1), int32(4), object(1), uint32(2)\n",
      "memory usage: 344.3+ MB\n"
     ]
    }
   ],
   "source": [
    "card_bal.info()"
   ]
  },
  {
   "cell_type": "code",
   "execution_count": null,
   "metadata": {
    "colab": {
     "base_uri": "https://localhost:8080/",
     "height": 469
    },
    "colab_type": "code",
    "executionInfo": {
     "elapsed": 1077,
     "status": "ok",
     "timestamp": 1599722931193,
     "user": {
      "displayName": "권철민",
      "photoUrl": "",
      "userId": "03917677622451543916"
     },
     "user_tz": -540
    },
    "id": "rtaoafkx5PQQ",
    "outputId": "7c12bf6a-7144-4bcd-dc55-51493ac7b789"
   },
   "outputs": [
    {
     "data": {
      "text/plain": [
       "SK_ID_PREV                         0\n",
       "SK_ID_CURR                         0\n",
       "MONTHS_BALANCE                     0\n",
       "AMT_BALANCE                        0\n",
       "AMT_CREDIT_LIMIT_ACTUAL            0\n",
       "AMT_DRAWINGS_ATM_CURRENT      749816\n",
       "AMT_DRAWINGS_CURRENT               0\n",
       "AMT_DRAWINGS_OTHER_CURRENT    749816\n",
       "AMT_DRAWINGS_POS_CURRENT      749816\n",
       "AMT_INST_MIN_REGULARITY       305236\n",
       "AMT_PAYMENT_CURRENT           767988\n",
       "AMT_PAYMENT_TOTAL_CURRENT          0\n",
       "AMT_RECEIVABLE_PRINCIPAL           0\n",
       "AMT_RECIVABLE                      0\n",
       "AMT_TOTAL_RECEIVABLE               0\n",
       "CNT_DRAWINGS_ATM_CURRENT      749816\n",
       "CNT_DRAWINGS_CURRENT               0\n",
       "CNT_DRAWINGS_OTHER_CURRENT    749816\n",
       "CNT_DRAWINGS_POS_CURRENT      749816\n",
       "CNT_INSTALMENT_MATURE_CUM     305236\n",
       "NAME_CONTRACT_STATUS               0\n",
       "SK_DPD                             0\n",
       "SK_DPD_DEF                         0\n",
       "dtype: int64"
      ]
     },
     "execution_count": 22,
     "metadata": {
      "tags": []
     },
     "output_type": "execute_result"
    }
   ],
   "source": [
    "card_bal.isnull().sum()"
   ]
  },
  {
   "cell_type": "code",
   "execution_count": null,
   "metadata": {
    "colab": {},
    "colab_type": "code",
    "id": "cXZGuJJA5PQV"
   },
   "outputs": [],
   "source": []
  },
  {
   "cell_type": "markdown",
   "metadata": {
    "colab_type": "text",
    "id": "V0RTT8PC5PQZ"
   },
   "source": [
    "#### POS_CASH 숫자형 피처들의 Histogram을 TARGET 유형에 따라 비교"
   ]
  },
  {
   "cell_type": "code",
   "execution_count": null,
   "metadata": {
    "colab": {
     "base_uri": "https://localhost:8080/",
     "height": 36
    },
    "colab_type": "code",
    "executionInfo": {
     "elapsed": 3523,
     "status": "ok",
     "timestamp": 1599722938241,
     "user": {
      "displayName": "권철민",
      "photoUrl": "",
      "userId": "03917677622451543916"
     },
     "user_tz": -540
    },
    "id": "Nyo3gyJ05PQa",
    "outputId": "057120bc-e985-4dc7-9eb8-6f6419f1fad3"
   },
   "outputs": [
    {
     "name": "stdout",
     "output_type": "stream",
     "text": [
      "['MONTHS_BALANCE', 'CNT_INSTALMENT', 'CNT_INSTALMENT_FUTURE', 'SK_DPD', 'SK_DPD_DEF']\n"
     ]
    }
   ],
   "source": [
    "# TARGET 값을 가져오기 위해 bureau를 apps와 조인 \n",
    "pos_bal_app = pos_bal.merge(apps[['SK_ID_CURR', 'TARGET']], on='SK_ID_CURR', how='left')\n",
    "pos_num_columns = pos_bal_app.dtypes[pos_bal_app.dtypes != 'object'].index.tolist()\n",
    "# 숫자형 컬럼중 ID와 TARGET은 제외\n",
    "pos_num_columns = [column for column in pos_num_columns if column not in['SK_ID_PREV', 'SK_ID_CURR', 'TARGET']]\n",
    "print(pos_num_columns)"
   ]
  },
  {
   "cell_type": "code",
   "execution_count": null,
   "metadata": {
    "colab": {},
    "colab_type": "code",
    "id": "qjHQLA6r5PQf"
   },
   "outputs": [],
   "source": [
    "def show_hist_by_target(df, columns):\n",
    "    cond_1 = (df['TARGET'] == 1)\n",
    "    cond_0 = (df['TARGET'] == 0)\n",
    "    \n",
    "    for column in columns:\n",
    "        print(\"column:\", column)\n",
    "        fig, axs = plt.subplots(nrows=1, ncols=2, figsize=(12, 4), squeeze=False)\n",
    "        # 특정 컬럼값이 infinite로 들어가있는 경우가 있음.  infinite일 경우 KDE histogram 시각화 시 문제 발생하여 이를 제거\n",
    "        sns.violinplot(x='TARGET', y=column, data=df[np.isfinite(df[column])], ax=axs[0][0])\n",
    "        sns.distplot(df[cond_0 & np.isfinite(df[column])][column], label='0', color='blue', ax=axs[0][1])\n",
    "        sns.distplot(df[cond_1 & np.isfinite(df[column])][column], label='1', color='red', ax=axs[0][1])  "
   ]
  },
  {
   "cell_type": "code",
   "execution_count": null,
   "metadata": {
    "colab": {},
    "colab_type": "code",
    "id": "YvV1DYge5PQi"
   },
   "outputs": [],
   "source": [
    "# 데이터 크기가 커서 Violinplot 시 수행 시간이 오래 걸림. \n",
    "def show_hist_by_target_single(df, columns):\n",
    "    cond_1 = (df['TARGET'] == 1)\n",
    "    cond_0 = (df['TARGET'] == 0)\n",
    "    \n",
    "    for column in columns:\n",
    "        print(\"column:\", column)\n",
    "        plt.figure(figsize=(4, 4))\n",
    "        #fig, axs = plt.subplots(nrows=1, ncols=2, figsize=(12, 4), squeeze=False)\n",
    "        # 특정 컬럼값이 infinite로 들어가있는 경우가 있음.  infinite일 경우 KDE histogram 시각화 시 문제 발생하여 이를 제거\n",
    "        #sns.violinplot(x='TARGET', y=column, data=df[np.isfinite(df[column])], ax=axs[0][0])\n",
    "        sns.distplot(df[cond_0][column], label='0', color='blue')\n",
    "        sns.distplot(df[cond_1][column], label='1', color='red')  "
   ]
  },
  {
   "cell_type": "code",
   "execution_count": null,
   "metadata": {
    "colab": {
     "base_uri": "https://localhost:8080/",
     "height": 1000
    },
    "colab_type": "code",
    "executionInfo": {
     "elapsed": 14327,
     "status": "ok",
     "timestamp": 1599722953859,
     "user": {
      "displayName": "권철민",
      "photoUrl": "",
      "userId": "03917677622451543916"
     },
     "user_tz": -540
    },
    "id": "s6762AjL5PQo",
    "outputId": "b255123e-ee9f-4f15-a1a2-80ead238c36e"
   },
   "outputs": [
    {
     "name": "stdout",
     "output_type": "stream",
     "text": [
      "column: MONTHS_BALANCE\n",
      "column: CNT_INSTALMENT\n",
      "column: CNT_INSTALMENT_FUTURE\n",
      "column: SK_DPD\n",
      "column: SK_DPD_DEF\n"
     ]
    },
    {
     "data": {
      "image/png": "[encoded data removed]",
      "text/plain": [
       "<Figure size 288x288 with 1 Axes>"
      ]
     },
     "metadata": {
      "needs_background": "light",
      "tags": []
     },
     "output_type": "display_data"
    },
    {
     "data": {
      "image/png": "[encoded data removed]",
      "text/plain": [
       "<Figure size 288x288 with 1 Axes>"
      ]
     },
     "metadata": {
      "needs_background": "light",
      "tags": []
     },
     "output_type": "display_data"
    },
    {
     "data": {
      "image/png": "[encoded data removed]",
      "text/plain": [
       "<Figure size 288x288 with 1 Axes>"
      ]
     },
     "metadata": {
      "needs_background": "light",
      "tags": []
     },
     "output_type": "display_data"
    },
    {
     "data": {
      "image/png": "[encoded data removed]",
      "text/plain": [
       "<Figure size 288x288 with 1 Axes>"
      ]
     },
     "metadata": {
      "needs_background": "light",
      "tags": []
     },
     "output_type": "display_data"
    },
    {
     "data": {
      "image/png": "[encoded data removed]",
      "text/plain": [
       "<Figure size 288x288 with 1 Axes>"
      ]
     },
     "metadata": {
      "needs_background": "light",
      "tags": []
     },
     "output_type": "display_data"
    }
   ],
   "source": [
    "show_hist_by_target_single(pos_bal_app, pos_num_columns)"
   ]
  },
  {
   "cell_type": "markdown",
   "metadata": {
    "colab_type": "text",
    "id": "5GKbbQuT5PQr"
   },
   "source": [
    "#### INSTALLMENTS 숫자형 피처들의 Histogram을 TARGET 유형에 따라 비교"
   ]
  },
  {
   "cell_type": "code",
   "execution_count": null,
   "metadata": {
    "colab": {},
    "colab_type": "code",
    "id": "pEngYF7b5PQs"
   },
   "outputs": [],
   "source": [
    "# TARGET 값을 가져오기 위해 bureau를 apps와 조인 \n",
    "install_app = install.merge(apps[['SK_ID_CURR', 'TARGET']], on='SK_ID_CURR', how='left')\n",
    "install_num_columns = install_app.dtypes[install_app.dtypes != 'object'].index.tolist()\n",
    "# 숫자형 컬럼중 ID와 |TARGET은 제외\n",
    "install_num_columns = [column for column in install_num_columns if column not in['SK_ID_PREV', 'SK_ID_CURR', 'TARGET']]"
   ]
  },
  {
   "cell_type": "code",
   "execution_count": null,
   "metadata": {
    "colab": {
     "base_uri": "https://localhost:8080/",
     "height": 1000
    },
    "colab_type": "code",
    "executionInfo": {
     "elapsed": 274965,
     "status": "ok",
     "timestamp": 1599723218535,
     "user": {
      "displayName": "권철민",
      "photoUrl": "",
      "userId": "03917677622451543916"
     },
     "user_tz": -540
    },
    "id": "4Ef_qpYk5PQ_",
    "outputId": "8850b1a8-b77c-4118-fff6-3839a2e139c6"
   },
   "outputs": [
    {
     "name": "stdout",
     "output_type": "stream",
     "text": [
      "column: NUM_INSTALMENT_VERSION\n",
      "column: NUM_INSTALMENT_NUMBER\n",
      "column: DAYS_INSTALMENT\n",
      "column: DAYS_ENTRY_PAYMENT\n",
      "column: AMT_INSTALMENT\n",
      "column: AMT_PAYMENT\n"
     ]
    },
    {
     "data": {
      "image/png": "[encoded data removed]",
      "text/plain": [
       "<Figure size 864x288 with 2 Axes>"
      ]
     },
     "metadata": {
      "needs_background": "light",
      "tags": []
     },
     "output_type": "display_data"
    },
    {
     "data": {
      "image/png": "[encoded data removed]",
      "text/plain": [
       "<Figure size 864x288 with 2 Axes>"
      ]
     },
     "metadata": {
      "needs_background": "light",
      "tags": []
     },
     "output_type": "display_data"
    },
    {
     "data": {
      "image/png": "[encoded data removed]",
      "text/plain": [
       "<Figure size 864x288 with 2 Axes>"
      ]
     },
     "metadata": {
      "needs_background": "light",
      "tags": []
     },
     "output_type": "display_data"
    },
    {
     "data": {
      "image/png": "[encoded data removed]",
      "text/plain": [
       "<Figure size 864x288 with 2 Axes>"
      ]
     },
     "metadata": {
      "needs_background": "light",
      "tags": []
     },
     "output_type": "display_data"
    },
    {
     "data": {
      "image/png": "[encoded data removed]",
      "text/plain": [
       "<Figure size 864x288 with 2 Axes>"
      ]
     },
     "metadata": {
      "needs_background": "light",
      "tags": []
     },
     "output_type": "display_data"
    },
    {
     "data": {
      "image/png": "[encoded data removed]",
      "text/plain": [
       "<Figure size 864x288 with 2 Axes>"
      ]
     },
     "metadata": {
      "needs_background": "light",
      "tags": []
     },
     "output_type": "display_data"
    }
   ],
   "source": [
    "show_hist_by_target(install_app, install_num_columns)"
   ]
  },
  {
   "cell_type": "markdown",
   "metadata": {
    "colab_type": "text",
    "id": "0heByfHV5PRD"
   },
   "source": [
    "#### CREDIT_CARD 숫자형 피처들의 Histogram을 TARGET 유형에 따라 비교"
   ]
  },
  {
   "cell_type": "code",
   "execution_count": null,
   "metadata": {
    "colab": {
     "base_uri": "https://localhost:8080/",
     "height": 56
    },
    "colab_type": "code",
    "executionInfo": {
     "elapsed": 274324,
     "status": "ok",
     "timestamp": 1599723219753,
     "user": {
      "displayName": "권철민",
      "photoUrl": "",
      "userId": "03917677622451543916"
     },
     "user_tz": -540
    },
    "id": "Q6yCdXC25PRD",
    "outputId": "800a39ad-a24d-4b95-cf41-fa0796b27c0b"
   },
   "outputs": [
    {
     "name": "stdout",
     "output_type": "stream",
     "text": [
      "['MONTHS_BALANCE', 'AMT_BALANCE', 'AMT_CREDIT_LIMIT_ACTUAL', 'AMT_DRAWINGS_ATM_CURRENT', 'AMT_DRAWINGS_CURRENT', 'AMT_DRAWINGS_OTHER_CURRENT', 'AMT_DRAWINGS_POS_CURRENT', 'AMT_INST_MIN_REGULARITY', 'AMT_PAYMENT_CURRENT', 'AMT_PAYMENT_TOTAL_CURRENT', 'AMT_RECEIVABLE_PRINCIPAL', 'AMT_RECIVABLE', 'AMT_TOTAL_RECEIVABLE', 'CNT_DRAWINGS_ATM_CURRENT', 'CNT_DRAWINGS_CURRENT', 'CNT_DRAWINGS_OTHER_CURRENT', 'CNT_DRAWINGS_POS_CURRENT', 'CNT_INSTALMENT_MATURE_CUM', 'SK_DPD', 'SK_DPD_DEF']\n"
     ]
    }
   ],
   "source": [
    "# TARGET 값을 가져오기 위해 bureau를 apps와 조인 \n",
    "card_bal_app = card_bal.merge(apps[['SK_ID_CURR', 'TARGET']], on='SK_ID_CURR', how='left')\n",
    "card_num_columns = card_bal_app.dtypes[card_bal_app.dtypes != 'object'].index.tolist()\n",
    "# 숫자형 컬럼중 ID와 TARGET은 제외\n",
    "card_num_columns = [column for column in card_num_columns if column not in['SK_ID_PREV', 'SK_ID_CURR', 'TARGET']]\n",
    "print(card_num_columns)"
   ]
  },
  {
   "cell_type": "code",
   "execution_count": null,
   "metadata": {
    "colab": {
     "base_uri": "https://localhost:8080/",
     "height": 130
    },
    "colab_type": "code",
    "id": "h8LnMX2c5PRH",
    "outputId": "7bcd4c43-34c7-4f17-8eb0-aadc28afd16a"
   },
   "outputs": [
    {
     "name": "stdout",
     "output_type": "stream",
     "text": [
      "column: MONTHS_BALANCE\n",
      "column: AMT_BALANCE\n",
      "column: AMT_CREDIT_LIMIT_ACTUAL\n",
      "column: AMT_DRAWINGS_ATM_CURRENT\n",
      "column: AMT_DRAWINGS_CURRENT\n",
      "column: AMT_DRAWINGS_OTHER_CURRENT\n"
     ]
    }
   ],
   "source": [
    "show_hist_by_target(card_bal_app, card_num_columns)"
   ]
  },
  {
   "cell_type": "markdown",
   "metadata": {
    "colab_type": "text",
    "id": "m36wqTeu5PRP"
   },
   "source": [
    "##### category 컬럼들에 대한 분포도 조사\n",
    "* NAME_CONTRACT_STATUS 컬럼외에는 category 컬럼이 없음. "
   ]
  },
  {
   "cell_type": "code",
   "execution_count": null,
   "metadata": {
    "colab": {},
    "colab_type": "code",
    "id": "97BT6joZ5PRQ"
   },
   "outputs": [],
   "source": [
    "pos_bal['NAME_CONTRACT_STATUS'].value_counts()"
   ]
  },
  {
   "cell_type": "code",
   "execution_count": null,
   "metadata": {
    "colab": {},
    "colab_type": "code",
    "id": "oF2mwZgX5PRT"
   },
   "outputs": [],
   "source": [
    "card_bal['NAME_CONTRACT_STATUS'].value_counts()"
   ]
  },
  {
   "cell_type": "markdown",
   "metadata": {
    "colab_type": "text",
    "id": "0VeMa_ni5PRW"
   },
   "source": [
    "### POS_CASH_balance  Feature Engineering"
   ]
  },
  {
   "cell_type": "markdown",
   "metadata": {
    "colab_type": "text",
    "id": "mO4zGNJ15PRX"
   },
   "source": [
    "##### 연체일자(SK_DPD)에 따른 데이터 가공. "
   ]
  },
  {
   "cell_type": "code",
   "execution_count": null,
   "metadata": {
    "colab": {},
    "colab_type": "code",
    "id": "VK0ECoeJ5PRY",
    "outputId": "97fcad59-e1be-40bb-c855-b9d54f7a062d"
   },
   "outputs": [
    {
     "data": {
      "text/plain": [
       "0       9706131\n",
       "1         21872\n",
       "2         17358\n",
       "3         14403\n",
       "4         12350\n",
       "         ...   \n",
       "3278          1\n",
       "3280          1\n",
       "3282          1\n",
       "3284          1\n",
       "4231          1\n",
       "Name: SK_DPD, Length: 3400, dtype: int64"
      ]
     },
     "execution_count": 37,
     "metadata": {
      "tags": []
     },
     "output_type": "execute_result"
    }
   ],
   "source": [
    "pos_bal['SK_DPD'].value_counts()"
   ]
  },
  {
   "cell_type": "code",
   "execution_count": null,
   "metadata": {
    "colab": {},
    "colab_type": "code",
    "id": "iFPL_PAY5PRd",
    "outputId": "4f8bdd56-1eec-4145-ca50-dbbadf3edf40"
   },
   "outputs": [
    {
     "data": {
      "text/plain": [
       "(10001358, 8)"
      ]
     },
     "execution_count": 38,
     "metadata": {
      "tags": []
     },
     "output_type": "execute_result"
    }
   ],
   "source": [
    "pos_bal.shape"
   ]
  },
  {
   "cell_type": "code",
   "execution_count": null,
   "metadata": {
    "colab": {},
    "colab_type": "code",
    "id": "mFBICDkr5PRi",
    "outputId": "66faebf9-ddb8-4760-d8ec-18a7ee528d6e"
   },
   "outputs": [
    {
     "name": "stdout",
     "output_type": "stream",
     "text": [
      "연체 비율: 0.02951869136171308\n",
      "연체 비율 30일 미만, : 0.01631468446584954\n",
      "연체 비율 30일 이상 120이하: 0.0017282653015720465\n",
      "연체 비율 120일 이상: 0.011475741594291496\n"
     ]
    }
   ],
   "source": [
    "# 연체 일자(SK_DPD)가 0 보다 큰 경우, 0-30 사이, 30-120 사이, 120보다 큰 경우 조사 \n",
    "cond_over_0 = pos_bal['SK_DPD'] > 0\n",
    "cond_over_0_30 = (pos_bal['SK_DPD'] > 0) & (pos_bal['SK_DPD'] <=30)\n",
    "cond_over_30_12= (pos_bal['SK_DPD'] > 30) & (pos_bal['SK_DPD'] <120)\n",
    "cond_over_120 = pos_bal['SK_DPD'] >= 120\n",
    "\n",
    "print('연체 비율:', pos_bal[cond_over_0].shape[0]/ pos_bal.shape[0])\n",
    "print('연체 비율 30일 미만, :', pos_bal[cond_over_0_30].shape[0]/ pos_bal.shape[0])\n",
    "print('연체 비율 30일 이상 120이하:', pos_bal[cond_over_30_12].shape[0]/ pos_bal.shape[0])\n",
    "print('연체 비율 120일 이상:', pos_bal[cond_over_120].shape[0]/ pos_bal.shape[0])\n"
   ]
  },
  {
   "cell_type": "code",
   "execution_count": null,
   "metadata": {
    "colab": {},
    "colab_type": "code",
    "id": "zjt4GzpR5PRk"
   },
   "outputs": [],
   "source": [
    "# 연체여부,  연체일수 0~ 120 사이 여부, 연체 일수 120보다 큰 여부 \n",
    "pos_bal['POS_IS_DPD'] = pos_bal['SK_DPD'].apply(lambda x: 1 if x > 0 else 0)\n",
    "pos_bal['POS_IS_DPD_UNDER_120'] = pos_bal['SK_DPD'].apply(lambda x: 1 if (x > 0) & (x < 120) else 0)\n",
    "pos_bal['POS_IS_DPD_OVER_120'] = pos_bal['SK_DPD'].apply(lambda x: 1 if x >= 120 else 0)"
   ]
  },
  {
   "cell_type": "code",
   "execution_count": null,
   "metadata": {
    "colab": {},
    "colab_type": "code",
    "id": "bTXi-tki5PRn",
    "outputId": "cbf569f8-95b3-43b2-9749-1e6b4af30eb1"
   },
   "outputs": [
    {
     "data": {
      "text/html": [
       "<div>\n",
       "<style scoped>\n",
       "    .dataframe tbody tr th:only-of-type {\n",
       "        vertical-align: middle;\n",
       "    }\n",
       "\n",
       "    .dataframe tbody tr th {\n",
       "        vertical-align: top;\n",
       "    }\n",
       "\n",
       "    .dataframe thead th {\n",
       "        text-align: right;\n",
       "    }\n",
       "</style>\n",
       "<table border=\"1\" class=\"dataframe\">\n",
       "  <thead>\n",
       "    <tr style=\"text-align: right;\">\n",
       "      <th></th>\n",
       "      <th>SK_ID_PREV</th>\n",
       "      <th>SK_ID_CURR</th>\n",
       "      <th>MONTHS_BALANCE</th>\n",
       "      <th>CNT_INSTALMENT</th>\n",
       "      <th>CNT_INSTALMENT_FUTURE</th>\n",
       "      <th>NAME_CONTRACT_STATUS</th>\n",
       "      <th>SK_DPD</th>\n",
       "      <th>SK_DPD_DEF</th>\n",
       "      <th>POS_IS_DPD</th>\n",
       "      <th>POS_IS_DPD_UNDER_120</th>\n",
       "      <th>POS_IS_DPD_OVER_120</th>\n",
       "    </tr>\n",
       "  </thead>\n",
       "  <tbody>\n",
       "    <tr>\n",
       "      <th>2252</th>\n",
       "      <td>2562793</td>\n",
       "      <td>287880</td>\n",
       "      <td>-46</td>\n",
       "      <td>7.0</td>\n",
       "      <td>0.0</td>\n",
       "      <td>Active</td>\n",
       "      <td>1105</td>\n",
       "      <td>0</td>\n",
       "      <td>1</td>\n",
       "      <td>0</td>\n",
       "      <td>1</td>\n",
       "    </tr>\n",
       "    <tr>\n",
       "      <th>3507</th>\n",
       "      <td>1290101</td>\n",
       "      <td>322484</td>\n",
       "      <td>-37</td>\n",
       "      <td>6.0</td>\n",
       "      <td>0.0</td>\n",
       "      <td>Active</td>\n",
       "      <td>329</td>\n",
       "      <td>0</td>\n",
       "      <td>1</td>\n",
       "      <td>0</td>\n",
       "      <td>1</td>\n",
       "    </tr>\n",
       "    <tr>\n",
       "      <th>3996</th>\n",
       "      <td>2002705</td>\n",
       "      <td>413918</td>\n",
       "      <td>-48</td>\n",
       "      <td>6.0</td>\n",
       "      <td>0.0</td>\n",
       "      <td>Active</td>\n",
       "      <td>146</td>\n",
       "      <td>0</td>\n",
       "      <td>1</td>\n",
       "      <td>0</td>\n",
       "      <td>1</td>\n",
       "    </tr>\n",
       "    <tr>\n",
       "      <th>4438</th>\n",
       "      <td>1184431</td>\n",
       "      <td>369596</td>\n",
       "      <td>-44</td>\n",
       "      <td>6.0</td>\n",
       "      <td>0.0</td>\n",
       "      <td>Active</td>\n",
       "      <td>173</td>\n",
       "      <td>0</td>\n",
       "      <td>1</td>\n",
       "      <td>0</td>\n",
       "      <td>1</td>\n",
       "    </tr>\n",
       "    <tr>\n",
       "      <th>5234</th>\n",
       "      <td>1526249</td>\n",
       "      <td>275666</td>\n",
       "      <td>-39</td>\n",
       "      <td>12.0</td>\n",
       "      <td>0.0</td>\n",
       "      <td>Active</td>\n",
       "      <td>798</td>\n",
       "      <td>0</td>\n",
       "      <td>1</td>\n",
       "      <td>0</td>\n",
       "      <td>1</td>\n",
       "    </tr>\n",
       "    <tr>\n",
       "      <th>5290</th>\n",
       "      <td>2273596</td>\n",
       "      <td>343663</td>\n",
       "      <td>-45</td>\n",
       "      <td>6.0</td>\n",
       "      <td>0.0</td>\n",
       "      <td>Active</td>\n",
       "      <td>143</td>\n",
       "      <td>0</td>\n",
       "      <td>1</td>\n",
       "      <td>0</td>\n",
       "      <td>1</td>\n",
       "    </tr>\n",
       "    <tr>\n",
       "      <th>5787</th>\n",
       "      <td>1473810</td>\n",
       "      <td>167948</td>\n",
       "      <td>-40</td>\n",
       "      <td>12.0</td>\n",
       "      <td>0.0</td>\n",
       "      <td>Active</td>\n",
       "      <td>566</td>\n",
       "      <td>0</td>\n",
       "      <td>1</td>\n",
       "      <td>0</td>\n",
       "      <td>1</td>\n",
       "    </tr>\n",
       "    <tr>\n",
       "      <th>5788</th>\n",
       "      <td>2749600</td>\n",
       "      <td>365698</td>\n",
       "      <td>-35</td>\n",
       "      <td>12.0</td>\n",
       "      <td>0.0</td>\n",
       "      <td>Active</td>\n",
       "      <td>566</td>\n",
       "      <td>0</td>\n",
       "      <td>1</td>\n",
       "      <td>0</td>\n",
       "      <td>1</td>\n",
       "    </tr>\n",
       "    <tr>\n",
       "      <th>5904</th>\n",
       "      <td>1463725</td>\n",
       "      <td>265782</td>\n",
       "      <td>-36</td>\n",
       "      <td>6.0</td>\n",
       "      <td>0.0</td>\n",
       "      <td>Active</td>\n",
       "      <td>324</td>\n",
       "      <td>0</td>\n",
       "      <td>1</td>\n",
       "      <td>0</td>\n",
       "      <td>1</td>\n",
       "    </tr>\n",
       "    <tr>\n",
       "      <th>5918</th>\n",
       "      <td>2797839</td>\n",
       "      <td>172911</td>\n",
       "      <td>-39</td>\n",
       "      <td>6.0</td>\n",
       "      <td>0.0</td>\n",
       "      <td>Active</td>\n",
       "      <td>182</td>\n",
       "      <td>0</td>\n",
       "      <td>1</td>\n",
       "      <td>0</td>\n",
       "      <td>1</td>\n",
       "    </tr>\n",
       "    <tr>\n",
       "      <th>6692</th>\n",
       "      <td>1526249</td>\n",
       "      <td>275666</td>\n",
       "      <td>-32</td>\n",
       "      <td>12.0</td>\n",
       "      <td>0.0</td>\n",
       "      <td>Active</td>\n",
       "      <td>1013</td>\n",
       "      <td>0</td>\n",
       "      <td>1</td>\n",
       "      <td>0</td>\n",
       "      <td>1</td>\n",
       "    </tr>\n",
       "    <tr>\n",
       "      <th>14125</th>\n",
       "      <td>1029381</td>\n",
       "      <td>284568</td>\n",
       "      <td>-76</td>\n",
       "      <td>4.0</td>\n",
       "      <td>0.0</td>\n",
       "      <td>Active</td>\n",
       "      <td>295</td>\n",
       "      <td>0</td>\n",
       "      <td>1</td>\n",
       "      <td>0</td>\n",
       "      <td>1</td>\n",
       "    </tr>\n",
       "    <tr>\n",
       "      <th>14132</th>\n",
       "      <td>2327278</td>\n",
       "      <td>277313</td>\n",
       "      <td>-77</td>\n",
       "      <td>4.0</td>\n",
       "      <td>0.0</td>\n",
       "      <td>Active</td>\n",
       "      <td>256</td>\n",
       "      <td>0</td>\n",
       "      <td>1</td>\n",
       "      <td>0</td>\n",
       "      <td>1</td>\n",
       "    </tr>\n",
       "    <tr>\n",
       "      <th>17647</th>\n",
       "      <td>1566317</td>\n",
       "      <td>268078</td>\n",
       "      <td>-62</td>\n",
       "      <td>6.0</td>\n",
       "      <td>0.0</td>\n",
       "      <td>Demand</td>\n",
       "      <td>134</td>\n",
       "      <td>134</td>\n",
       "      <td>1</td>\n",
       "      <td>0</td>\n",
       "      <td>1</td>\n",
       "    </tr>\n",
       "    <tr>\n",
       "      <th>23992</th>\n",
       "      <td>1126258</td>\n",
       "      <td>201572</td>\n",
       "      <td>-6</td>\n",
       "      <td>18.0</td>\n",
       "      <td>0.0</td>\n",
       "      <td>Active</td>\n",
       "      <td>614</td>\n",
       "      <td>0</td>\n",
       "      <td>1</td>\n",
       "      <td>0</td>\n",
       "      <td>1</td>\n",
       "    </tr>\n",
       "    <tr>\n",
       "      <th>25093</th>\n",
       "      <td>1143908</td>\n",
       "      <td>217876</td>\n",
       "      <td>-14</td>\n",
       "      <td>6.0</td>\n",
       "      <td>0.0</td>\n",
       "      <td>Active</td>\n",
       "      <td>751</td>\n",
       "      <td>0</td>\n",
       "      <td>1</td>\n",
       "      <td>0</td>\n",
       "      <td>1</td>\n",
       "    </tr>\n",
       "    <tr>\n",
       "      <th>33948</th>\n",
       "      <td>2611445</td>\n",
       "      <td>427217</td>\n",
       "      <td>-11</td>\n",
       "      <td>15.0</td>\n",
       "      <td>0.0</td>\n",
       "      <td>Active</td>\n",
       "      <td>2214</td>\n",
       "      <td>0</td>\n",
       "      <td>1</td>\n",
       "      <td>0</td>\n",
       "      <td>1</td>\n",
       "    </tr>\n",
       "    <tr>\n",
       "      <th>35788</th>\n",
       "      <td>2477107</td>\n",
       "      <td>292444</td>\n",
       "      <td>-16</td>\n",
       "      <td>18.0</td>\n",
       "      <td>0.0</td>\n",
       "      <td>Active</td>\n",
       "      <td>488</td>\n",
       "      <td>0</td>\n",
       "      <td>1</td>\n",
       "      <td>0</td>\n",
       "      <td>1</td>\n",
       "    </tr>\n",
       "    <tr>\n",
       "      <th>41536</th>\n",
       "      <td>2683350</td>\n",
       "      <td>276351</td>\n",
       "      <td>-41</td>\n",
       "      <td>4.0</td>\n",
       "      <td>0.0</td>\n",
       "      <td>Demand</td>\n",
       "      <td>203</td>\n",
       "      <td>203</td>\n",
       "      <td>1</td>\n",
       "      <td>0</td>\n",
       "      <td>1</td>\n",
       "    </tr>\n",
       "    <tr>\n",
       "      <th>48012</th>\n",
       "      <td>1136347</td>\n",
       "      <td>234153</td>\n",
       "      <td>-41</td>\n",
       "      <td>12.0</td>\n",
       "      <td>0.0</td>\n",
       "      <td>Completed</td>\n",
       "      <td>1447</td>\n",
       "      <td>0</td>\n",
       "      <td>1</td>\n",
       "      <td>0</td>\n",
       "      <td>1</td>\n",
       "    </tr>\n",
       "  </tbody>\n",
       "</table>\n",
       "</div>"
      ],
      "text/plain": [
       "       SK_ID_PREV  SK_ID_CURR  MONTHS_BALANCE  CNT_INSTALMENT  \\\n",
       "2252      2562793      287880             -46             7.0   \n",
       "3507      1290101      322484             -37             6.0   \n",
       "3996      2002705      413918             -48             6.0   \n",
       "4438      1184431      369596             -44             6.0   \n",
       "5234      1526249      275666             -39            12.0   \n",
       "5290      2273596      343663             -45             6.0   \n",
       "5787      1473810      167948             -40            12.0   \n",
       "5788      2749600      365698             -35            12.0   \n",
       "5904      1463725      265782             -36             6.0   \n",
       "5918      2797839      172911             -39             6.0   \n",
       "6692      1526249      275666             -32            12.0   \n",
       "14125     1029381      284568             -76             4.0   \n",
       "14132     2327278      277313             -77             4.0   \n",
       "17647     1566317      268078             -62             6.0   \n",
       "23992     1126258      201572              -6            18.0   \n",
       "25093     1143908      217876             -14             6.0   \n",
       "33948     2611445      427217             -11            15.0   \n",
       "35788     2477107      292444             -16            18.0   \n",
       "41536     2683350      276351             -41             4.0   \n",
       "48012     1136347      234153             -41            12.0   \n",
       "\n",
       "       CNT_INSTALMENT_FUTURE NAME_CONTRACT_STATUS  SK_DPD  SK_DPD_DEF  \\\n",
       "2252                     0.0               Active    1105           0   \n",
       "3507                     0.0               Active     329           0   \n",
       "3996                     0.0               Active     146           0   \n",
       "4438                     0.0               Active     173           0   \n",
       "5234                     0.0               Active     798           0   \n",
       "5290                     0.0               Active     143           0   \n",
       "5787                     0.0               Active     566           0   \n",
       "5788                     0.0               Active     566           0   \n",
       "5904                     0.0               Active     324           0   \n",
       "5918                     0.0               Active     182           0   \n",
       "6692                     0.0               Active    1013           0   \n",
       "14125                    0.0               Active     295           0   \n",
       "14132                    0.0               Active     256           0   \n",
       "17647                    0.0               Demand     134         134   \n",
       "23992                    0.0               Active     614           0   \n",
       "25093                    0.0               Active     751           0   \n",
       "33948                    0.0               Active    2214           0   \n",
       "35788                    0.0               Active     488           0   \n",
       "41536                    0.0               Demand     203         203   \n",
       "48012                    0.0            Completed    1447           0   \n",
       "\n",
       "       POS_IS_DPD  POS_IS_DPD_UNDER_120  POS_IS_DPD_OVER_120  \n",
       "2252            1                     0                    1  \n",
       "3507            1                     0                    1  \n",
       "3996            1                     0                    1  \n",
       "4438            1                     0                    1  \n",
       "5234            1                     0                    1  \n",
       "5290            1                     0                    1  \n",
       "5787            1                     0                    1  \n",
       "5788            1                     0                    1  \n",
       "5904            1                     0                    1  \n",
       "5918            1                     0                    1  \n",
       "6692            1                     0                    1  \n",
       "14125           1                     0                    1  \n",
       "14132           1                     0                    1  \n",
       "17647           1                     0                    1  \n",
       "23992           1                     0                    1  \n",
       "25093           1                     0                    1  \n",
       "33948           1                     0                    1  \n",
       "35788           1                     0                    1  \n",
       "41536           1                     0                    1  \n",
       "48012           1                     0                    1  "
      ]
     },
     "execution_count": 44,
     "metadata": {
      "tags": []
     },
     "output_type": "execute_result"
    }
   ],
   "source": [
    "pos_bal[cond_over_120 ].head(20)"
   ]
  },
  {
   "cell_type": "markdown",
   "metadata": {
    "colab_type": "text",
    "id": "QRWUemi15PRq"
   },
   "source": [
    "##### 기존 컬럼과 신규 컬럼으로 SK_ID_CURR 레벨로 신규 aggregation 컬럼 생성. "
   ]
  },
  {
   "cell_type": "code",
   "execution_count": null,
   "metadata": {
    "colab": {},
    "colab_type": "code",
    "id": "_rMCMls95PRq"
   },
   "outputs": [],
   "source": [
    "pos_bal_grp = pos_bal.groupby('SK_ID_CURR')\n",
    "pos_bal_agg_dict = {\n",
    "    'SK_ID_CURR':['count'], \n",
    "    'MONTHS_BALANCE':['min', 'mean', 'max'], \n",
    "    'SK_DPD':['min', 'max', 'mean'],\n",
    "    # 가공 컬럼\n",
    "    'POS_IS_DPD':['mean', 'sum'],\n",
    "    'POS_IS_DPD_UNDER_120':['mean', 'sum'],\n",
    "    'POS_IS_DPD_OVER_120':['mean', 'sum']\n",
    "}\n",
    "\n",
    "# SK_ID_CURR레벨로 Aggregation 컬럼들 aggregation groupby 수행.   \n",
    "pos_bal_agg = pos_bal_grp.agg(pos_bal_agg_dict)\n",
    "# 컬럼 변경 \n",
    "pos_bal_agg.columns = [('POS_')+('_').join(column).upper() for column in pos_bal_agg.columns.ravel()]"
   ]
  },
  {
   "cell_type": "code",
   "execution_count": null,
   "metadata": {
    "colab": {},
    "colab_type": "code",
    "id": "y9aiWa--5PRt",
    "outputId": "02bd5d80-45c9-47b1-b53b-7adbb4b81f36"
   },
   "outputs": [
    {
     "data": {
      "text/html": [
       "<div>\n",
       "<style scoped>\n",
       "    .dataframe tbody tr th:only-of-type {\n",
       "        vertical-align: middle;\n",
       "    }\n",
       "\n",
       "    .dataframe tbody tr th {\n",
       "        vertical-align: top;\n",
       "    }\n",
       "\n",
       "    .dataframe thead th {\n",
       "        text-align: right;\n",
       "    }\n",
       "</style>\n",
       "<table border=\"1\" class=\"dataframe\">\n",
       "  <thead>\n",
       "    <tr style=\"text-align: right;\">\n",
       "      <th></th>\n",
       "      <th>POS_SK_ID_CURR_COUNT</th>\n",
       "      <th>POS_MONTHS_BALANCE_MIN</th>\n",
       "      <th>POS_MONTHS_BALANCE_MEAN</th>\n",
       "      <th>POS_MONTHS_BALANCE_MAX</th>\n",
       "      <th>POS_SK_DPD_MIN</th>\n",
       "      <th>POS_SK_DPD_MAX</th>\n",
       "      <th>POS_SK_DPD_MEAN</th>\n",
       "      <th>POS_POS_IS_DPD_MEAN</th>\n",
       "      <th>POS_POS_IS_DPD_SUM</th>\n",
       "      <th>POS_POS_IS_DPD_UNDER_120_MEAN</th>\n",
       "      <th>POS_POS_IS_DPD_UNDER_120_SUM</th>\n",
       "      <th>POS_POS_IS_DPD_OVER_120_MEAN</th>\n",
       "      <th>POS_POS_IS_DPD_OVER_120_SUM</th>\n",
       "    </tr>\n",
       "    <tr>\n",
       "      <th>SK_ID_CURR</th>\n",
       "      <th></th>\n",
       "      <th></th>\n",
       "      <th></th>\n",
       "      <th></th>\n",
       "      <th></th>\n",
       "      <th></th>\n",
       "      <th></th>\n",
       "      <th></th>\n",
       "      <th></th>\n",
       "      <th></th>\n",
       "      <th></th>\n",
       "      <th></th>\n",
       "      <th></th>\n",
       "    </tr>\n",
       "  </thead>\n",
       "  <tbody>\n",
       "    <tr>\n",
       "      <th>100001</th>\n",
       "      <td>9</td>\n",
       "      <td>-96</td>\n",
       "      <td>-72.555556</td>\n",
       "      <td>-53</td>\n",
       "      <td>0</td>\n",
       "      <td>7</td>\n",
       "      <td>0.777778</td>\n",
       "      <td>0.111111</td>\n",
       "      <td>1</td>\n",
       "      <td>0.111111</td>\n",
       "      <td>1</td>\n",
       "      <td>0.000000</td>\n",
       "      <td>0</td>\n",
       "    </tr>\n",
       "    <tr>\n",
       "      <th>100002</th>\n",
       "      <td>19</td>\n",
       "      <td>-19</td>\n",
       "      <td>-10.000000</td>\n",
       "      <td>-1</td>\n",
       "      <td>0</td>\n",
       "      <td>0</td>\n",
       "      <td>0.000000</td>\n",
       "      <td>0.000000</td>\n",
       "      <td>0</td>\n",
       "      <td>0.000000</td>\n",
       "      <td>0</td>\n",
       "      <td>0.000000</td>\n",
       "      <td>0</td>\n",
       "    </tr>\n",
       "    <tr>\n",
       "      <th>100003</th>\n",
       "      <td>28</td>\n",
       "      <td>-77</td>\n",
       "      <td>-43.785714</td>\n",
       "      <td>-18</td>\n",
       "      <td>0</td>\n",
       "      <td>0</td>\n",
       "      <td>0.000000</td>\n",
       "      <td>0.000000</td>\n",
       "      <td>0</td>\n",
       "      <td>0.000000</td>\n",
       "      <td>0</td>\n",
       "      <td>0.000000</td>\n",
       "      <td>0</td>\n",
       "    </tr>\n",
       "    <tr>\n",
       "      <th>100004</th>\n",
       "      <td>4</td>\n",
       "      <td>-27</td>\n",
       "      <td>-25.500000</td>\n",
       "      <td>-24</td>\n",
       "      <td>0</td>\n",
       "      <td>0</td>\n",
       "      <td>0.000000</td>\n",
       "      <td>0.000000</td>\n",
       "      <td>0</td>\n",
       "      <td>0.000000</td>\n",
       "      <td>0</td>\n",
       "      <td>0.000000</td>\n",
       "      <td>0</td>\n",
       "    </tr>\n",
       "    <tr>\n",
       "      <th>100005</th>\n",
       "      <td>11</td>\n",
       "      <td>-25</td>\n",
       "      <td>-20.000000</td>\n",
       "      <td>-15</td>\n",
       "      <td>0</td>\n",
       "      <td>0</td>\n",
       "      <td>0.000000</td>\n",
       "      <td>0.000000</td>\n",
       "      <td>0</td>\n",
       "      <td>0.000000</td>\n",
       "      <td>0</td>\n",
       "      <td>0.000000</td>\n",
       "      <td>0</td>\n",
       "    </tr>\n",
       "    <tr>\n",
       "      <th>100006</th>\n",
       "      <td>21</td>\n",
       "      <td>-20</td>\n",
       "      <td>-9.619048</td>\n",
       "      <td>-1</td>\n",
       "      <td>0</td>\n",
       "      <td>0</td>\n",
       "      <td>0.000000</td>\n",
       "      <td>0.000000</td>\n",
       "      <td>0</td>\n",
       "      <td>0.000000</td>\n",
       "      <td>0</td>\n",
       "      <td>0.000000</td>\n",
       "      <td>0</td>\n",
       "    </tr>\n",
       "    <tr>\n",
       "      <th>100007</th>\n",
       "      <td>66</td>\n",
       "      <td>-77</td>\n",
       "      <td>-33.636364</td>\n",
       "      <td>-1</td>\n",
       "      <td>0</td>\n",
       "      <td>0</td>\n",
       "      <td>0.000000</td>\n",
       "      <td>0.000000</td>\n",
       "      <td>0</td>\n",
       "      <td>0.000000</td>\n",
       "      <td>0</td>\n",
       "      <td>0.000000</td>\n",
       "      <td>0</td>\n",
       "    </tr>\n",
       "    <tr>\n",
       "      <th>100008</th>\n",
       "      <td>83</td>\n",
       "      <td>-84</td>\n",
       "      <td>-43.662651</td>\n",
       "      <td>-2</td>\n",
       "      <td>0</td>\n",
       "      <td>1294</td>\n",
       "      <td>339.060241</td>\n",
       "      <td>0.518072</td>\n",
       "      <td>43</td>\n",
       "      <td>0.048193</td>\n",
       "      <td>4</td>\n",
       "      <td>0.469880</td>\n",
       "      <td>39</td>\n",
       "    </tr>\n",
       "    <tr>\n",
       "      <th>100009</th>\n",
       "      <td>64</td>\n",
       "      <td>-96</td>\n",
       "      <td>-33.062500</td>\n",
       "      <td>-1</td>\n",
       "      <td>0</td>\n",
       "      <td>0</td>\n",
       "      <td>0.000000</td>\n",
       "      <td>0.000000</td>\n",
       "      <td>0</td>\n",
       "      <td>0.000000</td>\n",
       "      <td>0</td>\n",
       "      <td>0.000000</td>\n",
       "      <td>0</td>\n",
       "    </tr>\n",
       "    <tr>\n",
       "      <th>100010</th>\n",
       "      <td>11</td>\n",
       "      <td>-35</td>\n",
       "      <td>-30.000000</td>\n",
       "      <td>-25</td>\n",
       "      <td>0</td>\n",
       "      <td>0</td>\n",
       "      <td>0.000000</td>\n",
       "      <td>0.000000</td>\n",
       "      <td>0</td>\n",
       "      <td>0.000000</td>\n",
       "      <td>0</td>\n",
       "      <td>0.000000</td>\n",
       "      <td>0</td>\n",
       "    </tr>\n",
       "    <tr>\n",
       "      <th>100011</th>\n",
       "      <td>75</td>\n",
       "      <td>-83</td>\n",
       "      <td>-46.400000</td>\n",
       "      <td>-10</td>\n",
       "      <td>0</td>\n",
       "      <td>952</td>\n",
       "      <td>205.666667</td>\n",
       "      <td>0.466667</td>\n",
       "      <td>35</td>\n",
       "      <td>0.093333</td>\n",
       "      <td>7</td>\n",
       "      <td>0.373333</td>\n",
       "      <td>28</td>\n",
       "    </tr>\n",
       "    <tr>\n",
       "      <th>100012</th>\n",
       "      <td>46</td>\n",
       "      <td>-55</td>\n",
       "      <td>-22.086957</td>\n",
       "      <td>-5</td>\n",
       "      <td>0</td>\n",
       "      <td>0</td>\n",
       "      <td>0.000000</td>\n",
       "      <td>0.000000</td>\n",
       "      <td>0</td>\n",
       "      <td>0.000000</td>\n",
       "      <td>0</td>\n",
       "      <td>0.000000</td>\n",
       "      <td>0</td>\n",
       "    </tr>\n",
       "    <tr>\n",
       "      <th>100013</th>\n",
       "      <td>36</td>\n",
       "      <td>-66</td>\n",
       "      <td>-29.555556</td>\n",
       "      <td>-3</td>\n",
       "      <td>0</td>\n",
       "      <td>18</td>\n",
       "      <td>0.944444</td>\n",
       "      <td>0.055556</td>\n",
       "      <td>2</td>\n",
       "      <td>0.055556</td>\n",
       "      <td>2</td>\n",
       "      <td>0.000000</td>\n",
       "      <td>0</td>\n",
       "    </tr>\n",
       "    <tr>\n",
       "      <th>100014</th>\n",
       "      <td>16</td>\n",
       "      <td>-28</td>\n",
       "      <td>-18.250000</td>\n",
       "      <td>-1</td>\n",
       "      <td>0</td>\n",
       "      <td>0</td>\n",
       "      <td>0.000000</td>\n",
       "      <td>0.000000</td>\n",
       "      <td>0</td>\n",
       "      <td>0.000000</td>\n",
       "      <td>0</td>\n",
       "      <td>0.000000</td>\n",
       "      <td>0</td>\n",
       "    </tr>\n",
       "    <tr>\n",
       "      <th>100015</th>\n",
       "      <td>11</td>\n",
       "      <td>-79</td>\n",
       "      <td>-74.000000</td>\n",
       "      <td>-69</td>\n",
       "      <td>0</td>\n",
       "      <td>13</td>\n",
       "      <td>1.181818</td>\n",
       "      <td>0.090909</td>\n",
       "      <td>1</td>\n",
       "      <td>0.090909</td>\n",
       "      <td>1</td>\n",
       "      <td>0.000000</td>\n",
       "      <td>0</td>\n",
       "    </tr>\n",
       "    <tr>\n",
       "      <th>100016</th>\n",
       "      <td>67</td>\n",
       "      <td>-96</td>\n",
       "      <td>-48.253731</td>\n",
       "      <td>-18</td>\n",
       "      <td>0</td>\n",
       "      <td>0</td>\n",
       "      <td>0.000000</td>\n",
       "      <td>0.000000</td>\n",
       "      <td>0</td>\n",
       "      <td>0.000000</td>\n",
       "      <td>0</td>\n",
       "      <td>0.000000</td>\n",
       "      <td>0</td>\n",
       "    </tr>\n",
       "    <tr>\n",
       "      <th>100017</th>\n",
       "      <td>31</td>\n",
       "      <td>-80</td>\n",
       "      <td>-33.387097</td>\n",
       "      <td>-1</td>\n",
       "      <td>0</td>\n",
       "      <td>0</td>\n",
       "      <td>0.000000</td>\n",
       "      <td>0.000000</td>\n",
       "      <td>0</td>\n",
       "      <td>0.000000</td>\n",
       "      <td>0</td>\n",
       "      <td>0.000000</td>\n",
       "      <td>0</td>\n",
       "    </tr>\n",
       "    <tr>\n",
       "      <th>100018</th>\n",
       "      <td>25</td>\n",
       "      <td>-54</td>\n",
       "      <td>-33.880000</td>\n",
       "      <td>-2</td>\n",
       "      <td>0</td>\n",
       "      <td>0</td>\n",
       "      <td>0.000000</td>\n",
       "      <td>0.000000</td>\n",
       "      <td>0</td>\n",
       "      <td>0.000000</td>\n",
       "      <td>0</td>\n",
       "      <td>0.000000</td>\n",
       "      <td>0</td>\n",
       "    </tr>\n",
       "    <tr>\n",
       "      <th>100019</th>\n",
       "      <td>8</td>\n",
       "      <td>-31</td>\n",
       "      <td>-27.500000</td>\n",
       "      <td>-24</td>\n",
       "      <td>0</td>\n",
       "      <td>0</td>\n",
       "      <td>0.000000</td>\n",
       "      <td>0.000000</td>\n",
       "      <td>0</td>\n",
       "      <td>0.000000</td>\n",
       "      <td>0</td>\n",
       "      <td>0.000000</td>\n",
       "      <td>0</td>\n",
       "    </tr>\n",
       "    <tr>\n",
       "      <th>100020</th>\n",
       "      <td>14</td>\n",
       "      <td>-16</td>\n",
       "      <td>-9.000000</td>\n",
       "      <td>-2</td>\n",
       "      <td>0</td>\n",
       "      <td>0</td>\n",
       "      <td>0.000000</td>\n",
       "      <td>0.000000</td>\n",
       "      <td>0</td>\n",
       "      <td>0.000000</td>\n",
       "      <td>0</td>\n",
       "      <td>0.000000</td>\n",
       "      <td>0</td>\n",
       "    </tr>\n",
       "  </tbody>\n",
       "</table>\n",
       "</div>"
      ],
      "text/plain": [
       "            POS_SK_ID_CURR_COUNT  POS_MONTHS_BALANCE_MIN  \\\n",
       "SK_ID_CURR                                                 \n",
       "100001                         9                     -96   \n",
       "100002                        19                     -19   \n",
       "100003                        28                     -77   \n",
       "100004                         4                     -27   \n",
       "100005                        11                     -25   \n",
       "100006                        21                     -20   \n",
       "100007                        66                     -77   \n",
       "100008                        83                     -84   \n",
       "100009                        64                     -96   \n",
       "100010                        11                     -35   \n",
       "100011                        75                     -83   \n",
       "100012                        46                     -55   \n",
       "100013                        36                     -66   \n",
       "100014                        16                     -28   \n",
       "100015                        11                     -79   \n",
       "100016                        67                     -96   \n",
       "100017                        31                     -80   \n",
       "100018                        25                     -54   \n",
       "100019                         8                     -31   \n",
       "100020                        14                     -16   \n",
       "\n",
       "            POS_MONTHS_BALANCE_MEAN  POS_MONTHS_BALANCE_MAX  POS_SK_DPD_MIN  \\\n",
       "SK_ID_CURR                                                                    \n",
       "100001                   -72.555556                     -53               0   \n",
       "100002                   -10.000000                      -1               0   \n",
       "100003                   -43.785714                     -18               0   \n",
       "100004                   -25.500000                     -24               0   \n",
       "100005                   -20.000000                     -15               0   \n",
       "100006                    -9.619048                      -1               0   \n",
       "100007                   -33.636364                      -1               0   \n",
       "100008                   -43.662651                      -2               0   \n",
       "100009                   -33.062500                      -1               0   \n",
       "100010                   -30.000000                     -25               0   \n",
       "100011                   -46.400000                     -10               0   \n",
       "100012                   -22.086957                      -5               0   \n",
       "100013                   -29.555556                      -3               0   \n",
       "100014                   -18.250000                      -1               0   \n",
       "100015                   -74.000000                     -69               0   \n",
       "100016                   -48.253731                     -18               0   \n",
       "100017                   -33.387097                      -1               0   \n",
       "100018                   -33.880000                      -2               0   \n",
       "100019                   -27.500000                     -24               0   \n",
       "100020                    -9.000000                      -2               0   \n",
       "\n",
       "            POS_SK_DPD_MAX  POS_SK_DPD_MEAN  POS_POS_IS_DPD_MEAN  \\\n",
       "SK_ID_CURR                                                         \n",
       "100001                   7         0.777778             0.111111   \n",
       "100002                   0         0.000000             0.000000   \n",
       "100003                   0         0.000000             0.000000   \n",
       "100004                   0         0.000000             0.000000   \n",
       "100005                   0         0.000000             0.000000   \n",
       "100006                   0         0.000000             0.000000   \n",
       "100007                   0         0.000000             0.000000   \n",
       "100008                1294       339.060241             0.518072   \n",
       "100009                   0         0.000000             0.000000   \n",
       "100010                   0         0.000000             0.000000   \n",
       "100011                 952       205.666667             0.466667   \n",
       "100012                   0         0.000000             0.000000   \n",
       "100013                  18         0.944444             0.055556   \n",
       "100014                   0         0.000000             0.000000   \n",
       "100015                  13         1.181818             0.090909   \n",
       "100016                   0         0.000000             0.000000   \n",
       "100017                   0         0.000000             0.000000   \n",
       "100018                   0         0.000000             0.000000   \n",
       "100019                   0         0.000000             0.000000   \n",
       "100020                   0         0.000000             0.000000   \n",
       "\n",
       "            POS_POS_IS_DPD_SUM  POS_POS_IS_DPD_UNDER_120_MEAN  \\\n",
       "SK_ID_CURR                                                      \n",
       "100001                       1                       0.111111   \n",
       "100002                       0                       0.000000   \n",
       "100003                       0                       0.000000   \n",
       "100004                       0                       0.000000   \n",
       "100005                       0                       0.000000   \n",
       "100006                       0                       0.000000   \n",
       "100007                       0                       0.000000   \n",
       "100008                      43                       0.048193   \n",
       "100009                       0                       0.000000   \n",
       "100010                       0                       0.000000   \n",
       "100011                      35                       0.093333   \n",
       "100012                       0                       0.000000   \n",
       "100013                       2                       0.055556   \n",
       "100014                       0                       0.000000   \n",
       "100015                       1                       0.090909   \n",
       "100016                       0                       0.000000   \n",
       "100017                       0                       0.000000   \n",
       "100018                       0                       0.000000   \n",
       "100019                       0                       0.000000   \n",
       "100020                       0                       0.000000   \n",
       "\n",
       "            POS_POS_IS_DPD_UNDER_120_SUM  POS_POS_IS_DPD_OVER_120_MEAN  \\\n",
       "SK_ID_CURR                                                               \n",
       "100001                                 1                      0.000000   \n",
       "100002                                 0                      0.000000   \n",
       "100003                                 0                      0.000000   \n",
       "100004                                 0                      0.000000   \n",
       "100005                                 0                      0.000000   \n",
       "100006                                 0                      0.000000   \n",
       "100007                                 0                      0.000000   \n",
       "100008                                 4                      0.469880   \n",
       "100009                                 0                      0.000000   \n",
       "100010                                 0                      0.000000   \n",
       "100011                                 7                      0.373333   \n",
       "100012                                 0                      0.000000   \n",
       "100013                                 2                      0.000000   \n",
       "100014                                 0                      0.000000   \n",
       "100015                                 1                      0.000000   \n",
       "100016                                 0                      0.000000   \n",
       "100017                                 0                      0.000000   \n",
       "100018                                 0                      0.000000   \n",
       "100019                                 0                      0.000000   \n",
       "100020                                 0                      0.000000   \n",
       "\n",
       "            POS_POS_IS_DPD_OVER_120_SUM  \n",
       "SK_ID_CURR                               \n",
       "100001                                0  \n",
       "100002                                0  \n",
       "100003                                0  \n",
       "100004                                0  \n",
       "100005                                0  \n",
       "100006                                0  \n",
       "100007                                0  \n",
       "100008                               39  \n",
       "100009                                0  \n",
       "100010                                0  \n",
       "100011                               28  \n",
       "100012                                0  \n",
       "100013                                0  \n",
       "100014                                0  \n",
       "100015                                0  \n",
       "100016                                0  \n",
       "100017                                0  \n",
       "100018                                0  \n",
       "100019                                0  \n",
       "100020                                0  "
      ]
     },
     "execution_count": 47,
     "metadata": {
      "tags": []
     },
     "output_type": "execute_result"
    }
   ],
   "source": [
    "pos_bal_agg.head(20)"
   ]
  },
  {
   "cell_type": "markdown",
   "metadata": {
    "colab_type": "text",
    "id": "ozIcA5s45PRw"
   },
   "source": [
    "##### POS_CASH_BALANCE에서 MONTHS_BALANCE가 비교적 최근 데이터만 별도로 가공. "
   ]
  },
  {
   "cell_type": "code",
   "execution_count": null,
   "metadata": {
    "colab": {},
    "colab_type": "code",
    "id": "-f7HRQIf5PRw",
    "outputId": "83f94c27-7d60-4a65-fe20-c7303a3e668c"
   },
   "outputs": [
    {
     "data": {
      "text/plain": [
       "(272296,)"
      ]
     },
     "execution_count": 48,
     "metadata": {
      "tags": []
     },
     "output_type": "execute_result"
    }
   ],
   "source": [
    "cond_months = pos_bal['MONTHS_BALANCE'] > -20\n",
    "pos_bal[cond_months].groupby('SK_ID_CURR')['SK_ID_CURR'].count().shape"
   ]
  },
  {
   "cell_type": "code",
   "execution_count": null,
   "metadata": {
    "colab": {},
    "colab_type": "code",
    "id": "ksvUI-nb5PR0",
    "outputId": "3b3e1060-840b-4002-f9cf-33f450082cbb"
   },
   "outputs": [
    {
     "data": {
      "text/plain": [
       "(337252,)"
      ]
     },
     "execution_count": 49,
     "metadata": {
      "tags": []
     },
     "output_type": "execute_result"
    }
   ],
   "source": [
    "pos_bal.groupby('SK_ID_CURR')['SK_ID_CURR'].count().shape"
   ]
  },
  {
   "cell_type": "code",
   "execution_count": null,
   "metadata": {
    "colab": {},
    "colab_type": "code",
    "id": "PybihAFw5PR7"
   },
   "outputs": [],
   "source": [
    "cond_months = pos_bal['MONTHS_BALANCE'] > -20\n",
    "pos_bal_m20_grp = pos_bal[cond_months].groupby('SK_ID_CURR')\n",
    "pos_bal_agg_dict = {\n",
    "    'SK_ID_CURR':['count'], \n",
    "    'MONTHS_BALANCE':['min', 'mean', 'max'], \n",
    "    'SK_DPD':['min', 'max', 'mean'],\n",
    "    # 가공 컬럼\n",
    "    'POS_IS_DPD':['mean', 'sum'],\n",
    "    'POS_IS_DPD_UNDER_120':['mean', 'sum'],\n",
    "    'POS_IS_DPD_OVER_120':['mean', 'sum']\n",
    "}\n",
    "\n",
    "pos_bal_m20_agg = pos_bal_m20_grp.agg(pos_bal_agg_dict)\n",
    "# 컬럼 변경 \n",
    "pos_bal_m20_agg.columns = [('POS_M20')+('_').join(column).upper() for column in pos_bal_m20_agg.columns.ravel()]"
   ]
  },
  {
   "cell_type": "markdown",
   "metadata": {
    "colab_type": "text",
    "id": "so5NlTvr5PR-"
   },
   "source": [
    "##### pos_bal_agg와 pos_bal_m20_agg를 조인하고 SK_ID_CURR을 reset_index()를 이용하여 컬럼으로 변환"
   ]
  },
  {
   "cell_type": "code",
   "execution_count": null,
   "metadata": {
    "colab": {},
    "colab_type": "code",
    "id": "hxqd7jiI5PR-"
   },
   "outputs": [],
   "source": [
    "pos_bal_agg = pos_bal_agg.merge(pos_bal_m20_agg, on='SK_ID_CURR', how='left')"
   ]
  },
  {
   "cell_type": "code",
   "execution_count": null,
   "metadata": {
    "colab": {},
    "colab_type": "code",
    "id": "SqaP9dKu5PSD"
   },
   "outputs": [],
   "source": [
    "pos_bal_agg = pos_bal_agg.reset_index()"
   ]
  },
  {
   "cell_type": "code",
   "execution_count": null,
   "metadata": {
    "colab": {},
    "colab_type": "code",
    "id": "WwqwxQnw5PSF",
    "outputId": "df0c4f53-6af3-4274-c684-25635d2f1c6d"
   },
   "outputs": [
    {
     "data": {
      "text/plain": [
       "(337252, 27)"
      ]
     },
     "execution_count": 53,
     "metadata": {
      "tags": []
     },
     "output_type": "execute_result"
    }
   ],
   "source": [
    "pos_bal_agg.shape"
   ]
  },
  {
   "cell_type": "markdown",
   "metadata": {
    "colab_type": "text",
    "id": "Ur-_lqQx5PSI"
   },
   "source": [
    "### installments_payments 데이터 가공."
   ]
  },
  {
   "cell_type": "markdown",
   "metadata": {
    "colab_type": "text",
    "id": "0JPoEFtT5PSJ"
   },
   "source": [
    "* 예정 납부 금액 대비 실제 납부 금액 관련 데이터 가공. \n",
    "* 예정 납부 일자 대비 실제 납부 일자 비교로  DPD 일자 생성 "
   ]
  },
  {
   "cell_type": "code",
   "execution_count": null,
   "metadata": {
    "colab": {},
    "colab_type": "code",
    "id": "DVgrlKUx5PSJ"
   },
   "outputs": [],
   "source": [
    "install.head(10)"
   ]
  },
  {
   "cell_type": "code",
   "execution_count": null,
   "metadata": {
    "colab": {},
    "colab_type": "code",
    "id": "JQnJB6Bv5PSN",
    "outputId": "ffca0651-5564-4fb4-d078-a88507eeca81"
   },
   "outputs": [
    {
     "data": {
      "text/html": [
       "<div>\n",
       "<style scoped>\n",
       "    .dataframe tbody tr th:only-of-type {\n",
       "        vertical-align: middle;\n",
       "    }\n",
       "\n",
       "    .dataframe tbody tr th {\n",
       "        vertical-align: top;\n",
       "    }\n",
       "\n",
       "    .dataframe thead th {\n",
       "        text-align: right;\n",
       "    }\n",
       "</style>\n",
       "<table border=\"1\" class=\"dataframe\">\n",
       "  <thead>\n",
       "    <tr style=\"text-align: right;\">\n",
       "      <th></th>\n",
       "      <th>SK_ID_PREV</th>\n",
       "      <th>SK_ID_CURR</th>\n",
       "      <th>NUM_INSTALMENT_VERSION</th>\n",
       "      <th>NUM_INSTALMENT_NUMBER</th>\n",
       "      <th>DAYS_INSTALMENT</th>\n",
       "      <th>DAYS_ENTRY_PAYMENT</th>\n",
       "      <th>AMT_INSTALMENT</th>\n",
       "      <th>AMT_PAYMENT</th>\n",
       "      <th>AMT_DIFF</th>\n",
       "      <th>AMT_RATIO</th>\n",
       "      <th>SK_DPD</th>\n",
       "      <th>INS_IS_DPD</th>\n",
       "      <th>INS_IS_DPD_UNDER_120</th>\n",
       "      <th>INS_IS_DPD_OVER_120</th>\n",
       "    </tr>\n",
       "  </thead>\n",
       "  <tbody>\n",
       "    <tr>\n",
       "      <th>0</th>\n",
       "      <td>1054186</td>\n",
       "      <td>161674</td>\n",
       "      <td>1.0</td>\n",
       "      <td>6</td>\n",
       "      <td>-1180.0</td>\n",
       "      <td>-1187.0</td>\n",
       "      <td>6948.359863</td>\n",
       "      <td>6948.359863</td>\n",
       "      <td>0.000000</td>\n",
       "      <td>1.000000</td>\n",
       "      <td>-7.0</td>\n",
       "      <td>0</td>\n",
       "      <td>0</td>\n",
       "      <td>0</td>\n",
       "    </tr>\n",
       "    <tr>\n",
       "      <th>1</th>\n",
       "      <td>1330831</td>\n",
       "      <td>151639</td>\n",
       "      <td>0.0</td>\n",
       "      <td>34</td>\n",
       "      <td>-2156.0</td>\n",
       "      <td>-2156.0</td>\n",
       "      <td>1716.525024</td>\n",
       "      <td>1716.525024</td>\n",
       "      <td>0.000000</td>\n",
       "      <td>1.000000</td>\n",
       "      <td>0.0</td>\n",
       "      <td>0</td>\n",
       "      <td>0</td>\n",
       "      <td>0</td>\n",
       "    </tr>\n",
       "    <tr>\n",
       "      <th>2</th>\n",
       "      <td>2085231</td>\n",
       "      <td>193053</td>\n",
       "      <td>2.0</td>\n",
       "      <td>1</td>\n",
       "      <td>-63.0</td>\n",
       "      <td>-63.0</td>\n",
       "      <td>25425.000000</td>\n",
       "      <td>25425.000000</td>\n",
       "      <td>0.000000</td>\n",
       "      <td>1.000000</td>\n",
       "      <td>0.0</td>\n",
       "      <td>0</td>\n",
       "      <td>0</td>\n",
       "      <td>0</td>\n",
       "    </tr>\n",
       "    <tr>\n",
       "      <th>3</th>\n",
       "      <td>2452527</td>\n",
       "      <td>199697</td>\n",
       "      <td>1.0</td>\n",
       "      <td>3</td>\n",
       "      <td>-2418.0</td>\n",
       "      <td>-2426.0</td>\n",
       "      <td>24350.130859</td>\n",
       "      <td>24350.130859</td>\n",
       "      <td>0.000000</td>\n",
       "      <td>1.000000</td>\n",
       "      <td>-8.0</td>\n",
       "      <td>0</td>\n",
       "      <td>0</td>\n",
       "      <td>0</td>\n",
       "    </tr>\n",
       "    <tr>\n",
       "      <th>4</th>\n",
       "      <td>2714724</td>\n",
       "      <td>167756</td>\n",
       "      <td>1.0</td>\n",
       "      <td>2</td>\n",
       "      <td>-1383.0</td>\n",
       "      <td>-1366.0</td>\n",
       "      <td>2165.040039</td>\n",
       "      <td>2160.584961</td>\n",
       "      <td>4.455078</td>\n",
       "      <td>0.997943</td>\n",
       "      <td>17.0</td>\n",
       "      <td>1</td>\n",
       "      <td>1</td>\n",
       "      <td>0</td>\n",
       "    </tr>\n",
       "    <tr>\n",
       "      <th>5</th>\n",
       "      <td>1137312</td>\n",
       "      <td>164489</td>\n",
       "      <td>1.0</td>\n",
       "      <td>12</td>\n",
       "      <td>-1384.0</td>\n",
       "      <td>-1417.0</td>\n",
       "      <td>5970.375000</td>\n",
       "      <td>5970.375000</td>\n",
       "      <td>0.000000</td>\n",
       "      <td>1.000000</td>\n",
       "      <td>-33.0</td>\n",
       "      <td>0</td>\n",
       "      <td>0</td>\n",
       "      <td>0</td>\n",
       "    </tr>\n",
       "    <tr>\n",
       "      <th>6</th>\n",
       "      <td>2234264</td>\n",
       "      <td>184693</td>\n",
       "      <td>4.0</td>\n",
       "      <td>11</td>\n",
       "      <td>-349.0</td>\n",
       "      <td>-352.0</td>\n",
       "      <td>29432.294922</td>\n",
       "      <td>29432.294922</td>\n",
       "      <td>0.000000</td>\n",
       "      <td>1.000000</td>\n",
       "      <td>-3.0</td>\n",
       "      <td>0</td>\n",
       "      <td>0</td>\n",
       "      <td>0</td>\n",
       "    </tr>\n",
       "    <tr>\n",
       "      <th>7</th>\n",
       "      <td>1818599</td>\n",
       "      <td>111420</td>\n",
       "      <td>2.0</td>\n",
       "      <td>4</td>\n",
       "      <td>-968.0</td>\n",
       "      <td>-994.0</td>\n",
       "      <td>17862.164062</td>\n",
       "      <td>17862.164062</td>\n",
       "      <td>0.000000</td>\n",
       "      <td>1.000000</td>\n",
       "      <td>-26.0</td>\n",
       "      <td>0</td>\n",
       "      <td>0</td>\n",
       "      <td>0</td>\n",
       "    </tr>\n",
       "    <tr>\n",
       "      <th>8</th>\n",
       "      <td>2723183</td>\n",
       "      <td>112102</td>\n",
       "      <td>0.0</td>\n",
       "      <td>14</td>\n",
       "      <td>-197.0</td>\n",
       "      <td>-197.0</td>\n",
       "      <td>70.739998</td>\n",
       "      <td>70.739998</td>\n",
       "      <td>0.000000</td>\n",
       "      <td>1.000000</td>\n",
       "      <td>0.0</td>\n",
       "      <td>0</td>\n",
       "      <td>0</td>\n",
       "      <td>0</td>\n",
       "    </tr>\n",
       "    <tr>\n",
       "      <th>9</th>\n",
       "      <td>1413990</td>\n",
       "      <td>109741</td>\n",
       "      <td>1.0</td>\n",
       "      <td>4</td>\n",
       "      <td>-570.0</td>\n",
       "      <td>-609.0</td>\n",
       "      <td>14308.469727</td>\n",
       "      <td>14308.469727</td>\n",
       "      <td>0.000000</td>\n",
       "      <td>1.000000</td>\n",
       "      <td>-39.0</td>\n",
       "      <td>0</td>\n",
       "      <td>0</td>\n",
       "      <td>0</td>\n",
       "    </tr>\n",
       "    <tr>\n",
       "      <th>10</th>\n",
       "      <td>1782554</td>\n",
       "      <td>106597</td>\n",
       "      <td>1.0</td>\n",
       "      <td>3</td>\n",
       "      <td>-933.0</td>\n",
       "      <td>-937.0</td>\n",
       "      <td>34620.523438</td>\n",
       "      <td>34620.523438</td>\n",
       "      <td>0.000000</td>\n",
       "      <td>1.000000</td>\n",
       "      <td>-4.0</td>\n",
       "      <td>0</td>\n",
       "      <td>0</td>\n",
       "      <td>0</td>\n",
       "    </tr>\n",
       "    <tr>\n",
       "      <th>11</th>\n",
       "      <td>2558880</td>\n",
       "      <td>154793</td>\n",
       "      <td>1.0</td>\n",
       "      <td>8</td>\n",
       "      <td>-1262.0</td>\n",
       "      <td>-1269.0</td>\n",
       "      <td>15031.080078</td>\n",
       "      <td>15031.080078</td>\n",
       "      <td>0.000000</td>\n",
       "      <td>1.000000</td>\n",
       "      <td>-7.0</td>\n",
       "      <td>0</td>\n",
       "      <td>0</td>\n",
       "      <td>0</td>\n",
       "    </tr>\n",
       "    <tr>\n",
       "      <th>12</th>\n",
       "      <td>1570206</td>\n",
       "      <td>147645</td>\n",
       "      <td>0.0</td>\n",
       "      <td>20</td>\n",
       "      <td>-761.0</td>\n",
       "      <td>-761.0</td>\n",
       "      <td>21.510000</td>\n",
       "      <td>21.510000</td>\n",
       "      <td>0.000000</td>\n",
       "      <td>1.000000</td>\n",
       "      <td>0.0</td>\n",
       "      <td>0</td>\n",
       "      <td>0</td>\n",
       "      <td>0</td>\n",
       "    </tr>\n",
       "    <tr>\n",
       "      <th>13</th>\n",
       "      <td>1723268</td>\n",
       "      <td>197273</td>\n",
       "      <td>1.0</td>\n",
       "      <td>14</td>\n",
       "      <td>-755.0</td>\n",
       "      <td>-800.0</td>\n",
       "      <td>6093.990234</td>\n",
       "      <td>6093.990234</td>\n",
       "      <td>0.000000</td>\n",
       "      <td>1.000000</td>\n",
       "      <td>-45.0</td>\n",
       "      <td>0</td>\n",
       "      <td>0</td>\n",
       "      <td>0</td>\n",
       "    </tr>\n",
       "    <tr>\n",
       "      <th>14</th>\n",
       "      <td>1594684</td>\n",
       "      <td>100193</td>\n",
       "      <td>0.0</td>\n",
       "      <td>56</td>\n",
       "      <td>-1153.0</td>\n",
       "      <td>-1153.0</td>\n",
       "      <td>301.859985</td>\n",
       "      <td>301.859985</td>\n",
       "      <td>0.000000</td>\n",
       "      <td>1.000000</td>\n",
       "      <td>0.0</td>\n",
       "      <td>0</td>\n",
       "      <td>0</td>\n",
       "      <td>0</td>\n",
       "    </tr>\n",
       "    <tr>\n",
       "      <th>15</th>\n",
       "      <td>1456258</td>\n",
       "      <td>118323</td>\n",
       "      <td>1.0</td>\n",
       "      <td>6</td>\n",
       "      <td>-2619.0</td>\n",
       "      <td>-2619.0</td>\n",
       "      <td>4844.924805</td>\n",
       "      <td>4844.924805</td>\n",
       "      <td>0.000000</td>\n",
       "      <td>1.000000</td>\n",
       "      <td>0.0</td>\n",
       "      <td>0</td>\n",
       "      <td>0</td>\n",
       "      <td>0</td>\n",
       "    </tr>\n",
       "    <tr>\n",
       "      <th>16</th>\n",
       "      <td>1053286</td>\n",
       "      <td>170192</td>\n",
       "      <td>1.0</td>\n",
       "      <td>7</td>\n",
       "      <td>-500.0</td>\n",
       "      <td>-503.0</td>\n",
       "      <td>6882.839844</td>\n",
       "      <td>6882.839844</td>\n",
       "      <td>0.000000</td>\n",
       "      <td>1.000000</td>\n",
       "      <td>-3.0</td>\n",
       "      <td>0</td>\n",
       "      <td>0</td>\n",
       "      <td>0</td>\n",
       "    </tr>\n",
       "    <tr>\n",
       "      <th>17</th>\n",
       "      <td>1410565</td>\n",
       "      <td>197687</td>\n",
       "      <td>1.0</td>\n",
       "      <td>1</td>\n",
       "      <td>-1037.0</td>\n",
       "      <td>-1048.0</td>\n",
       "      <td>12514.049805</td>\n",
       "      <td>12510.450195</td>\n",
       "      <td>3.599609</td>\n",
       "      <td>0.999712</td>\n",
       "      <td>-11.0</td>\n",
       "      <td>0</td>\n",
       "      <td>0</td>\n",
       "      <td>0</td>\n",
       "    </tr>\n",
       "    <tr>\n",
       "      <th>18</th>\n",
       "      <td>2391610</td>\n",
       "      <td>183431</td>\n",
       "      <td>0.0</td>\n",
       "      <td>20</td>\n",
       "      <td>-1680.0</td>\n",
       "      <td>-1693.0</td>\n",
       "      <td>7875.000000</td>\n",
       "      <td>7875.000000</td>\n",
       "      <td>0.000000</td>\n",
       "      <td>1.000000</td>\n",
       "      <td>-13.0</td>\n",
       "      <td>0</td>\n",
       "      <td>0</td>\n",
       "      <td>0</td>\n",
       "    </tr>\n",
       "    <tr>\n",
       "      <th>19</th>\n",
       "      <td>2329072</td>\n",
       "      <td>183463</td>\n",
       "      <td>1.0</td>\n",
       "      <td>11</td>\n",
       "      <td>-1699.0</td>\n",
       "      <td>-1693.0</td>\n",
       "      <td>7283.294922</td>\n",
       "      <td>7283.294922</td>\n",
       "      <td>0.000000</td>\n",
       "      <td>1.000000</td>\n",
       "      <td>6.0</td>\n",
       "      <td>1</td>\n",
       "      <td>1</td>\n",
       "      <td>0</td>\n",
       "    </tr>\n",
       "  </tbody>\n",
       "</table>\n",
       "</div>"
      ],
      "text/plain": [
       "    SK_ID_PREV  SK_ID_CURR  NUM_INSTALMENT_VERSION  NUM_INSTALMENT_NUMBER  \\\n",
       "0      1054186      161674                     1.0                      6   \n",
       "1      1330831      151639                     0.0                     34   \n",
       "2      2085231      193053                     2.0                      1   \n",
       "3      2452527      199697                     1.0                      3   \n",
       "4      2714724      167756                     1.0                      2   \n",
       "5      1137312      164489                     1.0                     12   \n",
       "6      2234264      184693                     4.0                     11   \n",
       "7      1818599      111420                     2.0                      4   \n",
       "8      2723183      112102                     0.0                     14   \n",
       "9      1413990      109741                     1.0                      4   \n",
       "10     1782554      106597                     1.0                      3   \n",
       "11     2558880      154793                     1.0                      8   \n",
       "12     1570206      147645                     0.0                     20   \n",
       "13     1723268      197273                     1.0                     14   \n",
       "14     1594684      100193                     0.0                     56   \n",
       "15     1456258      118323                     1.0                      6   \n",
       "16     1053286      170192                     1.0                      7   \n",
       "17     1410565      197687                     1.0                      1   \n",
       "18     2391610      183431                     0.0                     20   \n",
       "19     2329072      183463                     1.0                     11   \n",
       "\n",
       "    DAYS_INSTALMENT  DAYS_ENTRY_PAYMENT  AMT_INSTALMENT   AMT_PAYMENT  \\\n",
       "0           -1180.0             -1187.0     6948.359863   6948.359863   \n",
       "1           -2156.0             -2156.0     1716.525024   1716.525024   \n",
       "2             -63.0               -63.0    25425.000000  25425.000000   \n",
       "3           -2418.0             -2426.0    24350.130859  24350.130859   \n",
       "4           -1383.0             -1366.0     2165.040039   2160.584961   \n",
       "5           -1384.0             -1417.0     5970.375000   5970.375000   \n",
       "6            -349.0              -352.0    29432.294922  29432.294922   \n",
       "7            -968.0              -994.0    17862.164062  17862.164062   \n",
       "8            -197.0              -197.0       70.739998     70.739998   \n",
       "9            -570.0              -609.0    14308.469727  14308.469727   \n",
       "10           -933.0              -937.0    34620.523438  34620.523438   \n",
       "11          -1262.0             -1269.0    15031.080078  15031.080078   \n",
       "12           -761.0              -761.0       21.510000     21.510000   \n",
       "13           -755.0              -800.0     6093.990234   6093.990234   \n",
       "14          -1153.0             -1153.0      301.859985    301.859985   \n",
       "15          -2619.0             -2619.0     4844.924805   4844.924805   \n",
       "16           -500.0              -503.0     6882.839844   6882.839844   \n",
       "17          -1037.0             -1048.0    12514.049805  12510.450195   \n",
       "18          -1680.0             -1693.0     7875.000000   7875.000000   \n",
       "19          -1699.0             -1693.0     7283.294922   7283.294922   \n",
       "\n",
       "    AMT_DIFF  AMT_RATIO  SK_DPD  INS_IS_DPD  INS_IS_DPD_UNDER_120  \\\n",
       "0   0.000000   1.000000    -7.0           0                     0   \n",
       "1   0.000000   1.000000     0.0           0                     0   \n",
       "2   0.000000   1.000000     0.0           0                     0   \n",
       "3   0.000000   1.000000    -8.0           0                     0   \n",
       "4   4.455078   0.997943    17.0           1                     1   \n",
       "5   0.000000   1.000000   -33.0           0                     0   \n",
       "6   0.000000   1.000000    -3.0           0                     0   \n",
       "7   0.000000   1.000000   -26.0           0                     0   \n",
       "8   0.000000   1.000000     0.0           0                     0   \n",
       "9   0.000000   1.000000   -39.0           0                     0   \n",
       "10  0.000000   1.000000    -4.0           0                     0   \n",
       "11  0.000000   1.000000    -7.0           0                     0   \n",
       "12  0.000000   1.000000     0.0           0                     0   \n",
       "13  0.000000   1.000000   -45.0           0                     0   \n",
       "14  0.000000   1.000000     0.0           0                     0   \n",
       "15  0.000000   1.000000     0.0           0                     0   \n",
       "16  0.000000   1.000000    -3.0           0                     0   \n",
       "17  3.599609   0.999712   -11.0           0                     0   \n",
       "18  0.000000   1.000000   -13.0           0                     0   \n",
       "19  0.000000   1.000000     6.0           1                     1   \n",
       "\n",
       "    INS_IS_DPD_OVER_120  \n",
       "0                     0  \n",
       "1                     0  \n",
       "2                     0  \n",
       "3                     0  \n",
       "4                     0  \n",
       "5                     0  \n",
       "6                     0  \n",
       "7                     0  \n",
       "8                     0  \n",
       "9                     0  \n",
       "10                    0  \n",
       "11                    0  \n",
       "12                    0  \n",
       "13                    0  \n",
       "14                    0  \n",
       "15                    0  \n",
       "16                    0  \n",
       "17                    0  \n",
       "18                    0  \n",
       "19                    0  "
      ]
     },
     "execution_count": 61,
     "metadata": {
      "tags": []
     },
     "output_type": "execute_result"
    }
   ],
   "source": [
    "# 예정 납부 금액과 실제 납부 금액 차이와 비율 가공\n",
    "install['AMT_DIFF'] = install['AMT_INSTALMENT'] - install['AMT_PAYMENT']\n",
    "install['AMT_RATIO'] =  (install['AMT_PAYMENT'] +1)/ (install['AMT_INSTALMENT'] + 1)\n",
    "\n",
    "# 예정 납부 일자 대비 실제 납부 일자 비교로  DPD 일자 생성  \n",
    "install['SK_DPD'] = install['DAYS_ENTRY_PAYMENT'] - install['DAYS_INSTALMENT']\n",
    "install.head(20)"
   ]
  },
  {
   "cell_type": "markdown",
   "metadata": {
    "colab_type": "text",
    "id": "P2JXaU9O5PSR"
   },
   "source": [
    "###### 연체 일자(SK_DPD)가 0 보다 큰 경우, 30-120 사이, 120보다 큰 경우 조사 "
   ]
  },
  {
   "cell_type": "code",
   "execution_count": null,
   "metadata": {
    "colab": {},
    "colab_type": "code",
    "id": "O_-SxyTh5PSR",
    "outputId": "bec499ab-3426-4135-cedf-3a28e3772ce7"
   },
   "outputs": [
    {
     "name": "stdout",
     "output_type": "stream",
     "text": [
      " 연체 비율: 0.6842486303784798\n",
      " 연체 비율 30일 미만: 0.6292384178900717\n",
      " 연체일자 30일이상 120이하 비율 : 0.053431501210438416\n",
      " 연체일자 120이상 비율 : 0.0015787112779696829\n"
     ]
    }
   ],
   "source": [
    "# 연체 일자(SK_DPD)가 0 보다 큰 경우, 30-120 사이, 120보다 큰 경우 조사 \n",
    "cond_over_0 = install['SK_DPD'] > 0\n",
    "cond_over_0_30 = (install['SK_DPD'] <= 30) & (install['SK_DPD'] > 0)\n",
    "cond_over_30_120 = (install['SK_DPD'] < 120) & (install['SK_DPD'] > 30)\n",
    "cond_over_120 = (install['SK_DPD'] >= 120)\n",
    "\n",
    "print(' 연체 비율:', install[cond_over_0].shape[0]/install.shape[0] )\n",
    "print(' 연체 비율 30일 미만:', install[cond_over_0_30].shape[0]/install.shape[0] )\n",
    "print(' 연체일자 30일이상 120이하 비율 :', install[cond_over_30_120].shape[0]/install.shape[0] )\n",
    "print(' 연체일자 120이상 비율 :', install[cond_over_120].shape[0]/install.shape[0] )"
   ]
  },
  {
   "cell_type": "markdown",
   "metadata": {
    "colab_type": "text",
    "id": "EqdPsFqA5PSU"
   },
   "source": [
    "##### 연체여부,  연체일수 0~ 120 사이 여부, 연체 일수 120보다 큰 여부 가공. "
   ]
  },
  {
   "cell_type": "code",
   "execution_count": null,
   "metadata": {
    "colab": {},
    "colab_type": "code",
    "id": "V2_rO4ZQ5PSU"
   },
   "outputs": [],
   "source": [
    "# 연체여부,  연체일수 0~ 120 사이 여부, 연체 일수 120보다 큰 여부 \n",
    "install['INS_IS_DPD'] = install['SK_DPD'].apply(lambda x: 1 if x > 0 else 0)\n",
    "install['INS_IS_DPD_UNDER_120'] = install['SK_DPD'].apply(lambda x:1 if (x > 0) & (x <120) else 0 )\n",
    "install['INS_IS_DPD_OVER_120'] = install['SK_DPD'].apply(lambda x:1 if x >= 120 else 0)"
   ]
  },
  {
   "cell_type": "code",
   "execution_count": null,
   "metadata": {
    "colab": {},
    "colab_type": "code",
    "id": "IQhipt1R5PSY",
    "outputId": "8c634c93-2598-46cf-d663-c73f1f69b06b"
   },
   "outputs": [
    {
     "data": {
      "text/html": [
       "<div>\n",
       "<style scoped>\n",
       "    .dataframe tbody tr th:only-of-type {\n",
       "        vertical-align: middle;\n",
       "    }\n",
       "\n",
       "    .dataframe tbody tr th {\n",
       "        vertical-align: top;\n",
       "    }\n",
       "\n",
       "    .dataframe thead th {\n",
       "        text-align: right;\n",
       "    }\n",
       "</style>\n",
       "<table border=\"1\" class=\"dataframe\">\n",
       "  <thead>\n",
       "    <tr style=\"text-align: right;\">\n",
       "      <th></th>\n",
       "      <th>SK_ID_PREV</th>\n",
       "      <th>SK_ID_CURR</th>\n",
       "      <th>NUM_INSTALMENT_VERSION</th>\n",
       "      <th>NUM_INSTALMENT_NUMBER</th>\n",
       "      <th>DAYS_INSTALMENT</th>\n",
       "      <th>DAYS_ENTRY_PAYMENT</th>\n",
       "      <th>AMT_INSTALMENT</th>\n",
       "      <th>AMT_PAYMENT</th>\n",
       "      <th>AMT_DIFF</th>\n",
       "      <th>AMT_RATIO</th>\n",
       "      <th>SK_DPD</th>\n",
       "      <th>INS_IS_DPD</th>\n",
       "      <th>INS_IS_DPD_UNDER_120</th>\n",
       "      <th>INS_IS_DPD_OVER_120</th>\n",
       "    </tr>\n",
       "  </thead>\n",
       "  <tbody>\n",
       "    <tr>\n",
       "      <th>0</th>\n",
       "      <td>1054186</td>\n",
       "      <td>161674</td>\n",
       "      <td>1.0</td>\n",
       "      <td>6</td>\n",
       "      <td>-1180.0</td>\n",
       "      <td>-1187.0</td>\n",
       "      <td>6948.359863</td>\n",
       "      <td>6948.359863</td>\n",
       "      <td>0.000000</td>\n",
       "      <td>1.000000</td>\n",
       "      <td>-7.0</td>\n",
       "      <td>0</td>\n",
       "      <td>0</td>\n",
       "      <td>0</td>\n",
       "    </tr>\n",
       "    <tr>\n",
       "      <th>1</th>\n",
       "      <td>1330831</td>\n",
       "      <td>151639</td>\n",
       "      <td>0.0</td>\n",
       "      <td>34</td>\n",
       "      <td>-2156.0</td>\n",
       "      <td>-2156.0</td>\n",
       "      <td>1716.525024</td>\n",
       "      <td>1716.525024</td>\n",
       "      <td>0.000000</td>\n",
       "      <td>1.000000</td>\n",
       "      <td>0.0</td>\n",
       "      <td>0</td>\n",
       "      <td>0</td>\n",
       "      <td>0</td>\n",
       "    </tr>\n",
       "    <tr>\n",
       "      <th>2</th>\n",
       "      <td>2085231</td>\n",
       "      <td>193053</td>\n",
       "      <td>2.0</td>\n",
       "      <td>1</td>\n",
       "      <td>-63.0</td>\n",
       "      <td>-63.0</td>\n",
       "      <td>25425.000000</td>\n",
       "      <td>25425.000000</td>\n",
       "      <td>0.000000</td>\n",
       "      <td>1.000000</td>\n",
       "      <td>0.0</td>\n",
       "      <td>0</td>\n",
       "      <td>0</td>\n",
       "      <td>0</td>\n",
       "    </tr>\n",
       "    <tr>\n",
       "      <th>3</th>\n",
       "      <td>2452527</td>\n",
       "      <td>199697</td>\n",
       "      <td>1.0</td>\n",
       "      <td>3</td>\n",
       "      <td>-2418.0</td>\n",
       "      <td>-2426.0</td>\n",
       "      <td>24350.130859</td>\n",
       "      <td>24350.130859</td>\n",
       "      <td>0.000000</td>\n",
       "      <td>1.000000</td>\n",
       "      <td>-8.0</td>\n",
       "      <td>0</td>\n",
       "      <td>0</td>\n",
       "      <td>0</td>\n",
       "    </tr>\n",
       "    <tr>\n",
       "      <th>4</th>\n",
       "      <td>2714724</td>\n",
       "      <td>167756</td>\n",
       "      <td>1.0</td>\n",
       "      <td>2</td>\n",
       "      <td>-1383.0</td>\n",
       "      <td>-1366.0</td>\n",
       "      <td>2165.040039</td>\n",
       "      <td>2160.584961</td>\n",
       "      <td>4.455078</td>\n",
       "      <td>0.997943</td>\n",
       "      <td>17.0</td>\n",
       "      <td>1</td>\n",
       "      <td>1</td>\n",
       "      <td>0</td>\n",
       "    </tr>\n",
       "    <tr>\n",
       "      <th>5</th>\n",
       "      <td>1137312</td>\n",
       "      <td>164489</td>\n",
       "      <td>1.0</td>\n",
       "      <td>12</td>\n",
       "      <td>-1384.0</td>\n",
       "      <td>-1417.0</td>\n",
       "      <td>5970.375000</td>\n",
       "      <td>5970.375000</td>\n",
       "      <td>0.000000</td>\n",
       "      <td>1.000000</td>\n",
       "      <td>-33.0</td>\n",
       "      <td>0</td>\n",
       "      <td>0</td>\n",
       "      <td>0</td>\n",
       "    </tr>\n",
       "    <tr>\n",
       "      <th>6</th>\n",
       "      <td>2234264</td>\n",
       "      <td>184693</td>\n",
       "      <td>4.0</td>\n",
       "      <td>11</td>\n",
       "      <td>-349.0</td>\n",
       "      <td>-352.0</td>\n",
       "      <td>29432.294922</td>\n",
       "      <td>29432.294922</td>\n",
       "      <td>0.000000</td>\n",
       "      <td>1.000000</td>\n",
       "      <td>-3.0</td>\n",
       "      <td>0</td>\n",
       "      <td>0</td>\n",
       "      <td>0</td>\n",
       "    </tr>\n",
       "    <tr>\n",
       "      <th>7</th>\n",
       "      <td>1818599</td>\n",
       "      <td>111420</td>\n",
       "      <td>2.0</td>\n",
       "      <td>4</td>\n",
       "      <td>-968.0</td>\n",
       "      <td>-994.0</td>\n",
       "      <td>17862.164062</td>\n",
       "      <td>17862.164062</td>\n",
       "      <td>0.000000</td>\n",
       "      <td>1.000000</td>\n",
       "      <td>-26.0</td>\n",
       "      <td>0</td>\n",
       "      <td>0</td>\n",
       "      <td>0</td>\n",
       "    </tr>\n",
       "    <tr>\n",
       "      <th>8</th>\n",
       "      <td>2723183</td>\n",
       "      <td>112102</td>\n",
       "      <td>0.0</td>\n",
       "      <td>14</td>\n",
       "      <td>-197.0</td>\n",
       "      <td>-197.0</td>\n",
       "      <td>70.739998</td>\n",
       "      <td>70.739998</td>\n",
       "      <td>0.000000</td>\n",
       "      <td>1.000000</td>\n",
       "      <td>0.0</td>\n",
       "      <td>0</td>\n",
       "      <td>0</td>\n",
       "      <td>0</td>\n",
       "    </tr>\n",
       "    <tr>\n",
       "      <th>9</th>\n",
       "      <td>1413990</td>\n",
       "      <td>109741</td>\n",
       "      <td>1.0</td>\n",
       "      <td>4</td>\n",
       "      <td>-570.0</td>\n",
       "      <td>-609.0</td>\n",
       "      <td>14308.469727</td>\n",
       "      <td>14308.469727</td>\n",
       "      <td>0.000000</td>\n",
       "      <td>1.000000</td>\n",
       "      <td>-39.0</td>\n",
       "      <td>0</td>\n",
       "      <td>0</td>\n",
       "      <td>0</td>\n",
       "    </tr>\n",
       "  </tbody>\n",
       "</table>\n",
       "</div>"
      ],
      "text/plain": [
       "   SK_ID_PREV  SK_ID_CURR  NUM_INSTALMENT_VERSION  NUM_INSTALMENT_NUMBER  \\\n",
       "0     1054186      161674                     1.0                      6   \n",
       "1     1330831      151639                     0.0                     34   \n",
       "2     2085231      193053                     2.0                      1   \n",
       "3     2452527      199697                     1.0                      3   \n",
       "4     2714724      167756                     1.0                      2   \n",
       "5     1137312      164489                     1.0                     12   \n",
       "6     2234264      184693                     4.0                     11   \n",
       "7     1818599      111420                     2.0                      4   \n",
       "8     2723183      112102                     0.0                     14   \n",
       "9     1413990      109741                     1.0                      4   \n",
       "\n",
       "   DAYS_INSTALMENT  DAYS_ENTRY_PAYMENT  AMT_INSTALMENT   AMT_PAYMENT  \\\n",
       "0          -1180.0             -1187.0     6948.359863   6948.359863   \n",
       "1          -2156.0             -2156.0     1716.525024   1716.525024   \n",
       "2            -63.0               -63.0    25425.000000  25425.000000   \n",
       "3          -2418.0             -2426.0    24350.130859  24350.130859   \n",
       "4          -1383.0             -1366.0     2165.040039   2160.584961   \n",
       "5          -1384.0             -1417.0     5970.375000   5970.375000   \n",
       "6           -349.0              -352.0    29432.294922  29432.294922   \n",
       "7           -968.0              -994.0    17862.164062  17862.164062   \n",
       "8           -197.0              -197.0       70.739998     70.739998   \n",
       "9           -570.0              -609.0    14308.469727  14308.469727   \n",
       "\n",
       "   AMT_DIFF  AMT_RATIO  SK_DPD  INS_IS_DPD  INS_IS_DPD_UNDER_120  \\\n",
       "0  0.000000   1.000000    -7.0           0                     0   \n",
       "1  0.000000   1.000000     0.0           0                     0   \n",
       "2  0.000000   1.000000     0.0           0                     0   \n",
       "3  0.000000   1.000000    -8.0           0                     0   \n",
       "4  4.455078   0.997943    17.0           1                     1   \n",
       "5  0.000000   1.000000   -33.0           0                     0   \n",
       "6  0.000000   1.000000    -3.0           0                     0   \n",
       "7  0.000000   1.000000   -26.0           0                     0   \n",
       "8  0.000000   1.000000     0.0           0                     0   \n",
       "9  0.000000   1.000000   -39.0           0                     0   \n",
       "\n",
       "   INS_IS_DPD_OVER_120  \n",
       "0                    0  \n",
       "1                    0  \n",
       "2                    0  \n",
       "3                    0  \n",
       "4                    0  \n",
       "5                    0  \n",
       "6                    0  \n",
       "7                    0  \n",
       "8                    0  \n",
       "9                    0  "
      ]
     },
     "execution_count": 57,
     "metadata": {
      "tags": []
     },
     "output_type": "execute_result"
    }
   ],
   "source": [
    "install.head(10)"
   ]
  },
  {
   "cell_type": "code",
   "execution_count": null,
   "metadata": {
    "colab": {},
    "colab_type": "code",
    "id": "ASnGrhoj5PSb",
    "outputId": "4ab064d4-e462-4f28-fae1-35257abfbc77"
   },
   "outputs": [
    {
     "data": {
      "text/html": [
       "<div>\n",
       "<style scoped>\n",
       "    .dataframe tbody tr th:only-of-type {\n",
       "        vertical-align: middle;\n",
       "    }\n",
       "\n",
       "    .dataframe tbody tr th {\n",
       "        vertical-align: top;\n",
       "    }\n",
       "\n",
       "    .dataframe thead th {\n",
       "        text-align: right;\n",
       "    }\n",
       "</style>\n",
       "<table border=\"1\" class=\"dataframe\">\n",
       "  <thead>\n",
       "    <tr style=\"text-align: right;\">\n",
       "      <th></th>\n",
       "      <th>INS_SK_ID_CURR_COUNT</th>\n",
       "      <th>INS_NUM_INSTALMENT_VERSION_NUNIQUE</th>\n",
       "      <th>INS_DAYS_ENTRY_PAYMENT_MEAN</th>\n",
       "      <th>INS_DAYS_ENTRY_PAYMENT_MAX</th>\n",
       "      <th>INS_DAYS_ENTRY_PAYMENT_SUM</th>\n",
       "      <th>INS_DAYS_INSTALMENT_MEAN</th>\n",
       "      <th>INS_DAYS_INSTALMENT_MAX</th>\n",
       "      <th>INS_DAYS_INSTALMENT_SUM</th>\n",
       "      <th>INS_AMT_INSTALMENT_MEAN</th>\n",
       "      <th>INS_AMT_INSTALMENT_MAX</th>\n",
       "      <th>...</th>\n",
       "      <th>INS_AMT_RATIO_MAX</th>\n",
       "      <th>INS_SK_DPD_MEAN</th>\n",
       "      <th>INS_SK_DPD_MIN</th>\n",
       "      <th>INS_SK_DPD_MAX</th>\n",
       "      <th>INS_INS_IS_DPD_MEAN</th>\n",
       "      <th>INS_INS_IS_DPD_SUM</th>\n",
       "      <th>INS_INS_IS_DPD_UNDER_120_MEAN</th>\n",
       "      <th>INS_INS_IS_DPD_UNDER_120_SUM</th>\n",
       "      <th>INS_INS_IS_DPD_OVER_120_MEAN</th>\n",
       "      <th>INS_INS_IS_DPD_OVER_120_SUM</th>\n",
       "    </tr>\n",
       "    <tr>\n",
       "      <th>SK_ID_CURR</th>\n",
       "      <th></th>\n",
       "      <th></th>\n",
       "      <th></th>\n",
       "      <th></th>\n",
       "      <th></th>\n",
       "      <th></th>\n",
       "      <th></th>\n",
       "      <th></th>\n",
       "      <th></th>\n",
       "      <th></th>\n",
       "      <th></th>\n",
       "      <th></th>\n",
       "      <th></th>\n",
       "      <th></th>\n",
       "      <th></th>\n",
       "      <th></th>\n",
       "      <th></th>\n",
       "      <th></th>\n",
       "      <th></th>\n",
       "      <th></th>\n",
       "      <th></th>\n",
       "    </tr>\n",
       "  </thead>\n",
       "  <tbody>\n",
       "    <tr>\n",
       "      <th>100001</th>\n",
       "      <td>7</td>\n",
       "      <td>2</td>\n",
       "      <td>-2195.000000</td>\n",
       "      <td>-1628.0</td>\n",
       "      <td>-15365.0</td>\n",
       "      <td>-2187.714355</td>\n",
       "      <td>-1619.0</td>\n",
       "      <td>-15314.0</td>\n",
       "      <td>5885.132324</td>\n",
       "      <td>17397.900391</td>\n",
       "      <td>...</td>\n",
       "      <td>1.0</td>\n",
       "      <td>-7.285714</td>\n",
       "      <td>-36.0</td>\n",
       "      <td>11.0</td>\n",
       "      <td>0.142857</td>\n",
       "      <td>1</td>\n",
       "      <td>0.142857</td>\n",
       "      <td>1</td>\n",
       "      <td>0.0</td>\n",
       "      <td>0</td>\n",
       "    </tr>\n",
       "    <tr>\n",
       "      <th>100002</th>\n",
       "      <td>19</td>\n",
       "      <td>2</td>\n",
       "      <td>-315.421051</td>\n",
       "      <td>-49.0</td>\n",
       "      <td>-5993.0</td>\n",
       "      <td>-295.000000</td>\n",
       "      <td>-25.0</td>\n",
       "      <td>-5605.0</td>\n",
       "      <td>11559.247070</td>\n",
       "      <td>53093.746094</td>\n",
       "      <td>...</td>\n",
       "      <td>1.0</td>\n",
       "      <td>-20.421053</td>\n",
       "      <td>-31.0</td>\n",
       "      <td>-12.0</td>\n",
       "      <td>0.000000</td>\n",
       "      <td>0</td>\n",
       "      <td>0.000000</td>\n",
       "      <td>0</td>\n",
       "      <td>0.0</td>\n",
       "      <td>0</td>\n",
       "    </tr>\n",
       "    <tr>\n",
       "      <th>100003</th>\n",
       "      <td>25</td>\n",
       "      <td>2</td>\n",
       "      <td>-1385.319946</td>\n",
       "      <td>-544.0</td>\n",
       "      <td>-34633.0</td>\n",
       "      <td>-1378.160034</td>\n",
       "      <td>-536.0</td>\n",
       "      <td>-34454.0</td>\n",
       "      <td>64754.585938</td>\n",
       "      <td>560835.375000</td>\n",
       "      <td>...</td>\n",
       "      <td>1.0</td>\n",
       "      <td>-7.160000</td>\n",
       "      <td>-14.0</td>\n",
       "      <td>-1.0</td>\n",
       "      <td>0.000000</td>\n",
       "      <td>0</td>\n",
       "      <td>0.000000</td>\n",
       "      <td>0</td>\n",
       "      <td>0.0</td>\n",
       "      <td>0</td>\n",
       "    </tr>\n",
       "    <tr>\n",
       "      <th>100004</th>\n",
       "      <td>3</td>\n",
       "      <td>2</td>\n",
       "      <td>-761.666687</td>\n",
       "      <td>-727.0</td>\n",
       "      <td>-2285.0</td>\n",
       "      <td>-754.000000</td>\n",
       "      <td>-724.0</td>\n",
       "      <td>-2262.0</td>\n",
       "      <td>7096.154785</td>\n",
       "      <td>10573.964844</td>\n",
       "      <td>...</td>\n",
       "      <td>1.0</td>\n",
       "      <td>-7.666667</td>\n",
       "      <td>-11.0</td>\n",
       "      <td>-3.0</td>\n",
       "      <td>0.000000</td>\n",
       "      <td>0</td>\n",
       "      <td>0.000000</td>\n",
       "      <td>0</td>\n",
       "      <td>0.0</td>\n",
       "      <td>0</td>\n",
       "    </tr>\n",
       "    <tr>\n",
       "      <th>100005</th>\n",
       "      <td>9</td>\n",
       "      <td>2</td>\n",
       "      <td>-609.555542</td>\n",
       "      <td>-470.0</td>\n",
       "      <td>-5486.0</td>\n",
       "      <td>-586.000000</td>\n",
       "      <td>-466.0</td>\n",
       "      <td>-5274.0</td>\n",
       "      <td>6240.205078</td>\n",
       "      <td>17656.244141</td>\n",
       "      <td>...</td>\n",
       "      <td>1.0</td>\n",
       "      <td>-23.555555</td>\n",
       "      <td>-37.0</td>\n",
       "      <td>1.0</td>\n",
       "      <td>0.111111</td>\n",
       "      <td>1</td>\n",
       "      <td>0.111111</td>\n",
       "      <td>1</td>\n",
       "      <td>0.0</td>\n",
       "      <td>0</td>\n",
       "    </tr>\n",
       "  </tbody>\n",
       "</table>\n",
       "<p>5 rows × 29 columns</p>\n",
       "</div>"
      ],
      "text/plain": [
       "            INS_SK_ID_CURR_COUNT  INS_NUM_INSTALMENT_VERSION_NUNIQUE  \\\n",
       "SK_ID_CURR                                                             \n",
       "100001                         7                                   2   \n",
       "100002                        19                                   2   \n",
       "100003                        25                                   2   \n",
       "100004                         3                                   2   \n",
       "100005                         9                                   2   \n",
       "\n",
       "            INS_DAYS_ENTRY_PAYMENT_MEAN  INS_DAYS_ENTRY_PAYMENT_MAX  \\\n",
       "SK_ID_CURR                                                            \n",
       "100001                     -2195.000000                     -1628.0   \n",
       "100002                      -315.421051                       -49.0   \n",
       "100003                     -1385.319946                      -544.0   \n",
       "100004                      -761.666687                      -727.0   \n",
       "100005                      -609.555542                      -470.0   \n",
       "\n",
       "            INS_DAYS_ENTRY_PAYMENT_SUM  INS_DAYS_INSTALMENT_MEAN  \\\n",
       "SK_ID_CURR                                                         \n",
       "100001                        -15365.0              -2187.714355   \n",
       "100002                         -5993.0               -295.000000   \n",
       "100003                        -34633.0              -1378.160034   \n",
       "100004                         -2285.0               -754.000000   \n",
       "100005                         -5486.0               -586.000000   \n",
       "\n",
       "            INS_DAYS_INSTALMENT_MAX  INS_DAYS_INSTALMENT_SUM  \\\n",
       "SK_ID_CURR                                                     \n",
       "100001                      -1619.0                 -15314.0   \n",
       "100002                        -25.0                  -5605.0   \n",
       "100003                       -536.0                 -34454.0   \n",
       "100004                       -724.0                  -2262.0   \n",
       "100005                       -466.0                  -5274.0   \n",
       "\n",
       "            INS_AMT_INSTALMENT_MEAN  INS_AMT_INSTALMENT_MAX  ...  \\\n",
       "SK_ID_CURR                                                   ...   \n",
       "100001                  5885.132324            17397.900391  ...   \n",
       "100002                 11559.247070            53093.746094  ...   \n",
       "100003                 64754.585938           560835.375000  ...   \n",
       "100004                  7096.154785            10573.964844  ...   \n",
       "100005                  6240.205078            17656.244141  ...   \n",
       "\n",
       "            INS_AMT_RATIO_MAX  INS_SK_DPD_MEAN  INS_SK_DPD_MIN  \\\n",
       "SK_ID_CURR                                                       \n",
       "100001                    1.0        -7.285714           -36.0   \n",
       "100002                    1.0       -20.421053           -31.0   \n",
       "100003                    1.0        -7.160000           -14.0   \n",
       "100004                    1.0        -7.666667           -11.0   \n",
       "100005                    1.0       -23.555555           -37.0   \n",
       "\n",
       "            INS_SK_DPD_MAX  INS_INS_IS_DPD_MEAN  INS_INS_IS_DPD_SUM  \\\n",
       "SK_ID_CURR                                                            \n",
       "100001                11.0             0.142857                   1   \n",
       "100002               -12.0             0.000000                   0   \n",
       "100003                -1.0             0.000000                   0   \n",
       "100004                -3.0             0.000000                   0   \n",
       "100005                 1.0             0.111111                   1   \n",
       "\n",
       "            INS_INS_IS_DPD_UNDER_120_MEAN  INS_INS_IS_DPD_UNDER_120_SUM  \\\n",
       "SK_ID_CURR                                                                \n",
       "100001                           0.142857                             1   \n",
       "100002                           0.000000                             0   \n",
       "100003                           0.000000                             0   \n",
       "100004                           0.000000                             0   \n",
       "100005                           0.111111                             1   \n",
       "\n",
       "            INS_INS_IS_DPD_OVER_120_MEAN  INS_INS_IS_DPD_OVER_120_SUM  \n",
       "SK_ID_CURR                                                             \n",
       "100001                               0.0                            0  \n",
       "100002                               0.0                            0  \n",
       "100003                               0.0                            0  \n",
       "100004                               0.0                            0  \n",
       "100005                               0.0                            0  \n",
       "\n",
       "[5 rows x 29 columns]"
      ]
     },
     "execution_count": 63,
     "metadata": {
      "tags": []
     },
     "output_type": "execute_result"
    }
   ],
   "source": [
    "install_grp = install.groupby('SK_ID_CURR')\n",
    "\n",
    "install_agg_dict = {\n",
    "    'SK_ID_CURR':['count'],\n",
    "    'NUM_INSTALMENT_VERSION':['nunique'], \n",
    "    'DAYS_ENTRY_PAYMENT':['mean', 'max', 'sum'],\n",
    "    'DAYS_INSTALMENT':['mean', 'max', 'sum'],\n",
    "    'AMT_INSTALMENT':['mean', 'max', 'sum'],\n",
    "    'AMT_PAYMENT':['mean', 'max','sum'],\n",
    "    # 추가 컬럼\n",
    "    'AMT_DIFF':['mean','min', 'max','sum'],\n",
    "    'AMT_RATIO':['mean', 'max'],\n",
    "    'SK_DPD':['mean', 'min', 'max'],\n",
    "    'INS_IS_DPD':['mean', 'sum'],\n",
    "    'INS_IS_DPD_UNDER_120':['mean', 'sum'],\n",
    "    'INS_IS_DPD_OVER_120':['mean', 'sum']    \n",
    "}\n",
    "# SK_ID_CURR레벨로 Aggregation 컬럼들 aggregation groupby 수행.   \n",
    "install_agg = install_grp.agg(install_agg_dict)\n",
    "# aggregation된 새로운 컬럼들에 컬럼명 생성. \n",
    "install_agg.columns = ['INS_'+('_').join(column).upper() for column in install_agg.columns.ravel()]\n",
    "install_agg.head()"
   ]
  },
  {
   "cell_type": "code",
   "execution_count": null,
   "metadata": {
    "colab": {},
    "colab_type": "code",
    "id": "i7JsAPGT5PSg"
   },
   "outputs": [],
   "source": [
    "install_agg.head(10)"
   ]
  },
  {
   "cell_type": "markdown",
   "metadata": {
    "colab_type": "text",
    "id": "nRW0vKDf5PSk"
   },
   "source": [
    "##### 실제 납부 일자(DAYS_ENTRY_PAYMENT)가 비교적 최근(1년 이내) 데이터만 별도로 가공. "
   ]
  },
  {
   "cell_type": "code",
   "execution_count": null,
   "metadata": {
    "colab": {},
    "colab_type": "code",
    "id": "NoFZh-gJ5PSk"
   },
   "outputs": [],
   "source": [
    "# DAYS_ENTRY_PAYMENT가 비교적 최근(1년 이내) 데이터만 추출. \n",
    "cond_day = install['DAYS_ENTRY_PAYMENT'] >= -365\n",
    "install_d365_grp = install[cond_day].groupby('SK_ID_CURR')\n",
    "\n",
    "install_d365_agg_dict = {\n",
    "    'SK_ID_CURR':['count'],\n",
    "    'NUM_INSTALMENT_VERSION':['nunique'], \n",
    "    'DAYS_ENTRY_PAYMENT':['mean', 'max', 'sum'],\n",
    "    'DAYS_INSTALMENT':['mean', 'max', 'sum'],\n",
    "    'AMT_INSTALMENT':['mean', 'max', 'sum'],\n",
    "    'AMT_PAYMENT':['mean', 'max','sum'],\n",
    "    #  추가 컬럼\n",
    "    'AMT_DIFF':['mean','min', 'max','sum'],\n",
    "    'AMT_RATIO':['mean', 'max'],\n",
    "    'SK_DPD':['mean', 'min', 'max'],\n",
    "    'INS_IS_DPD':['mean', 'sum'],\n",
    "    'INS_IS_DPD_UNDER_120':['mean', 'sum'],\n",
    "    'INS_IS_DPD_OVER_120':['mean', 'sum']    \n",
    "}\n",
    "# SK_ID_CURR레벨로 Aggregation 컬럼들 aggregation groupby 수행.      \n",
    "install_d365_agg = install_d365_grp.agg(install_d365_agg_dict)\n",
    "# aggregation된 새로운 컬럼들에 컬럼명 생성. \n",
    "install_d365_agg.columns = ['INS_D365'+('_').join(column).upper() for column in install_d365_agg.columns.ravel()]"
   ]
  },
  {
   "cell_type": "markdown",
   "metadata": {
    "colab_type": "text",
    "id": "Y0Sg8Xue5PSn"
   },
   "source": [
    "##### install_agg과 새로 생성한 install_d365_agg를 조인하고 SK_ID_CURR을 reset_index()를 이용하여 컬럼으로 변환"
   ]
  },
  {
   "cell_type": "code",
   "execution_count": null,
   "metadata": {
    "colab": {},
    "colab_type": "code",
    "id": "GaE-aoCB5PSn"
   },
   "outputs": [],
   "source": [
    "install_agg = install_agg.merge(install_d365_agg, on='SK_ID_CURR', how='left')\n",
    "install_agg = install_agg.reset_index()"
   ]
  },
  {
   "cell_type": "code",
   "execution_count": null,
   "metadata": {
    "colab": {},
    "colab_type": "code",
    "id": "fW2UnBMo5PSp",
    "outputId": "129c020e-e920-465d-fca7-9152b06de146"
   },
   "outputs": [
    {
     "data": {
      "text/plain": [
       "(339587, 59)"
      ]
     },
     "execution_count": 66,
     "metadata": {
      "tags": []
     },
     "output_type": "execute_result"
    }
   ],
   "source": [
    "install_agg.shape"
   ]
  },
  {
   "cell_type": "markdown",
   "metadata": {
    "colab_type": "text",
    "id": "6RQ_N9kR5PSr"
   },
   "source": [
    "### credit_card_balance 데이터 가공\n",
    "* 월별 카드 허용한도에 따른 잔고와 인출 금액 비율 \n",
    "* DPD에 따른 가공"
   ]
  },
  {
   "cell_type": "code",
   "execution_count": null,
   "metadata": {
    "colab": {
     "base_uri": "https://localhost:8080/",
     "height": 177
    },
    "colab_type": "code",
    "executionInfo": {
     "elapsed": 1857,
     "status": "error",
     "timestamp": 1599724600305,
     "user": {
      "displayName": "권철민",
      "photoUrl": "",
      "userId": "03917677622451543916"
     },
     "user_tz": -540
    },
    "id": "tkeBx7Ys5PSs",
    "outputId": "92205a30-a3ae-4ab5-98f1-1c54593ce5de"
   },
   "outputs": [
    {
     "ename": "NameError",
     "evalue": "ignored",
     "output_type": "error",
     "traceback": [
      "\u001b[0;31m---------------------------------------------------------------------------\u001b[0m",
      "\u001b[0;31mNameError\u001b[0m                                 Traceback (most recent call last)",
      "\u001b[0;32m<ipython-input-1-fe38734e4d70>\u001b[0m in \u001b[0;36m<module>\u001b[0;34m()\u001b[0m\n\u001b[0;32m----> 1\u001b[0;31m \u001b[0mcard_bal\u001b[0m\u001b[0;34m.\u001b[0m\u001b[0misnull\u001b[0m\u001b[0;34m(\u001b[0m\u001b[0;34m)\u001b[0m\u001b[0;34m.\u001b[0m\u001b[0msum\u001b[0m\u001b[0;34m(\u001b[0m\u001b[0;34m)\u001b[0m\u001b[0;34m\u001b[0m\u001b[0;34m\u001b[0m\u001b[0m\n\u001b[0m",
      "\u001b[0;31mNameError\u001b[0m: name 'card_bal' is not defined"
     ]
    }
   ],
   "source": [
    "card_bal.isnull().sum()"
   ]
  },
  {
   "cell_type": "markdown",
   "metadata": {
    "colab_type": "text",
    "id": "r-op7-iy5PSv"
   },
   "source": [
    "##### 월별 카드 허용한도에 따른 잔고와 인출 금액 비율 "
   ]
  },
  {
   "cell_type": "code",
   "execution_count": null,
   "metadata": {
    "colab": {
     "base_uri": "https://localhost:8080/",
     "height": 196
    },
    "colab_type": "code",
    "executionInfo": {
     "elapsed": 2266,
     "status": "error",
     "timestamp": 1599724600718,
     "user": {
      "displayName": "권철민",
      "photoUrl": "",
      "userId": "03917677622451543916"
     },
     "user_tz": -540
    },
    "id": "sG-9uahy5PSw",
    "outputId": "2a01579f-1415-4175-9687-3d76f23d28c1"
   },
   "outputs": [
    {
     "ename": "NameError",
     "evalue": "ignored",
     "output_type": "error",
     "traceback": [
      "\u001b[0;31m---------------------------------------------------------------------------\u001b[0m",
      "\u001b[0;31mNameError\u001b[0m                                 Traceback (most recent call last)",
      "\u001b[0;32m<ipython-input-2-adf7ecd1d18b>\u001b[0m in \u001b[0;36m<module>\u001b[0;34m()\u001b[0m\n\u001b[0;32m----> 1\u001b[0;31m \u001b[0mcard_bal\u001b[0m\u001b[0;34m[\u001b[0m\u001b[0;34m'BALANCE_LIMIT_RATIO'\u001b[0m\u001b[0;34m]\u001b[0m \u001b[0;34m=\u001b[0m \u001b[0mcard_bal\u001b[0m\u001b[0;34m[\u001b[0m\u001b[0;34m'AMT_BALANCE'\u001b[0m\u001b[0;34m]\u001b[0m\u001b[0;34m/\u001b[0m\u001b[0mcard_bal\u001b[0m\u001b[0;34m[\u001b[0m\u001b[0;34m'AMT_CREDIT_LIMIT_ACTUAL'\u001b[0m\u001b[0;34m]\u001b[0m\u001b[0;34m\u001b[0m\u001b[0;34m\u001b[0m\u001b[0m\n\u001b[0m\u001b[1;32m      2\u001b[0m \u001b[0mcard_bal\u001b[0m\u001b[0;34m[\u001b[0m\u001b[0;34m'DRAWING_LIMIT_RATIO'\u001b[0m\u001b[0;34m]\u001b[0m \u001b[0;34m=\u001b[0m \u001b[0mcard_bal\u001b[0m\u001b[0;34m[\u001b[0m\u001b[0;34m'AMT_DRAWINGS_CURRENT'\u001b[0m\u001b[0;34m]\u001b[0m \u001b[0;34m/\u001b[0m \u001b[0mcard_bal\u001b[0m\u001b[0;34m[\u001b[0m\u001b[0;34m'AMT_CREDIT_LIMIT_ACTUAL'\u001b[0m\u001b[0;34m]\u001b[0m\u001b[0;34m\u001b[0m\u001b[0;34m\u001b[0m\u001b[0m\n",
      "\u001b[0;31mNameError\u001b[0m: name 'card_bal' is not defined"
     ]
    }
   ],
   "source": [
    "card_bal['BALANCE_LIMIT_RATIO'] = card_bal['AMT_BALANCE']/card_bal['AMT_CREDIT_LIMIT_ACTUAL']\n",
    "card_bal['DRAWING_LIMIT_RATIO'] = card_bal['AMT_DRAWINGS_CURRENT'] / card_bal['AMT_CREDIT_LIMIT_ACTUAL']"
   ]
  },
  {
   "cell_type": "markdown",
   "metadata": {
    "colab_type": "text",
    "id": "KXcZ5Ez35PSz"
   },
   "source": [
    "##### DPD에 따른 가공 컬럼 생성."
   ]
  },
  {
   "cell_type": "code",
   "execution_count": null,
   "metadata": {
    "colab": {},
    "colab_type": "code",
    "id": "ugGrMFFp5PSz"
   },
   "outputs": [],
   "source": [
    "# 연체 일자(SK_DPD)가 0 보다 큰 경우, 30-120 사이, 120보다 큰 경우 조사 \n",
    "cond_over_0 = card_bal['SK_DPD'] > 0\n",
    "cond_over_0_30 = (card_bal['SK_DPD'] <= 30) & (card_bal['SK_DPD'] > 0)\n",
    "cond_over_30_120 = (card_bal['SK_DPD'] < 120) & (card_bal['SK_DPD'] > 30)\n",
    "cond_over_120 = (card_bal['SK_DPD'] >= 120)\n",
    "\n",
    "print(' 연체 비율:', card_bal[cond_over_0].shape[0]/card_bal.shape[0] )\n",
    "print(' 연체 비율 30일 미만:', card_bal[cond_over_0_30].shape[0]/card_bal.shape[0] )\n",
    "print(' 연체일자 30일이상 120이하 비율 :', card_bal[cond_over_30_120].shape[0]/card_bal.shape[0] )\n",
    "print(' 연체일자 120이상 비율 :', card_bal[cond_over_120].shape[0]/card_bal.shape[0] )"
   ]
  },
  {
   "cell_type": "code",
   "execution_count": null,
   "metadata": {
    "colab": {},
    "colab_type": "code",
    "id": "_AdQX5Fc5PS1"
   },
   "outputs": [],
   "source": [
    "# 연체여부,  연체일수 0~ 120 사이 여부, 연체 일수 120보다 큰 여부 추가 가공. \n",
    "card_bal['CARD_IS_DPD'] = card_bal['SK_DPD'].apply(lambda x: 1 if x > 0 else 0)\n",
    "card_bal['CARD_IS_DPD_UNDER_120'] = card_bal['SK_DPD'].apply(lambda x:1 if (x > 0) & (x <120) else 0 )\n",
    "card_bal['CARD_IS_DPD_OVER_120'] = card_bal['SK_DPD'].apply(lambda x:1 if x >= 120 else 0)"
   ]
  },
  {
   "cell_type": "code",
   "execution_count": null,
   "metadata": {
    "colab": {},
    "colab_type": "code",
    "id": "xHh-i7ko5PS4"
   },
   "outputs": [],
   "source": [
    "card_bal.head()"
   ]
  },
  {
   "cell_type": "markdown",
   "metadata": {
    "colab_type": "text",
    "id": "MVU3Iv7k5PS6"
   },
   "source": [
    "##### 기존 컬럼과 가공 컬럼으로 SK_ID_CURR 레벨로 aggregation 신규 컬럼 생성. "
   ]
  },
  {
   "cell_type": "code",
   "execution_count": null,
   "metadata": {
    "colab": {},
    "colab_type": "code",
    "id": "JAyzz6aH5PS6"
   },
   "outputs": [],
   "source": [
    "# 기존 컬럼과 가공 컬럼으로 SK_ID_CURR 레벨로 aggregation 신규 컬럼 생성. \n",
    "card_bal_grp = card_bal.groupby('SK_ID_CURR')\n",
    "card_bal_agg_dict = {\n",
    "    'SK_ID_CURR':['count'],\n",
    "     #'MONTHS_BALANCE':['min', 'max', 'mean'],\n",
    "    'AMT_BALANCE':['max'],\n",
    "    'AMT_CREDIT_LIMIT_ACTUAL':['max'],\n",
    "    'AMT_DRAWINGS_ATM_CURRENT': ['max', 'sum'],\n",
    "    'AMT_DRAWINGS_CURRENT': ['max', 'sum'],\n",
    "    'AMT_DRAWINGS_POS_CURRENT': ['max', 'sum'],\n",
    "    'AMT_INST_MIN_REGULARITY': ['max', 'mean'],\n",
    "    'AMT_PAYMENT_TOTAL_CURRENT': ['max','sum'],\n",
    "    'AMT_TOTAL_RECEIVABLE': ['max', 'mean'],\n",
    "    'CNT_DRAWINGS_ATM_CURRENT': ['max','sum'],\n",
    "    'CNT_DRAWINGS_CURRENT': ['max', 'mean', 'sum'],\n",
    "    'CNT_DRAWINGS_POS_CURRENT': ['mean'],\n",
    "    'SK_DPD': ['mean', 'max', 'sum'],\n",
    "    #  추가 컬럼\n",
    "    'BALANCE_LIMIT_RATIO':['min','max'],\n",
    "    'DRAWING_LIMIT_RATIO':['min', 'max'],\n",
    "    'CARD_IS_DPD':['mean', 'sum'],\n",
    "    'CARD_IS_DPD_UNDER_120':['mean', 'sum'],\n",
    "    'CARD_IS_DPD_OVER_120':['mean', 'sum']    \n",
    "}\n",
    "# SK_ID_CURR레벨로 Aggregation 컬럼들 aggregation groupby 수행.  \n",
    "card_bal_agg = card_bal_grp.agg(card_bal_agg_dict)\n",
    "# aggregation된 새로운 컬럼들에 컬럼명 생성. \n",
    "card_bal_agg.columns = ['CARD_'+('_').join(column).upper() for column in card_bal_agg.columns.ravel()]"
   ]
  },
  {
   "cell_type": "markdown",
   "metadata": {
    "colab_type": "text",
    "id": "idt3Nyg85PS9"
   },
   "source": [
    "##### MONTHS_BALANCE가 비교적 최근 데이터( 3개월 이하)만 별도로 가공. "
   ]
  },
  {
   "cell_type": "code",
   "execution_count": null,
   "metadata": {
    "colab": {},
    "colab_type": "code",
    "id": "P2627Uf65PS9"
   },
   "outputs": [],
   "source": [
    "# MONTHS_BALANCE가 3개월 이하 최신 데이터만 별도로 가공. \n",
    "cond_month = card_bal['MONTHS_BALANCE'] >= -3\n",
    "card_bal_m3_grp = card_bal[cond_month].groupby('SK_ID_CURR')\n",
    "\n",
    "card_bal_agg_dict = {\n",
    "    'SK_ID_CURR':['count'],\n",
    "     #'MONTHS_BALANCE':['min', 'max', 'mean'],\n",
    "    'AMT_BALANCE':['max'],\n",
    "    'AMT_CREDIT_LIMIT_ACTUAL':['max'],\n",
    "    'AMT_DRAWINGS_ATM_CURRENT': ['max', 'sum'],\n",
    "    'AMT_DRAWINGS_CURRENT': ['max', 'sum'],\n",
    "    'AMT_DRAWINGS_POS_CURRENT': ['max', 'sum'],\n",
    "    'AMT_INST_MIN_REGULARITY': ['max', 'mean'],\n",
    "    'AMT_PAYMENT_TOTAL_CURRENT': ['max','sum'],\n",
    "    'AMT_TOTAL_RECEIVABLE': ['max', 'mean'],\n",
    "    'CNT_DRAWINGS_ATM_CURRENT': ['max','sum'],\n",
    "    'CNT_DRAWINGS_CURRENT': ['max', 'mean', 'sum'],\n",
    "    'CNT_DRAWINGS_POS_CURRENT': ['mean'],\n",
    "    'SK_DPD': ['mean', 'max', 'sum'],\n",
    "    #  추가 컬럼\n",
    "    'BALANCE_LIMIT_RATIO':['min','max'],\n",
    "    'DRAWING_LIMIT_RATIO':['min', 'max'],\n",
    "    'CARD_IS_DPD':['mean', 'sum'],\n",
    "    'CARD_IS_DPD_UNDER_120':['mean', 'sum'],\n",
    "    'CARD_IS_DPD_OVER_120':['mean', 'sum']    \n",
    "}\n",
    "# SK_ID_CURR레벨로 Aggregation 컬럼들 aggregation groupby 수행.\n",
    "card_bal_m3_agg = card_bal_m3_grp.agg(card_bal_agg_dict)\n",
    "# aggregation된 새로운 컬럼들에 컬럼명 생성. \n",
    "card_bal_m3_agg.columns = ['CARD_M3'+('_').join(column).upper() for column in card_bal_m3_agg.columns.ravel()]"
   ]
  },
  {
   "cell_type": "markdown",
   "metadata": {
    "colab_type": "text",
    "id": "PAMB_aIZ5PS_"
   },
   "source": [
    "##### card_bal_agg와 새로 생성한 card_bal_m3_agg를 조인하고 SK_ID_CURR을 reset_index()를 이용하여 컬럼으로 변환"
   ]
  },
  {
   "cell_type": "code",
   "execution_count": null,
   "metadata": {
    "colab": {},
    "colab_type": "code",
    "id": "aEcTFrf15PTA"
   },
   "outputs": [],
   "source": [
    "card_bal_agg = card_bal_agg.merge(card_bal_m3_agg, on='SK_ID_CURR', how='left')\n",
    "card_bal_agg = card_bal_agg.reset_index()"
   ]
  },
  {
   "cell_type": "markdown",
   "metadata": {
    "colab_type": "text",
    "id": "DjTePZQE5PTD"
   },
   "source": [
    "##### 새롭게 생성한 aggregation 데이터 세트에 대한 shape "
   ]
  },
  {
   "cell_type": "code",
   "execution_count": null,
   "metadata": {
    "colab": {},
    "colab_type": "code",
    "id": "pe4XU4Wj5PTD"
   },
   "outputs": [],
   "source": [
    "print('pos_bal_agg shape:', pos_bal_agg.shape, 'install_agg shape:', install_agg.shape, 'card_bal_agg shape:', card_bal_agg.shape)"
   ]
  },
  {
   "cell_type": "markdown",
   "metadata": {
    "colab_type": "text",
    "id": "wU6e2lYw5PTH"
   },
   "source": [
    "#### 지금까지 수행한 POS_CASH, INSTALL, CREDIT_CARD에 대한 FE를 별도의 함수로 생성."
   ]
  },
  {
   "cell_type": "code",
   "execution_count": null,
   "metadata": {
    "colab": {},
    "colab_type": "code",
    "id": "Z6nKg26V5PTH"
   },
   "outputs": [],
   "source": [
    "def get_pos_bal_agg(pos_bal):\n",
    "    # 연체 일자(SK_DPD)가 0 보다 큰 경우, 0~ 100 사이, 100보다 큰 경우 조사 \n",
    "    cond_over_0 = pos_bal['SK_DPD'] > 0\n",
    "    cond_100 = (pos_bal['SK_DPD'] < 100) & (pos_bal['SK_DPD'] > 0)\n",
    "    cond_over_100 = (pos_bal['SK_DPD'] >= 100)\n",
    "\n",
    "    # 연체여부,  연체일수 0~ 120 사이 여부, 연체 일수 120보다 큰 여부 \n",
    "    pos_bal['POS_IS_DPD'] = pos_bal['SK_DPD'].apply(lambda x: 1 if x > 0 else 0)\n",
    "    pos_bal['POS_IS_DPD_UNDER_120'] = pos_bal['SK_DPD'].apply(lambda x:1 if (x > 0) & (x <120) else 0 )\n",
    "    pos_bal['POS_IS_DPD_OVER_120'] = pos_bal['SK_DPD'].apply(lambda x:1 if x >= 120 else 0)\n",
    "\n",
    "    # 기존 컬럼과 신규 컬럼으로 SK_ID_CURR 레벨로 신규 aggregation 컬럼 생성\n",
    "    pos_bal_grp = pos_bal.groupby('SK_ID_CURR')\n",
    "    pos_bal_agg_dict = {\n",
    "        'SK_ID_CURR':['count'], \n",
    "        'MONTHS_BALANCE':['min', 'mean', 'max'], \n",
    "        'SK_DPD':['min', 'max', 'mean', 'sum'],\n",
    "        'CNT_INSTALMENT':['min', 'max', 'mean', 'sum'],\n",
    "        'CNT_INSTALMENT_FUTURE':['min', 'max', 'mean', 'sum'],\n",
    "        # 추가 컬럼. \n",
    "        'POS_IS_DPD':['mean', 'sum'],\n",
    "        'POS_IS_DPD_UNDER_120':['mean', 'sum'],\n",
    "        'POS_IS_DPD_OVER_120':['mean', 'sum']\n",
    "    }\n",
    "\n",
    "    pos_bal_agg = pos_bal_grp.agg(pos_bal_agg_dict)\n",
    "    # 컬럼명 변경 \n",
    "    pos_bal_agg.columns = [('POS_')+('_').join(column).upper() for column in pos_bal_agg.columns.ravel()]\n",
    "    \n",
    "    # MONTHS_BALANCE가 최근(20개월 이하)인 데이터 세트 별도 가공. \n",
    "    cond_months = pos_bal['MONTHS_BALANCE'] > -20\n",
    "    pos_bal_m20_grp = pos_bal[cond_months].groupby('SK_ID_CURR')\n",
    "    pos_bal_m20_agg_dict = {\n",
    "        'SK_ID_CURR':['count'], \n",
    "        'MONTHS_BALANCE':['min', 'mean', 'max'], \n",
    "        'SK_DPD':['min', 'max', 'mean', 'sum'],\n",
    "        'CNT_INSTALMENT':['min', 'max', 'mean', 'sum'],\n",
    "        'CNT_INSTALMENT_FUTURE':['min', 'max', 'mean', 'sum'],\n",
    "        # 추가 컬럼. \n",
    "        'POS_IS_DPD':['mean', 'sum'],\n",
    "        'POS_IS_DPD_UNDER_120':['mean', 'sum'],\n",
    "        'POS_IS_DPD_OVER_120':['mean', 'sum']\n",
    "    }\n",
    "\n",
    "    pos_bal_m20_agg = pos_bal_m20_grp.agg(pos_bal_m20_agg_dict)\n",
    "    # 컬럼 변경 \n",
    "    pos_bal_m20_agg.columns = [('POS_M20')+('_').join(column).upper() for column in pos_bal_m20_agg.columns.ravel()]\n",
    "    pos_bal_agg = pos_bal_agg.merge(pos_bal_m20_agg, on='SK_ID_CURR', how='left')\n",
    "    \n",
    "    # SK_ID_CURR을 reset_index()를 이용하여 컬럼으로 변환\n",
    "    pos_bal_agg = pos_bal_agg.reset_index()\n",
    "    \n",
    "    \n",
    "    return pos_bal_agg\n",
    "\n",
    "def get_install_agg(install):\n",
    "    # 예정 납부 금액 대비 실제 납부 금액 관련 데이터 가공. 예정 납부 일자 대비 실제 납부 일자 비교를 DPD 일자 생성  \n",
    "    install['AMT_DIFF'] = install['AMT_INSTALMENT'] - install['AMT_PAYMENT']\n",
    "    install['AMT_RATIO'] =  (install['AMT_PAYMENT'] +1)/ (install['AMT_INSTALMENT'] + 1)\n",
    "    install['SK_DPD'] = install['DAYS_ENTRY_PAYMENT'] - install['DAYS_INSTALMENT']\n",
    "\n",
    "    # 연체여부,  연체일수 30~ 120 사이 여부, 연체 일수 100보다 큰 여부 데이터 가공. \n",
    "    install['INS_IS_DPD'] = install['SK_DPD'].apply(lambda x: 1 if x > 0 else 0)\n",
    "    install['INS_IS_DPD_UNDER_120'] = install['SK_DPD'].apply(lambda x:1 if (x > 0) & (x <120) else 0 )\n",
    "    install['INS_IS_DPD_OVER_120'] = install['SK_DPD'].apply(lambda x:1 if x >= 120 else 0)\n",
    "\n",
    "    # 기존 컬럼과 신규 컬럼으로 SK_ID_CURR 레벨로 신규 aggregation 컬럼 생성. \n",
    "    install_grp = install.groupby('SK_ID_CURR')\n",
    "\n",
    "    install_agg_dict = {\n",
    "        'SK_ID_CURR':['count'],\n",
    "        'NUM_INSTALMENT_VERSION':['nunique'], \n",
    "        'DAYS_ENTRY_PAYMENT':['mean', 'max', 'sum'],\n",
    "        'DAYS_INSTALMENT':['mean', 'max', 'sum'],\n",
    "        'AMT_INSTALMENT':['mean', 'max', 'sum'],\n",
    "        'AMT_PAYMENT':['mean', 'max','sum'],\n",
    "        #  추가 컬럼\n",
    "        'AMT_DIFF':['mean','min', 'max','sum'],\n",
    "        'AMT_RATIO':['mean', 'max'],\n",
    "        'SK_DPD':['mean', 'min', 'max'],\n",
    "        'INS_IS_DPD':['mean', 'sum'],\n",
    "        'INS_IS_DPD_UNDER_120':['mean', 'sum'],\n",
    "        'INS_IS_DPD_OVER_120':['mean', 'sum']    \n",
    "    }\n",
    "\n",
    "    install_agg = install_grp.agg(install_agg_dict)\n",
    "    install_agg.columns = ['INS_'+('_').join(column).upper() for column in install_agg.columns.ravel()]\n",
    "\n",
    "    \n",
    "    # 실제 납부 일자(DAYS_ENTRY_PAYMENT)가 비교적 최근(1년 이내) 데이터만 별도로 가공\n",
    "    cond_day = install['DAYS_ENTRY_PAYMENT'] >= -365\n",
    "    install_d365_grp = install[cond_day].groupby('SK_ID_CURR')\n",
    "    install_d365_agg_dict = {\n",
    "        'SK_ID_CURR':['count'],\n",
    "        'NUM_INSTALMENT_VERSION':['nunique'], \n",
    "        'DAYS_ENTRY_PAYMENT':['mean', 'max', 'sum'],\n",
    "        'DAYS_INSTALMENT':['mean', 'max', 'sum'],\n",
    "        'AMT_INSTALMENT':['mean', 'max', 'sum'],\n",
    "        'AMT_PAYMENT':['mean', 'max','sum'],\n",
    "        #  추가 컬럼\n",
    "        'AMT_DIFF':['mean','min', 'max','sum'],\n",
    "        'AMT_RATIO':['mean', 'max'],\n",
    "        'SK_DPD':['mean', 'min', 'max'],\n",
    "        'INS_IS_DPD':['mean', 'sum'],\n",
    "        'INS_IS_DPD_UNDER_120':['mean', 'sum'],\n",
    "        'INS_IS_DPD_OVER_120':['mean', 'sum']    \n",
    "    }\n",
    "    \n",
    "    install_d365_agg = install_d365_grp.agg(install_d365_agg_dict)\n",
    "    install_d365_agg.columns = ['INS_D365'+('_').join(column).upper() for column in install_d365_agg.columns.ravel()]\n",
    "    \n",
    "    install_agg = install_agg.merge(install_d365_agg, on='SK_ID_CURR', how='left')\n",
    "    install_agg = install_agg.reset_index()\n",
    "    \n",
    "    return install_agg\n",
    "\n",
    "def get_card_bal_agg(card_bal):\n",
    "    # 월별 카드 허용한도에 따른 잔고와 인출 금액 비율 \n",
    "    card_bal['BALANCE_LIMIT_RATIO'] = card_bal['AMT_BALANCE']/card_bal['AMT_CREDIT_LIMIT_ACTUAL']\n",
    "    card_bal['DRAWING_LIMIT_RATIO'] = card_bal['AMT_DRAWINGS_CURRENT'] / card_bal['AMT_CREDIT_LIMIT_ACTUAL']\n",
    "\n",
    "    # DPD에 따른 가공 컬럼 생성.\n",
    "    card_bal['CARD_IS_DPD'] = card_bal['SK_DPD'].apply(lambda x: 1 if x > 0 else 0)\n",
    "    card_bal['CARD_IS_DPD_UNDER_120'] = card_bal['SK_DPD'].apply(lambda x:1 if (x > 0) & (x <120) else 0 )\n",
    "    card_bal['CARD_IS_DPD_OVER_120'] = card_bal['SK_DPD'].apply(lambda x:1 if x >= 120 else 0)\n",
    "\n",
    "    # 기존 컬럼과 가공 컬럼으로 SK_ID_CURR 레벨로 aggregation 신규 컬럼 생성. \n",
    "    card_bal_grp = card_bal.groupby('SK_ID_CURR')\n",
    "    card_bal_agg_dict = {\n",
    "        'SK_ID_CURR':['count'],\n",
    "         #'MONTHS_BALANCE':['min', 'max', 'mean'],\n",
    "        'AMT_BALANCE':['max'],\n",
    "        'AMT_CREDIT_LIMIT_ACTUAL':['max'],\n",
    "        'AMT_DRAWINGS_ATM_CURRENT': ['max', 'sum'],\n",
    "        'AMT_DRAWINGS_CURRENT': ['max', 'sum'],\n",
    "        'AMT_DRAWINGS_POS_CURRENT': ['max', 'sum'],\n",
    "        'AMT_INST_MIN_REGULARITY': ['max', 'mean'],\n",
    "        'AMT_PAYMENT_TOTAL_CURRENT': ['max','sum'],\n",
    "        'AMT_TOTAL_RECEIVABLE': ['max', 'mean'],\n",
    "        'CNT_DRAWINGS_ATM_CURRENT': ['max','sum'],\n",
    "        'CNT_DRAWINGS_CURRENT': ['max', 'mean', 'sum'],\n",
    "        'CNT_DRAWINGS_POS_CURRENT': ['mean'],\n",
    "        'SK_DPD': ['mean', 'max', 'sum'],\n",
    "        #  추가 컬럼\n",
    "        'BALANCE_LIMIT_RATIO':['min','max'],\n",
    "        'DRAWING_LIMIT_RATIO':['min', 'max'],\n",
    "        'CARD_IS_DPD':['mean', 'sum'],\n",
    "        'CARD_IS_DPD_UNDER_120':['mean', 'sum'],\n",
    "        'CARD_IS_DPD_OVER_120':['mean', 'sum']    \n",
    "    }\n",
    "    card_bal_agg = card_bal_grp.agg(card_bal_agg_dict)\n",
    "    card_bal_agg.columns = ['CARD_'+('_').join(column).upper() for column in card_bal_agg.columns.ravel()]\n",
    "\n",
    "    card_bal_agg = card_bal_agg.reset_index()\n",
    "    \n",
    "    # MONTHS_BALANCE가 비교적 최근 데이터( 3개월 이하)만 별도로 가공.  \n",
    "    cond_month = card_bal.MONTHS_BALANCE >= -3\n",
    "    card_bal_m3_grp = card_bal[cond_month].groupby('SK_ID_CURR')\n",
    "    card_bal_m3_agg = card_bal_m3_grp.agg(card_bal_agg_dict)\n",
    "    card_bal_m3_agg.columns = ['CARD_M3'+('_').join(column).upper() for column in card_bal_m3_agg.columns.ravel()]\n",
    "    \n",
    "    card_bal_agg = card_bal_agg.merge(card_bal_m3_agg, on='SK_ID_CURR', how='left')\n",
    "    card_bal_agg = card_bal_agg.reset_index()\n",
    "    \n",
    "    return card_bal_agg"
   ]
  },
  {
   "cell_type": "code",
   "execution_count": null,
   "metadata": {
    "colab": {},
    "colab_type": "code",
    "id": "PHFyJxXu5PTN"
   },
   "outputs": [],
   "source": [
    "del pos_bal_app, install_app, card_bal_app, pos_bal_agg, install_agg, card_bal_agg\n",
    "gc.collect()"
   ]
  },
  {
   "cell_type": "code",
   "execution_count": null,
   "metadata": {
    "colab": {},
    "colab_type": "code",
    "id": "NYwSs5u_5PTQ"
   },
   "outputs": [],
   "source": [
    "pos_bal_agg = get_pos_bal_agg(pos_bal)\n",
    "install_agg = get_install_agg(install)\n",
    "card_bal_agg = get_card_bal_agg(card_bal)\n",
    "\n",
    "print('pos_bal_agg shape:', pos_bal_agg.shape, 'install_agg shape:', install_agg.shape, 'card_bal_agg shape:', card_bal_agg.shape)"
   ]
  },
  {
   "cell_type": "markdown",
   "metadata": {
    "colab_type": "text",
    "id": "0reBY0ja5PTT"
   },
   "source": [
    "### 기존 application, previous, bureau, bureau_bal 데이터 가공 로직 복사. "
   ]
  },
  {
   "cell_type": "code",
   "execution_count": null,
   "metadata": {
    "colab": {},
    "colab_type": "code",
    "id": "-12SVvm_5PTT"
   },
   "outputs": [],
   "source": [
    "from sklearn.model_selection import train_test_split\n",
    "from lightgbm import LGBMClassifier\n",
    "\n",
    "def get_apps_processed(apps):\n",
    "    \n",
    "    # EXT_SOURCE_X FEATURE 가공\n",
    "    apps['APPS_EXT_SOURCE_MEAN'] = apps[['EXT_SOURCE_1', 'EXT_SOURCE_2', 'EXT_SOURCE_3']].mean(axis=1)\n",
    "    apps['APPS_EXT_SOURCE_STD'] = apps[['EXT_SOURCE_1', 'EXT_SOURCE_2', 'EXT_SOURCE_3']].std(axis=1)\n",
    "    apps['APPS_EXT_SOURCE_STD'] = apps['APPS_EXT_SOURCE_STD'].fillna(apps['APPS_EXT_SOURCE_STD'].mean())\n",
    "    \n",
    "    # AMT_CREDIT 비율로 Feature 가공\n",
    "    apps['APPS_ANNUITY_CREDIT_RATIO'] = apps['AMT_ANNUITY']/apps['AMT_CREDIT']\n",
    "    apps['APPS_GOODS_CREDIT_RATIO'] = apps['AMT_GOODS_PRICE']/apps['AMT_CREDIT']\n",
    "    \n",
    "    # AMT_INCOME_TOTAL 비율로 Feature 가공\n",
    "    apps['APPS_ANNUITY_INCOME_RATIO'] = apps['AMT_ANNUITY']/apps['AMT_INCOME_TOTAL']\n",
    "    apps['APPS_CREDIT_INCOME_RATIO'] = apps['AMT_CREDIT']/apps['AMT_INCOME_TOTAL']\n",
    "    apps['APPS_GOODS_INCOME_RATIO'] = apps['AMT_GOODS_PRICE']/apps['AMT_INCOME_TOTAL']\n",
    "    apps['APPS_CNT_FAM_INCOME_RATIO'] = apps['AMT_INCOME_TOTAL']/apps['CNT_FAM_MEMBERS']\n",
    "    \n",
    "    # DAYS_BIRTH, DAYS_EMPLOYED 비율로 Feature 가공\n",
    "    apps['APPS_EMPLOYED_BIRTH_RATIO'] = apps['DAYS_EMPLOYED']/apps['DAYS_BIRTH']\n",
    "    apps['APPS_INCOME_EMPLOYED_RATIO'] = apps['AMT_INCOME_TOTAL']/apps['DAYS_EMPLOYED']\n",
    "    apps['APPS_INCOME_BIRTH_RATIO'] = apps['AMT_INCOME_TOTAL']/apps['DAYS_BIRTH']\n",
    "    apps['APPS_CAR_BIRTH_RATIO'] = apps['OWN_CAR_AGE'] / apps['DAYS_BIRTH']\n",
    "    apps['APPS_CAR_EMPLOYED_RATIO'] = apps['OWN_CAR_AGE'] / apps['DAYS_EMPLOYED']\n",
    "    \n",
    "    return apps\n",
    "\n",
    "def get_prev_processed(prev):\n",
    "    # 대출 신청 금액과 실제 대출액/대출 상품금액 차이 및 비율\n",
    "    prev['PREV_CREDIT_DIFF'] = prev['AMT_APPLICATION'] - prev['AMT_CREDIT']\n",
    "    prev['PREV_GOODS_DIFF'] = prev['AMT_APPLICATION'] - prev['AMT_GOODS_PRICE']\n",
    "    prev['PREV_CREDIT_APPL_RATIO'] = prev['AMT_CREDIT']/prev['AMT_APPLICATION']\n",
    "    # prev['PREV_ANNUITY_APPL_RATIO'] = prev['AMT_ANNUITY']/prev['AMT_APPLICATION']\n",
    "    prev['PREV_GOODS_APPL_RATIO'] = prev['AMT_GOODS_PRICE']/prev['AMT_APPLICATION']\n",
    "    \n",
    "    prev['DAYS_FIRST_DRAWING'].replace(365243, np.nan, inplace= True)\n",
    "    prev['DAYS_FIRST_DUE'].replace(365243, np.nan, inplace= True)\n",
    "    prev['DAYS_LAST_DUE_1ST_VERSION'].replace(365243, np.nan, inplace= True)\n",
    "    prev['DAYS_LAST_DUE'].replace(365243, np.nan, inplace= True)\n",
    "    prev['DAYS_TERMINATION'].replace(365243, np.nan, inplace= True)\n",
    "    # 첫번째 만기일과 마지막 만기일까지의 기간\n",
    "    prev['PREV_DAYS_LAST_DUE_DIFF'] = prev['DAYS_LAST_DUE_1ST_VERSION'] - prev['DAYS_LAST_DUE']\n",
    "    # 매월 납부 금액과 납부 횟수 곱해서 전체 납부 금액 구함. \n",
    "    all_pay = prev['AMT_ANNUITY'] * prev['CNT_PAYMENT']\n",
    "    # 전체 납부 금액 대비 AMT_CREDIT 비율을 구하고 여기에 다시 납부횟수로 나누어서 이자율 계산. \n",
    "    prev['PREV_INTERESTS_RATE'] = (all_pay/prev['AMT_CREDIT'] - 1)/prev['CNT_PAYMENT']\n",
    "        \n",
    "    return prev\n",
    "    \n",
    "    \n",
    "def get_prev_amt_agg(prev):\n",
    "    # 새롭게 생성된 대출 신청액 대비 다른 금액 차이 및 비율로 aggregation 수행. \n",
    "    agg_dict = {\n",
    "         # 기존 컬럼 aggregation. \n",
    "        'SK_ID_CURR':['count'],\n",
    "        'AMT_CREDIT':['mean', 'max', 'sum'],\n",
    "        'AMT_ANNUITY':['mean', 'max', 'sum'], \n",
    "        'AMT_APPLICATION':['mean', 'max', 'sum'],\n",
    "        'AMT_DOWN_PAYMENT':['mean', 'max', 'sum'],\n",
    "        'AMT_GOODS_PRICE':['mean', 'max', 'sum'],\n",
    "        'RATE_DOWN_PAYMENT': ['min', 'max', 'mean'],\n",
    "        'DAYS_DECISION': ['min', 'max', 'mean'],\n",
    "        'CNT_PAYMENT': ['mean', 'sum'],\n",
    "        # 가공 컬럼 aggregation\n",
    "        'PREV_CREDIT_DIFF':['mean', 'max', 'sum'], \n",
    "        'PREV_CREDIT_APPL_RATIO':['mean', 'max'],\n",
    "        'PREV_GOODS_DIFF':['mean', 'max', 'sum'],\n",
    "        'PREV_GOODS_APPL_RATIO':['mean', 'max'],\n",
    "        'PREV_DAYS_LAST_DUE_DIFF':['mean', 'max', 'sum'],\n",
    "        'PREV_INTERESTS_RATE':['mean', 'max']\n",
    "    }\n",
    "\n",
    "    prev_group = prev.groupby('SK_ID_CURR')\n",
    "    prev_amt_agg = prev_group.agg(agg_dict)\n",
    "\n",
    "    # multi index 컬럼을 '_'로 연결하여 컬럼명 변경\n",
    "    prev_amt_agg.columns = [\"PREV_\"+ \"_\".join(x).upper() for x in prev_amt_agg.columns.ravel()]\n",
    "    \n",
    "    return prev_amt_agg\n",
    "\n",
    "def get_prev_refused_appr_agg(prev):\n",
    "    # 원래 groupby 컬럼 + 세부 기준 컬럼으로 groupby 수행. 세분화된 레벨로 aggregation 수행 한 뒤에 unstack()으로 컬럼레벨로 변형. \n",
    "    prev_refused_appr_group = prev[prev['NAME_CONTRACT_STATUS'].isin(['Approved', 'Refused'])].groupby([ 'SK_ID_CURR', 'NAME_CONTRACT_STATUS'])\n",
    "    prev_refused_appr_agg = prev_refused_appr_group['SK_ID_CURR'].count().unstack()\n",
    "    # 컬럼명 변경. \n",
    "    prev_refused_appr_agg.columns = ['PREV_APPROVED_COUNT', 'PREV_REFUSED_COUNT' ]\n",
    "    # NaN값은 모두 0으로 변경. \n",
    "    prev_refused_appr_agg = prev_refused_appr_agg.fillna(0)\n",
    "    \n",
    "    return prev_refused_appr_agg\n",
    "\n",
    "def get_prev_agg(prev):\n",
    "    prev = get_prev_processed(prev)\n",
    "    prev_amt_agg = get_prev_amt_agg(prev)\n",
    "    prev_refused_appr_agg = get_prev_refused_appr_agg(prev)\n",
    "    \n",
    "    # prev_amt_agg와 조인. \n",
    "    prev_agg = prev_amt_agg.merge(prev_refused_appr_agg, on='SK_ID_CURR', how='left')\n",
    "    # SK_ID_CURR별 과거 대출건수 대비 APPROVED_COUNT 및 REFUSED_COUNT 비율 생성. \n",
    "    prev_agg['PREV_REFUSED_RATIO'] = prev_agg['PREV_REFUSED_COUNT']/prev_agg['PREV_SK_ID_CURR_COUNT']\n",
    "    prev_agg['PREV_APPROVED_RATIO'] = prev_agg['PREV_APPROVED_COUNT']/prev_agg['PREV_SK_ID_CURR_COUNT']\n",
    "    # 'PREV_REFUSED_COUNT', 'PREV_APPROVED_COUNT' 컬럼 drop \n",
    "    prev_agg = prev_agg.drop(['PREV_REFUSED_COUNT', 'PREV_APPROVED_COUNT'], axis=1)\n",
    "    \n",
    "    return prev_agg\n",
    "\n",
    "# bureau 채무 완료 날짜 및 대출 금액 대비 채무 금액 관련 컬럼 가공.\n",
    "def get_bureau_processed(bureau):\n",
    "    # 예정 채무 시작 및 완료일과 실제 채무 완료일간의 차이 및 날짜 비율 가공.  \n",
    "    bureau['BUREAU_ENDDATE_FACT_DIFF'] = bureau['DAYS_CREDIT_ENDDATE'] - bureau['DAYS_ENDDATE_FACT']\n",
    "    bureau['BUREAU_CREDIT_FACT_DIFF'] = bureau['DAYS_CREDIT'] - bureau['DAYS_ENDDATE_FACT']\n",
    "    bureau['BUREAU_CREDIT_ENDDATE_DIFF'] = bureau['DAYS_CREDIT'] - bureau['DAYS_CREDIT_ENDDATE']\n",
    "  \n",
    "    # 채무 금액 대비/대출 금액 비율 및 차이 가공\n",
    "    bureau['BUREAU_CREDIT_DEBT_RATIO']=bureau['AMT_CREDIT_SUM_DEBT']/bureau['AMT_CREDIT_SUM']\n",
    "    #bureau['BUREAU_CREDIT_DEBT_DIFF'] = bureau['AMT_CREDIT_SUM'] - bureau['AMT_CREDIT_SUM_DEBT']\n",
    "    bureau['BUREAU_CREDIT_DEBT_DIFF'] = bureau['AMT_CREDIT_SUM_DEBT'] - bureau['AMT_CREDIT_SUM']\n",
    "    \n",
    "    # 연체 여부 및 120일 이상 연체 여부 가공\n",
    "    bureau['BUREAU_IS_DPD'] = bureau['CREDIT_DAY_OVERDUE'].apply(lambda x: 1 if x > 0 else 0)\n",
    "    bureau['BUREAU_IS_DPD_OVER120'] = bureau['CREDIT_DAY_OVERDUE'].apply(lambda x: 1 if x >120 else 0)\n",
    "    \n",
    "    return bureau\n",
    "\n",
    "# bureau 주요 컬럼 및 앞에서 채무 및 대출금액 관련 컬럼들로 SK_ID_CURR 레벨의 aggregation 컬럼 생성. \n",
    "def get_bureau_day_amt_agg(bureau):\n",
    "        \n",
    "    bureau_agg_dict = {\n",
    "    'SK_ID_BUREAU':['count'],\n",
    "    'DAYS_CREDIT':['min', 'max', 'mean'],\n",
    "    'CREDIT_DAY_OVERDUE':['min', 'max', 'mean'],\n",
    "    'DAYS_CREDIT_ENDDATE':['min', 'max', 'mean'],\n",
    "    'DAYS_ENDDATE_FACT':['min', 'max', 'mean'],\n",
    "    'AMT_CREDIT_MAX_OVERDUE': ['max', 'mean'],\n",
    "    'AMT_CREDIT_SUM': ['max', 'mean', 'sum'],\n",
    "    'AMT_CREDIT_SUM_DEBT': ['max', 'mean', 'sum'],\n",
    "    'AMT_CREDIT_SUM_OVERDUE': ['max', 'mean', 'sum'],\n",
    "    'AMT_ANNUITY': ['max', 'mean', 'sum'],\n",
    "    # 추가 가공 컬럼\n",
    "    'BUREAU_ENDDATE_FACT_DIFF':['min', 'max', 'mean'],\n",
    "    'BUREAU_CREDIT_FACT_DIFF':['min', 'max', 'mean'],\n",
    "    'BUREAU_CREDIT_ENDDATE_DIFF':['min', 'max', 'mean'],\n",
    "    'BUREAU_CREDIT_DEBT_RATIO':['min', 'max', 'mean'],\n",
    "    'BUREAU_CREDIT_DEBT_DIFF':['min', 'max', 'mean'],\n",
    "    'BUREAU_IS_DPD':['mean', 'sum'],\n",
    "    'BUREAU_IS_DPD_OVER120':['mean', 'sum']\n",
    "    }\n",
    "\n",
    "    bureau_grp = bureau.groupby('SK_ID_CURR')\n",
    "    bureau_day_amt_agg = bureau_grp.agg(bureau_agg_dict)\n",
    "    bureau_day_amt_agg.columns = ['BUREAU_'+('_').join(column).upper() for column in bureau_day_amt_agg.columns.ravel()]\n",
    "    # 조인을 위해 SK_ID_CURR을 reset_index()로 컬럼화 \n",
    "    bureau_day_amt_agg = bureau_day_amt_agg.reset_index()\n",
    "    #print('bureau_day_amt_agg shape:', bureau_day_amt_agg.shape)\n",
    "    return bureau_day_amt_agg\n",
    "\n",
    "# Bureau의 CREDIT_ACTIVE='Active' 인 데이터만 filtering 후 주요 컬럼 및 앞에서 채무 및 대출금액 관련 컬럼들로 SK_ID_CURR 레벨의 aggregation 컬럼 생성\n",
    "def get_bureau_active_agg(bureau):\n",
    "    # CREDIT_ACTIVE='Active' 인 데이터만 filtering\n",
    "    cond_active = bureau['CREDIT_ACTIVE'] == 'Active'\n",
    "    bureau_active_grp = bureau[cond_active].groupby(['SK_ID_CURR'])\n",
    "    bureau_agg_dict = {\n",
    "        'SK_ID_BUREAU':['count'],\n",
    "        'DAYS_CREDIT':['min', 'max', 'mean'],\n",
    "        'CREDIT_DAY_OVERDUE':['min', 'max', 'mean'],\n",
    "        'DAYS_CREDIT_ENDDATE':['min', 'max', 'mean'],\n",
    "        'DAYS_ENDDATE_FACT':['min', 'max', 'mean'],\n",
    "        'AMT_CREDIT_MAX_OVERDUE': ['max', 'mean'],\n",
    "        'AMT_CREDIT_SUM': ['max', 'mean', 'sum'],\n",
    "        'AMT_CREDIT_SUM_DEBT': ['max', 'mean', 'sum'],\n",
    "        'AMT_CREDIT_SUM_OVERDUE': ['max', 'mean', 'sum'],\n",
    "        'AMT_ANNUITY': ['max', 'mean', 'sum'],\n",
    "        # 추가 가공 컬럼\n",
    "        'BUREAU_ENDDATE_FACT_DIFF':['min', 'max', 'mean'],\n",
    "        'BUREAU_CREDIT_FACT_DIFF':['min', 'max', 'mean'],\n",
    "        'BUREAU_CREDIT_ENDDATE_DIFF':['min', 'max', 'mean'],\n",
    "        'BUREAU_CREDIT_DEBT_RATIO':['min', 'max', 'mean'],\n",
    "        'BUREAU_CREDIT_DEBT_DIFF':['min', 'max', 'mean'],\n",
    "        'BUREAU_IS_DPD':['mean', 'sum'],\n",
    "        'BUREAU_IS_DPD_OVER120':['mean', 'sum']\n",
    "        }\n",
    "\n",
    "    bureau_active_agg = bureau_active_grp.agg(bureau_agg_dict)\n",
    "    bureau_active_agg.columns = ['BUREAU_ACT_'+('_').join(column).upper() for column in bureau_active_agg.columns.ravel()]\n",
    "    # 조인을 위해 SK_ID_CURR을 reset_index()로 컬럼화 \n",
    "    bureau_active_agg = bureau_active_agg.reset_index()\n",
    "    #print('bureau_active_agg shape:', bureau_active_agg.shape)\n",
    "    return bureau_active_agg\n",
    "\n",
    "# bureau_bal을 SK_ID_CURR 레벨로 건수와 MONTHS_BALANCE의 aggregation 가공 \n",
    "def get_bureau_bal_agg(bureau, bureau_bal):\n",
    "    # SK_ID_CURR레벨로 Group by하기 위해 bureau에서 SK_ID_CURR 컬럼을 가져오는 조인 수행. \n",
    "    bureau_bal = bureau_bal.merge(bureau[['SK_ID_CURR', 'SK_ID_BUREAU']], on='SK_ID_BUREAU', how='left')\n",
    "    \n",
    "    # STATUS에 따라 월별 연체 여부 및 120일 이상 연체 여부 속성 가공. \n",
    "    bureau_bal['BUREAU_BAL_IS_DPD'] = bureau_bal['STATUS'].apply(lambda x: 1 if x in['1','2','3','4','5']  else 0)\n",
    "    bureau_bal['BUREAU_BAL_IS_DPD_OVER120'] = bureau_bal['STATUS'].apply(lambda x: 1 if x =='5'  else 0)\n",
    "    bureau_bal_grp = bureau_bal.groupby('SK_ID_CURR')\n",
    "    # SK_ID_CURR 레벨로 건수와 MONTHS_BALANCE의 aggregation 가공 \n",
    "    bureau_bal_agg_dict = {\n",
    "        'SK_ID_CURR':['count'],\n",
    "        'MONTHS_BALANCE':['min', 'max', 'mean'],\n",
    "        'BUREAU_BAL_IS_DPD':['mean', 'sum'],\n",
    "        'BUREAU_BAL_IS_DPD_OVER120':['mean', 'sum']\n",
    "    }\n",
    "\n",
    "    bureau_bal_agg = bureau_bal_grp.agg(bureau_bal_agg_dict)\n",
    "    bureau_bal_agg.columns = [ 'BUREAU_BAL_'+('_').join(column).upper() for column in bureau_bal_agg.columns.ravel() ]\n",
    "    # 조인을 위해 SK_ID_CURR을 reset_index()로 컬럼화 \n",
    "    bureau_bal_agg = bureau_bal_agg.reset_index()\n",
    "    #print('bureau_bal_agg shape:', bureau_bal_agg.shape)\n",
    "    return bureau_bal_agg\n",
    "    \n",
    "# 가공된 bureau관련 aggregation 컬럼들을 모두 결합   \n",
    "def get_bureau_agg(bureau, bureau_bal):\n",
    "    \n",
    "    bureau = get_bureau_processed(bureau)\n",
    "    bureau_day_amt_agg = get_bureau_day_amt_agg(bureau)\n",
    "    bureau_active_agg = get_bureau_active_agg(bureau)\n",
    "    bureau_bal_agg = get_bureau_bal_agg(bureau, bureau_bal)\n",
    "    \n",
    "    # bureau_day_amt_agg와 bureau_active_agg 조인.  \n",
    "    bureau_agg = bureau_day_amt_agg.merge(bureau_active_agg, on='SK_ID_CURR', how='left')\n",
    "    # STATUS가 ACTIVE IS_DPD RATIO관련 비율 재가공. \n",
    "    #bureau_agg['BUREAU_IS_DPD_RATIO'] = bureau_agg['BUREAU_BUREAU_IS_DPD_SUM']/bureau_agg['BUREAU_SK_ID_BUREAU_COUNT']\n",
    "    #bureau_agg['BUREAU_IS_DPD_OVER120_RATIO'] = bureau_agg['BUREAU_BUREAU_IS_DPD_OVER120_SUM']/bureau_agg['BUREAU_SK_ID_BUREAU_COUNT']\n",
    "    bureau_agg['BUREAU_ACT_IS_DPD_RATIO'] = bureau_agg['BUREAU_ACT_BUREAU_IS_DPD_SUM']/bureau_agg['BUREAU_SK_ID_BUREAU_COUNT']\n",
    "    bureau_agg['BUREAU_ACT_IS_DPD_OVER120_RATIO'] = bureau_agg['BUREAU_ACT_BUREAU_IS_DPD_OVER120_SUM']/bureau_agg['BUREAU_SK_ID_BUREAU_COUNT']\n",
    "    \n",
    "    # bureau_agg와 bureau_bal_agg 조인. \n",
    "    bureau_agg = bureau_agg.merge(bureau_bal_agg, on='SK_ID_CURR', how='left')\n",
    "    #bureau_bal_agg['BUREAU_BAL_IS_DPD_RATIO'] = bureau_bal_agg['BUREAU_BAL_BUREAU_BAL_IS_DPD_SUM']/bureau_bal_agg['BUREAU_BAL_SK_ID_CURR_COUNT']\n",
    "    #bureau_bal_agg['BUREAU_BAL_IS_DPD_OVER120_RATIO'] = bureau_bal_agg['BUREAU_BAL_BUREAU_BAL_IS_DPD_OVER120_SUM']/bureau_bal_agg['BUREAU_BAL_SK_ID_CURR_COUNT']\n",
    "\n",
    "    #print('bureau_agg shape:', bureau_agg.shape)\n",
    "    \n",
    "    return bureau_agg\n",
    "\n",
    "def get_apps_all_with_prev_agg(apps, prev):\n",
    "    apps_all =  get_apps_processed(apps)\n",
    "    prev_agg = get_prev_agg(prev)\n",
    "    print('prev_agg shape:', prev_agg.shape)\n",
    "    print('apps_all before merge shape:', apps_all.shape)\n",
    "    apps_all = apps_all.merge(prev_agg, on='SK_ID_CURR', how='left')\n",
    "    print('apps_all after merge with prev_agg shape:', apps_all.shape)\n",
    "    \n",
    "    return apps_all\n",
    "\n",
    "def get_apps_all_encoded(apps_all):\n",
    "    object_columns = apps_all.dtypes[apps_all.dtypes == 'object'].index.tolist()\n",
    "    for column in object_columns:\n",
    "        apps_all[column] = pd.factorize(apps_all[column])[0]\n",
    "    \n",
    "    return apps_all\n",
    "\n",
    "def get_apps_all_train_test(apps_all):\n",
    "    apps_all_train = apps_all[~apps_all['TARGET'].isnull()]\n",
    "    apps_all_test = apps_all[apps_all['TARGET'].isnull()]\n",
    "\n",
    "    apps_all_test = apps_all_test.drop('TARGET', axis=1)\n",
    "    \n",
    "    return apps_all_train, apps_all_test\n",
    "    \n",
    "def train_apps_all(apps_all_train):\n",
    "    ftr_app = apps_all_train.drop(['SK_ID_CURR', 'TARGET'], axis=1)\n",
    "    target_app = apps_all_train['TARGET']\n",
    "\n",
    "    train_x, valid_x, train_y, valid_y = train_test_split(ftr_app, target_app, test_size=0.3, random_state=2020)\n",
    "    print('train shape:', train_x.shape, 'valid shape:', valid_x.shape)\n",
    "    clf = LGBMClassifier(\n",
    "                nthread=4,\n",
    "                n_estimators=2000,\n",
    "                learning_rate=0.02,\n",
    "                max_depth = 11,\n",
    "                num_leaves=58,\n",
    "                colsample_bytree=0.613,\n",
    "                subsample=0.708,\n",
    "                max_bin=407,\n",
    "                reg_alpha=3.564,\n",
    "                reg_lambda=4.930,\n",
    "                min_child_weight= 6,\n",
    "                min_child_samples=165,\n",
    "                silent=-1,\n",
    "                verbose=-1,\n",
    "                )\n",
    "   \n",
    "    clf.fit(train_x, train_y, eval_set=[(train_x, train_y), (valid_x, valid_y)], eval_metric= 'auc', verbose= 100, \n",
    "                early_stopping_rounds= 200)\n",
    "    \n",
    "    return clf"
   ]
  },
  {
   "cell_type": "markdown",
   "metadata": {
    "colab_type": "text",
    "id": "M8GVH-Cx5PTW"
   },
   "source": [
    "#### 지금까지 개별 테이블 별로 데이터 가공한 모든 데이터 세트들을 조인 결합. "
   ]
  },
  {
   "cell_type": "code",
   "execution_count": null,
   "metadata": {
    "colab": {},
    "colab_type": "code",
    "id": "Hfhaelw25PTW"
   },
   "outputs": [],
   "source": [
    "# apps와 prev_agg, bureau_agg, pos_bal_agg, install_agg, card_bal_agg를 개별 함수 호출하여 생성후 조인 결합\n",
    "def get_apps_all_with_all_agg(apps, prev, bureau, bureau_bal, pos_bal, install, card_bal):\n",
    "    apps_all =  get_apps_processed(apps)\n",
    "    prev_agg = get_prev_agg(prev)\n",
    "    bureau_agg = get_bureau_agg(bureau, bureau_bal)\n",
    "    pos_bal_agg = get_pos_bal_agg(pos_bal)\n",
    "    install_agg = get_install_agg(install)\n",
    "    card_bal_agg = get_card_bal_agg(card_bal)\n",
    "    print('prev_agg shape:', prev_agg.shape, 'bureau_agg shape:', bureau_agg.shape )\n",
    "    print('pos_bal_agg shape:', pos_bal_agg.shape, 'install_agg shape:', install_agg.shape, 'card_bal_agg shape:', card_bal_agg.shape)\n",
    "    print('apps_all before merge shape:', apps_all.shape)\n",
    "    \n",
    "    # 생성된 prev_agg, bureau_agg, pos_bal_agg, install_agg, card_bal_agg를 apps와 조인하여 최종 학습/테스트 집합 생성. \n",
    "    apps_all = apps_all.merge(prev_agg, on='SK_ID_CURR', how='left')\n",
    "    apps_all = apps_all.merge(bureau_agg, on='SK_ID_CURR', how='left')\n",
    "    apps_all = apps_all.merge(pos_bal_agg, on='SK_ID_CURR', how='left')\n",
    "    apps_all = apps_all.merge(install_agg, on='SK_ID_CURR', how='left')\n",
    "    apps_all = apps_all.merge(card_bal_agg, on='SK_ID_CURR', how='left')\n",
    "    \n",
    "    print('apps_all after merge with all shape:', apps_all.shape)\n",
    "    \n",
    "    return apps_all"
   ]
  },
  {
   "cell_type": "markdown",
   "metadata": {
    "colab_type": "text",
    "id": "yWKLxFms5PTY"
   },
   "source": [
    "##### 원본 데이터 세트 재 로딩."
   ]
  },
  {
   "cell_type": "code",
   "execution_count": null,
   "metadata": {
    "colab": {},
    "colab_type": "code",
    "id": "x1RzR9Sw5PTZ"
   },
   "outputs": [],
   "source": [
    "def get_dataset():\n",
    "    app_train = pd.read_csv(os.path.join(default_dir,'application_train.csv'))\n",
    "    app_test = pd.read_csv(os.path.join(default_dir,'application_test.csv'))\n",
    "    apps = pd.concat([app_train, app_test])\n",
    "    \n",
    "    prev = pd.read_csv(os.path.join(default_dir,'previous_application.csv'))\n",
    "    bureau = pd.read_csv(os.path.join(default_dir,'bureau.csv'))\n",
    "    bureau_bal = pd.read_csv(os.path.join(default_dir,'bureau_balance.csv'))\n",
    "    \n",
    "    pos_bal, install, card_bal = get_balance_data()\n",
    "        \n",
    "    return apps, prev, bureau, bureau_bal, pos_bal, install, card_bal"
   ]
  },
  {
   "cell_type": "code",
   "execution_count": null,
   "metadata": {
    "colab": {},
    "colab_type": "code",
    "id": "fzASfz2F5PTb",
    "outputId": "314e7df4-d418-45f9-cc26-d30f5ed6cb76"
   },
   "outputs": [
    {
     "data": {
      "text/plain": [
       "67"
      ]
     },
     "execution_count": 97,
     "metadata": {
      "tags": []
     },
     "output_type": "execute_result"
    }
   ],
   "source": [
    "del apps, pos_bal, install, card_bal\n",
    "gc.collect()"
   ]
  },
  {
   "cell_type": "code",
   "execution_count": null,
   "metadata": {
    "colab": {},
    "colab_type": "code",
    "id": "LeA1JX1u5PTd"
   },
   "outputs": [],
   "source": [
    "apps, prev, bureau, bureau_bal, pos_bal, install, card_bal = get_dataset()"
   ]
  },
  {
   "cell_type": "markdown",
   "metadata": {
    "colab_type": "text",
    "id": "7iSu-COS5PTf"
   },
   "source": [
    "##### 모든 데이터 가공, 인코딩, 학습/테스트 데이터 분리, 학습 수행. "
   ]
  },
  {
   "cell_type": "code",
   "execution_count": null,
   "metadata": {
    "colab": {},
    "colab_type": "code",
    "id": "tcxx_nqC5PTg",
    "outputId": "f22088d9-15a6-42ec-e97c-d4125ed9b15a"
   },
   "outputs": [
    {
     "name": "stdout",
     "output_type": "stream",
     "text": [
      "prev_agg shape: (338857, 41) bureau_agg shape: (305811, 103)\n",
      "pos_bal_agg shape: (337252, 45) install_agg shape: (339587, 59) card_bal_agg shape: (103558, 70)\n",
      "apps_all before merge shape: (356255, 135)\n",
      "apps_all after merge with all shape: (356255, 449)\n",
      "train shape: (215257, 447) valid shape: (92254, 447)\n",
      "Training until validation scores don't improve for 200 rounds\n",
      "[100]\ttraining's auc: 0.796369\ttraining's binary_logloss: 0.238671\tvalid_1's auc: 0.769945\tvalid_1's binary_logloss: 0.244954\n",
      "[200]\ttraining's auc: 0.820382\ttraining's binary_logloss: 0.22707\tvalid_1's auc: 0.781803\tvalid_1's binary_logloss: 0.2391\n",
      "[300]\ttraining's auc: 0.837414\ttraining's binary_logloss: 0.219487\tvalid_1's auc: 0.787486\tvalid_1's binary_logloss: 0.236779\n",
      "[400]\ttraining's auc: 0.851506\ttraining's binary_logloss: 0.213335\tvalid_1's auc: 0.790449\tvalid_1's binary_logloss: 0.235655\n",
      "[500]\ttraining's auc: 0.86378\ttraining's binary_logloss: 0.207998\tvalid_1's auc: 0.791797\tvalid_1's binary_logloss: 0.235115\n",
      "[600]\ttraining's auc: 0.874883\ttraining's binary_logloss: 0.203073\tvalid_1's auc: 0.792951\tvalid_1's binary_logloss: 0.234701\n",
      "[700]\ttraining's auc: 0.884733\ttraining's binary_logloss: 0.198614\tvalid_1's auc: 0.793487\tvalid_1's binary_logloss: 0.234491\n",
      "[800]\ttraining's auc: 0.893611\ttraining's binary_logloss: 0.194452\tvalid_1's auc: 0.793774\tvalid_1's binary_logloss: 0.234379\n",
      "[900]\ttraining's auc: 0.901803\ttraining's binary_logloss: 0.190505\tvalid_1's auc: 0.794105\tvalid_1's binary_logloss: 0.234257\n",
      "[1000]\ttraining's auc: 0.909243\ttraining's binary_logloss: 0.18674\tvalid_1's auc: 0.794155\tvalid_1's binary_logloss: 0.234248\n",
      "[1100]\ttraining's auc: 0.916107\ttraining's binary_logloss: 0.183147\tvalid_1's auc: 0.794073\tvalid_1's binary_logloss: 0.234277\n",
      "Early stopping, best iteration is:\n",
      "[978]\ttraining's auc: 0.907668\ttraining's binary_logloss: 0.18755\tvalid_1's auc: 0.794171\tvalid_1's binary_logloss: 0.234237\n"
     ]
    },
    {
     "data": {
      "text/plain": [
       "'\\nPrivate Score: 0.78926, Public Score:0.80134\\n'"
      ]
     },
     "execution_count": 100,
     "metadata": {
      "tags": []
     },
     "output_type": "execute_result"
    }
   ],
   "source": [
    "# application, previous, bureau, bureau_bal 관련 데이터셋 가공 및 취합. \n",
    "apps_all = get_apps_all_with_all_agg(apps, prev, bureau, bureau_bal, pos_bal, install, card_bal)\n",
    "\n",
    "# Category 컬럼을 모두 Label 인코딩 수행. \n",
    "apps_all = get_apps_all_encoded(apps_all)\n",
    "\n",
    "# 학습과 테스트 데이터로 분리. \n",
    "apps_all_train, apps_all_test = get_apps_all_train_test(apps_all)\n",
    "\n",
    "#학습수행. \n",
    "clf = train_apps_all(apps_all_train)\n",
    "\n",
    "'''\n",
    "Private Score: 0.78926, Public Score:0.80134\n",
    "'''"
   ]
  },
  {
   "cell_type": "code",
   "execution_count": null,
   "metadata": {
    "colab": {},
    "colab_type": "code",
    "id": "mZeF_v3V5PTi"
   },
   "outputs": [],
   "source": [
    "preds = clf.predict_proba(apps_all_test.drop(['SK_ID_CURR'], axis=1))[:, 1 ]\n",
    "apps_all_test['TARGET'] = preds\n",
    "apps_all_test[['SK_ID_CURR', 'TARGET']].to_csv('pos_install_credit_01.csv', index=False)"
   ]
  },
  {
   "cell_type": "code",
   "execution_count": null,
   "metadata": {
    "colab": {},
    "colab_type": "code",
    "id": "v56htgCY5PTm"
   },
   "outputs": [],
   "source": [
    "apps_all_test.drop('TARGET', axis=1, inplace=True)"
   ]
  },
  {
   "cell_type": "code",
   "execution_count": null,
   "metadata": {
    "colab": {},
    "colab_type": "code",
    "id": "5OPz15M85PTp",
    "outputId": "ac80d22c-8a91-41d1-cac2-c173487850b8"
   },
   "outputs": [
    {
     "data": {
      "text/plain": [
       "<matplotlib.axes._subplots.AxesSubplot at 0x7f3b1071c5b0>"
      ]
     },
     "execution_count": 93,
     "metadata": {
      "tags": []
     },
     "output_type": "execute_result"
    },
    {
     "data": {
      "image/png": "[encoded data removed]",
      "text/plain": [
       "<Figure size 1152x2304 with 1 Axes>"
      ]
     },
     "metadata": {
      "needs_background": "light",
      "tags": []
     },
     "output_type": "display_data"
    }
   ],
   "source": [
    "from lightgbm import plot_importance\n",
    "\n",
    "plot_importance(clf, figsize=(16, 32), max_num_features=100)"
   ]
  },
  {
   "cell_type": "code",
   "execution_count": null,
   "metadata": {
    "colab": {},
    "colab_type": "code",
    "id": "VhZQbNaI5PT2"
   },
   "outputs": [],
   "source": []
  }
 ],
 "metadata": {
  "colab": {
   "collapsed_sections": [
    "Ur-_lqQx5PSI",
    "wU6e2lYw5PTH"
   ],
   "name": "pos_installment_creditcard_baseline_01.ipynb",
   "provenance": []
  },
  "kernelspec": {
   "display_name": "Python 3",
   "language": "python",
   "name": "python3"
  },
  "language_info": {
   "codemirror_mode": {
    "name": "ipython",
    "version": 3
   },
   "file_extension": ".py",
   "mimetype": "text/x-python",
   "name": "python",
   "nbconvert_exporter": "python",
   "pygments_lexer": "ipython3",
   "version": "3.8.3"
  }
 },
 "nbformat": 4,
 "nbformat_minor": 1
}
