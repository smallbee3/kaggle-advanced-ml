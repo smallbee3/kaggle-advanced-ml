{
 "cells": [
  {
   "cell_type": "markdown",
   "metadata": {
    "colab_type": "text",
    "id": "eDs6kzz-0n8b"
   },
   "source": [
    "### bureau와 bureau_bal 데이터 세트 기반의 EDA와 Feature Engineering 수행 후 학습 모델 생성/평가"
   ]
  },
  {
   "cell_type": "markdown",
   "metadata": {
    "colab_type": "text",
    "id": "61hcu6hZ0n8e"
   },
   "source": [
    "#### 라이브러리 및 데이터 세트 로딩."
   ]
  },
  {
   "cell_type": "code",
   "execution_count": null,
   "metadata": {
    "colab": {
     "base_uri": "https://localhost:8080/",
     "height": 75
    },
    "colab_type": "code",
    "executionInfo": {
     "elapsed": 1453,
     "status": "ok",
     "timestamp": 1599724296036,
     "user": {
      "displayName": "권철민",
      "photoUrl": "",
      "userId": "03917677622451543916"
     },
     "user_tz": -540
    },
    "id": "1eJxOlnA0n8j",
    "outputId": "a96dd5d5-3628-4f2b-daf3-3ae3240fe731"
   },
   "outputs": [],
   "source": [
    "import numpy as np\n",
    "import pandas as pd\n",
    "import gc\n",
    "import time\n",
    "import matplotlib.pyplot as plt\n",
    "import seaborn as sns\n",
    "%matplotlib inline\n",
    "\n",
    "pd.set_option('display.max_rows', 100)\n",
    "pd.set_option('display.max_columns', 200)"
   ]
  },
  {
   "cell_type": "code",
   "execution_count": null,
   "metadata": {
    "colab": {},
    "colab_type": "code",
    "executionInfo": {
     "elapsed": 26441,
     "status": "ok",
     "timestamp": 1599724326695,
     "user": {
      "displayName": "권철민",
      "photoUrl": "",
      "userId": "03917677622451543916"
     },
     "user_tz": -540
    },
    "id": "VnN0lP7C0n8z"
   },
   "outputs": [],
   "source": [
    "def get_dataset():\n",
    "    app_train = pd.read_csv('application_train.csv')\n",
    "    app_test = pd.read_csv('application_test.csv')\n",
    "    apps = pd.concat([app_train, app_test])\n",
    "    \n",
    "    prev = pd.read_csv('previous_application.csv')\n",
    "    bureau = pd.read_csv('bureau.csv')\n",
    "    bureau_bal = pd.read_csv('bureau_balance.csv')\n",
    "    \n",
    "    return apps, prev, bureau, bureau_bal\n",
    "\n",
    "apps, prev, bureau, bureau_bal = get_dataset()"
   ]
  },
  {
   "cell_type": "markdown",
   "metadata": {
    "colab_type": "text",
    "id": "pcKDahpM0n89"
   },
   "source": [
    "### bureau와 bureau_balance 컬럼 설명\n",
    "\n",
    "|Table|컬럼명|컬럼 대분류|컬럼 중분류|컬럼 설명|\n",
    "|------|--------|----|--------|-----------------|\n",
    "|bureau.csv|SK_ID_CURR|대출|고유ID|현재 대출 고유 ID|\n",
    "|bureau.csv|SK_BUREAU_ID|대출|고유ID|타 기관 대출 고유 ID|\n",
    "|bureau.csv|CREDIT_ACTIVE|대출|대출 상태|대출 상태(Active: 대출 상환중, Closed: 상환 완료)|\n",
    "|bureau.csv|CREDIT_CURRENCY|대출|대출 금액|대출 금액 화폐유형|\n",
    "|bureau.csv|DAYS_CREDIT|대출|행동|현재 대출 신청 일 기준 과거 대출 신청 지난 기간|\n",
    "|bureau.csv|CREDIT_DAY_OVERDUE|대출|행동|대출 신청 시 CB 크레딧 연체 일수|\n",
    "|bureau.csv|DAYS_CREDIT_ENDDATE|대출|상태|CB 크레딧 채무 완료까지 남아있는 일수(신청일 기준)|\n",
    "|bureau.csv|DAYS_ENDDATE_FACT|대출|상태|CB 크레딧 채무 완료까지 걸린 실제 일수(신청일 기준, 상태가 Close일때만)|\n",
    "|bureau.csv|AMT_CREDIT_MAX_OVERDUE|대출|상태|최대 연체금액|\n",
    "|bureau.csv|CNT_CREDIT_PROLONG|대출|상태|신용 연장 횟수|\n",
    "|bureau.csv|AMT_CREDIT_SUM|대출|대출 금액|현재 크레딧 금액 총액|\n",
    "|bureau.csv|AMT_CREDIT_SUM_DEBT|대출|대출 금액|현재 채무 금액 총액|\n",
    "|bureau.csv|AMT_CREDIT_SUM_LIMIT|대출|대출 금액|신용 카드 현재 신용한도|\n",
    "|bureau.csv|AMT_CREDIT_SUM_OVERDUE|대출|상태|현재 연체 금액|\n",
    "|bureau.csv|CREDIT_TYPE|대출|대출 유형|크레딧 유형|\n",
    "|bureau.csv|DAYS_CREDIT_UPDATE|대출|대출 행동|대출 신청전 마지막 정보 받은 기간|\n",
    "|bureau.csv|AMT_ANNUITY|대출|대출 금액|월 대출 지급액|\n",
    "|bureau_balance.csv|SK_BUREAU_ID|대출|고유ID|타 기관 대출 고유 ID|\n",
    "|bureau_balance.csv|MONTHS_BALANCE|대출|상태|신청일 기준 잔액 월 |\n",
    "|bureau_balance.csv|STATUS|대출|상태|월별 대출 상태(Active: 대출 상환중, Closed: 상환 완료, DPD0-30: 30일 이전 연체 상태등|\n"
   ]
  },
  {
   "cell_type": "code",
   "execution_count": null,
   "metadata": {
    "colab": {
     "base_uri": "https://localhost:8080/",
     "height": 905
    },
    "colab_type": "code",
    "executionInfo": {
     "elapsed": 783,
     "status": "ok",
     "timestamp": 1599722091008,
     "user": {
      "displayName": "권철민",
      "photoUrl": "",
      "userId": "03917677622451543916"
     },
     "user_tz": -540
    },
    "id": "airpcMap0n8_",
    "outputId": "8c28eba6-6e3a-4ea7-9e20-8895d1f3a5cc"
   },
   "outputs": [],
   "source": [
    "bureau.head(20)"
   ]
  },
  {
   "cell_type": "markdown",
   "metadata": {
    "colab_type": "text",
    "id": "gbhFPDMV0n9H"
   },
   "source": [
    "##### bureau, bureau_bal 컬럼 및 Null 조사 "
   ]
  },
  {
   "cell_type": "code",
   "execution_count": null,
   "metadata": {
    "colab": {},
    "colab_type": "code",
    "id": "KgxCIGrX0n9I",
    "outputId": "43996b3c-e56e-4a9f-8df3-c4225e35385a"
   },
   "outputs": [],
   "source": [
    "bureau.info()"
   ]
  },
  {
   "cell_type": "code",
   "execution_count": null,
   "metadata": {
    "colab": {},
    "colab_type": "code",
    "id": "diQN0wvx0n9P",
    "outputId": "b25b7e4f-36c4-402d-89e7-ef97f14a74c5"
   },
   "outputs": [],
   "source": [
    "# DAYS_ENDDATE_FACT, AMT_CREDIT_MAX_OVERDUE, AMT_CREDIT_SUM_LIMT, AMT_ANNUITY 등이 Null 컬럼이 많음. \n",
    "bureau.isnull().sum()"
   ]
  },
  {
   "cell_type": "code",
   "execution_count": null,
   "metadata": {
    "colab": {},
    "colab_type": "code",
    "id": "nNQhnWqP0n9X",
    "outputId": "4e7dd9dc-86f0-483c-b144-d761567309e2"
   },
   "outputs": [],
   "source": [
    "bureau_bal.info()"
   ]
  },
  {
   "cell_type": "code",
   "execution_count": null,
   "metadata": {
    "colab": {},
    "colab_type": "code",
    "id": "FlC5XYE00n9e",
    "outputId": "937394ba-ebd2-4b77-d043-92edc31cf5ff"
   },
   "outputs": [],
   "source": [
    "bureau_bal.head(30)"
   ]
  },
  {
   "cell_type": "code",
   "execution_count": null,
   "metadata": {
    "colab": {},
    "colab_type": "code",
    "id": "gN4gT1Ll0n9j",
    "outputId": "954503b2-c053-4579-ead5-486fff4ead2a"
   },
   "outputs": [],
   "source": [
    "bureau[bureau['SK_ID_BUREAU'] == 5715448].head()"
   ]
  },
  {
   "cell_type": "markdown",
   "metadata": {
    "colab_type": "text",
    "id": "utL7pf5l0n9o"
   },
   "source": [
    "#### 숫자형 피처들의 Histogram을 TARGET 유형에 따라 비교"
   ]
  },
  {
   "cell_type": "code",
   "execution_count": null,
   "metadata": {
    "colab": {},
    "colab_type": "code",
    "executionInfo": {
     "elapsed": 1835,
     "status": "ok",
     "timestamp": 1599722098907,
     "user": {
      "displayName": "권철민",
      "photoUrl": "",
      "userId": "03917677622451543916"
     },
     "user_tz": -540
    },
    "id": "eBRTCf1C0n9q"
   },
   "outputs": [],
   "source": [
    "# TARGET 값을 가져오기 위해 bureau를 apps와 조인 \n",
    "bureau_app = bureau.merge(apps[['SK_ID_CURR', 'TARGET']], on='SK_ID_CURR', how='left')"
   ]
  },
  {
   "cell_type": "code",
   "execution_count": null,
   "metadata": {
    "colab": {
     "base_uri": "https://localhost:8080/",
     "height": 1000
    },
    "colab_type": "code",
    "executionInfo": {
     "elapsed": 60128,
     "status": "ok",
     "timestamp": 1599722164691,
     "user": {
      "displayName": "권철민",
      "photoUrl": "",
      "userId": "03917677622451543916"
     },
     "user_tz": -540
    },
    "id": "_1saN6nT0n9w",
    "outputId": "21c6f024-20f9-4363-a8bd-405fa2c7f5f6"
   },
   "outputs": [],
   "source": [
    "num_columns = bureau_app.dtypes[bureau_app.dtypes != 'object'].index.tolist()\n",
    "# 숫자형 컬럼중 ID와 TARGET은 제외\n",
    "num_columns = [column for column in num_columns if column not in['SK_ID_BUREAU', 'SK_ID_CURR', 'TARGET']]\n",
    "print(num_columns)\n",
    "\n",
    "def show_hist_by_target(df, columns):\n",
    "    cond_1 = (df['TARGET'] == 1)\n",
    "    cond_0 = (df['TARGET'] == 0)\n",
    "    \n",
    "    for column in columns:\n",
    "        print(\"column:\", column)\n",
    "        fig, axs = plt.subplots(nrows=1, ncols=2, figsize=(12, 4), squeeze=False)\n",
    "        # bureau는 특정 컬럼값이 infinite로 들어가있는 경우가 있음.  infinite일 경우 KDE histogram 시각화 시 문제 발생하여 이를 제거\n",
    "        sns.violinplot(x='TARGET', y=column, data=df[np.isfinite(df[column])], ax=axs[0][0])\n",
    "        sns.distplot(df[cond_0 & np.isfinite(df[column])][column], label='0', color='blue', ax=axs[0][1])\n",
    "        sns.distplot(df[cond_1 & np.isfinite(df[column])][column], label='1', color='red', ax=axs[0][1])  \n",
    "\n",
    "\n",
    "show_hist_by_target(bureau_app, num_columns)\n"
   ]
  },
  {
   "cell_type": "code",
   "execution_count": null,
   "metadata": {
    "colab": {
     "base_uri": "https://localhost:8080/",
     "height": 36
    },
    "colab_type": "code",
    "executionInfo": {
     "elapsed": 854,
     "status": "ok",
     "timestamp": 1599722170308,
     "user": {
      "displayName": "권철민",
      "photoUrl": "",
      "userId": "03917677622451543916"
     },
     "user_tz": -540
    },
    "id": "xXTBOhGD0n94",
    "outputId": "c8b883cf-4a3f-4720-ceb4-7a6f472993d2"
   },
   "outputs": [],
   "source": [
    "np.isfinite(bureau_app['AMT_CREDIT_SUM_LIMIT']).sum()"
   ]
  },
  {
   "cell_type": "markdown",
   "metadata": {
    "colab_type": "text",
    "id": "xF7AeBqy0n9-"
   },
   "source": [
    "* DAYS_CREDIT는 TARGET=1 일때 상대적으로 최근에 더 빈번하게 대출.\n",
    "* 나머지 컬럼들은 의미있는 차이를 찾기 어려움"
   ]
  },
  {
   "cell_type": "markdown",
   "metadata": {
    "colab_type": "text",
    "id": "VDtx_yA40n9_"
   },
   "source": [
    "#### Category 피처들의 Histogram을 TARGET 유형에 따라 비교"
   ]
  },
  {
   "cell_type": "code",
   "execution_count": null,
   "metadata": {
    "colab": {},
    "colab_type": "code",
    "id": "AYOTvZ-k0n-B",
    "outputId": "94c38877-f63a-4363-9139-be6b566f7a24"
   },
   "outputs": [],
   "source": [
    "object_columns = bureau.dtypes[bureau.dtypes=='object'].index.tolist()\n",
    "print(object_columns)\n",
    "\n",
    "def show_category_by_target(df, columns):\n",
    "    for column in columns:\n",
    "        chart = sns.catplot(x=column, col=\"TARGET\", data=df, kind=\"count\")\n",
    "        chart.set_xticklabels(rotation=65)\n",
    "        \n",
    "show_category_by_target(bureau_app, object_columns)"
   ]
  },
  {
   "cell_type": "markdown",
   "metadata": {
    "colab_type": "text",
    "id": "5cIMOMqF0n-I"
   },
   "source": [
    "* 현재 상태가 Active인 건이 TARGET이 1일때 비율이 높아짐. "
   ]
  },
  {
   "cell_type": "markdown",
   "metadata": {
    "colab_type": "text",
    "id": "uh2sTm3w0n-K"
   },
   "source": [
    "##### bureau 채무 완료 날짜 및 대출 금액 대비 채무 금액 관련 컬럼 가공. "
   ]
  },
  {
   "cell_type": "code",
   "execution_count": null,
   "metadata": {
    "colab": {},
    "colab_type": "code",
    "executionInfo": {
     "elapsed": 728,
     "status": "ok",
     "timestamp": 1599722180846,
     "user": {
      "displayName": "권철민",
      "photoUrl": "",
      "userId": "03917677622451543916"
     },
     "user_tz": -540
    },
    "id": "Wpl2pyD20n-L"
   },
   "outputs": [],
   "source": [
    "# 예정 채무 시작 및 완료일과 실제 채무 완료일간의 차이 및 날짜 비율 가공.  \n",
    "bureau['BUREAU_ENDDATE_FACT_DIFF'] = bureau['DAYS_CREDIT_ENDDATE'] - bureau['DAYS_ENDDATE_FACT']\n",
    "bureau['BUREAU_CREDIT_FACT_DIFF'] = bureau['DAYS_CREDIT'] - bureau['DAYS_ENDDATE_FACT']\n",
    "bureau['BUREAU_CREDIT_ENDDATE_DIFF'] = bureau['DAYS_CREDIT'] - bureau['DAYS_CREDIT_ENDDATE']\n",
    "\n",
    "# 채무 금액 대비/대출 금액 비율 및 차이 가공\n",
    "bureau['BUREAU_CREDIT_DEBT_RATIO']=bureau['AMT_CREDIT_SUM_DEBT']/bureau['AMT_CREDIT_SUM']\n",
    "bureau['BUREAU_CREDIT_DEBT_DIFF'] = bureau['AMT_CREDIT_SUM_DEBT'] - bureau['AMT_CREDIT_SUM']"
   ]
  },
  {
   "cell_type": "code",
   "execution_count": null,
   "metadata": {
    "colab": {
     "base_uri": "https://localhost:8080/",
     "height": 601
    },
    "colab_type": "code",
    "executionInfo": {
     "elapsed": 589,
     "status": "ok",
     "timestamp": 1599722182168,
     "user": {
      "displayName": "권철민",
      "photoUrl": "",
      "userId": "03917677622451543916"
     },
     "user_tz": -540
    },
    "id": "jvVkg7ZD0n-R",
    "outputId": "8e754872-7b51-4289-bce9-887d65fd1532"
   },
   "outputs": [],
   "source": [
    "bureau['AMT_CREDIT_SUM_DEBT'].value_counts().head(30)"
   ]
  },
  {
   "cell_type": "code",
   "execution_count": null,
   "metadata": {
    "colab": {
     "base_uri": "https://localhost:8080/",
     "height": 308
    },
    "colab_type": "code",
    "executionInfo": {
     "elapsed": 1038,
     "status": "ok",
     "timestamp": 1599722183967,
     "user": {
      "displayName": "권철민",
      "photoUrl": "",
      "userId": "03917677622451543916"
     },
     "user_tz": -540
    },
    "id": "NoP7kfws0n-X",
    "outputId": "278c1f56-ac29-4a2d-d123-c4fd5addaf6d"
   },
   "outputs": [],
   "source": [
    "bureau['AMT_CREDIT_SUM_DEBT'].hist()"
   ]
  },
  {
   "cell_type": "markdown",
   "metadata": {
    "colab_type": "text",
    "id": "52iZtjRs0n-c"
   },
   "source": [
    "##### 연체 일수 CREDIT_DAY_OVERDUE로 연체 관련 FE 수행. "
   ]
  },
  {
   "cell_type": "code",
   "execution_count": null,
   "metadata": {
    "colab": {
     "base_uri": "https://localhost:8080/",
     "height": 243
    },
    "colab_type": "code",
    "executionInfo": {
     "elapsed": 737,
     "status": "ok",
     "timestamp": 1599722186956,
     "user": {
      "displayName": "권철민",
      "photoUrl": "",
      "userId": "03917677622451543916"
     },
     "user_tz": -540
    },
    "id": "8onFv53R0n-d",
    "outputId": "05a55086-be04-4d1c-d9fa-68e1edd66bb9"
   },
   "outputs": [],
   "source": [
    "# 연체 건수가 많지 않음. \n",
    "bureau['CREDIT_DAY_OVERDUE'].value_counts()"
   ]
  },
  {
   "cell_type": "markdown",
   "metadata": {
    "colab_type": "text",
    "id": "luks_GlO0n-l"
   },
   "source": [
    "##### 연체일수가 0보다 큰건, 120보다 큰건 조사"
   ]
  },
  {
   "cell_type": "code",
   "execution_count": null,
   "metadata": {
    "colab": {
     "base_uri": "https://localhost:8080/",
     "height": 36
    },
    "colab_type": "code",
    "executionInfo": {
     "elapsed": 730,
     "status": "ok",
     "timestamp": 1599722189599,
     "user": {
      "displayName": "권철민",
      "photoUrl": "",
      "userId": "03917677622451543916"
     },
     "user_tz": -540
    },
    "id": "yKYf2yse0n-m",
    "outputId": "f916e05d-e50e-44d7-8559-553d136bc8e9"
   },
   "outputs": [],
   "source": [
    "bureau[bureau['CREDIT_DAY_OVERDUE'] > 120].shape"
   ]
  },
  {
   "cell_type": "code",
   "execution_count": null,
   "metadata": {
    "colab": {
     "base_uri": "https://localhost:8080/",
     "height": 284
    },
    "colab_type": "code",
    "executionInfo": {
     "elapsed": 1841,
     "status": "ok",
     "timestamp": 1599722192151,
     "user": {
      "displayName": "권철민",
      "photoUrl": "",
      "userId": "03917677622451543916"
     },
     "user_tz": -540
    },
    "id": "jDdYJkw30n-s",
    "outputId": "798aeb7c-08ca-45e2-fd66-05e2829e485e"
   },
   "outputs": [],
   "source": [
    "bureau[bureau['CREDIT_DAY_OVERDUE'] > 120]['CREDIT_DAY_OVERDUE'].hist(bins=300)"
   ]
  },
  {
   "cell_type": "markdown",
   "metadata": {
    "colab_type": "text",
    "id": "FSAhaMeE0n-w"
   },
   "source": [
    "##### 연체일수에 따라 연체인지, 연체가 120일이상인지 컬럼 가공"
   ]
  },
  {
   "cell_type": "code",
   "execution_count": null,
   "metadata": {
    "colab": {
     "base_uri": "https://localhost:8080/",
     "height": 74
    },
    "colab_type": "code",
    "executionInfo": {
     "elapsed": 1178,
     "status": "ok",
     "timestamp": 1599722195306,
     "user": {
      "displayName": "권철민",
      "photoUrl": "",
      "userId": "03917677622451543916"
     },
     "user_tz": -540
    },
    "id": "bNbEh7wi0n-y",
    "outputId": "8834cc85-07b6-48fc-8ca5-2a5c8c98772f"
   },
   "outputs": [],
   "source": [
    "bureau['BUREAU_IS_DPD'] = bureau['CREDIT_DAY_OVERDUE'].apply(lambda x: 1 if x > 0 else 0)\n",
    "bureau['BUREAU_IS_DPD'].value_counts()"
   ]
  },
  {
   "cell_type": "code",
   "execution_count": null,
   "metadata": {
    "colab": {
     "base_uri": "https://localhost:8080/",
     "height": 74
    },
    "colab_type": "code",
    "executionInfo": {
     "elapsed": 1311,
     "status": "ok",
     "timestamp": 1599722197432,
     "user": {
      "displayName": "권철민",
      "photoUrl": "",
      "userId": "03917677622451543916"
     },
     "user_tz": -540
    },
    "id": "yZa1iibg0n-2",
    "outputId": "3a53fc3a-d2ca-47d4-ad95-b12259242fce"
   },
   "outputs": [],
   "source": [
    "bureau['BUREAU_IS_DPD_OVER120'] = bureau['CREDIT_DAY_OVERDUE'].apply(lambda x: 1 if x >120 else 0)\n",
    "bureau['BUREAU_IS_DPD_OVER120'].value_counts()"
   ]
  },
  {
   "cell_type": "markdown",
   "metadata": {
    "colab_type": "text",
    "id": "km5F3JXZ0n-7"
   },
   "source": [
    "##### 기존 주요 bureau 컬럼 및 앞에서 가공한 컬럼으로 주요 aggregation 컬럼 생성. "
   ]
  },
  {
   "cell_type": "code",
   "execution_count": null,
   "metadata": {
    "colab": {
     "base_uri": "https://localhost:8080/",
     "height": 36
    },
    "colab_type": "code",
    "executionInfo": {
     "elapsed": 4064,
     "status": "ok",
     "timestamp": 1599722202870,
     "user": {
      "displayName": "권철민",
      "photoUrl": "",
      "userId": "03917677622451543916"
     },
     "user_tz": -540
    },
    "id": "qwbdMwFb0n-7",
    "outputId": "aa86879b-d54a-4989-b726-925ba1aa0b6f"
   },
   "outputs": [],
   "source": [
    "bureau_agg_dict = {\n",
    "    # 기존 컬럼\n",
    "    'SK_ID_BUREAU':['count'],\n",
    "    'DAYS_CREDIT':['min', 'max', 'mean'],\n",
    "    'CREDIT_DAY_OVERDUE':['min', 'max', 'mean'],\n",
    "    'DAYS_CREDIT_ENDDATE':['min', 'max', 'mean'],\n",
    "    'DAYS_ENDDATE_FACT':['min', 'max', 'mean'],\n",
    "    'AMT_CREDIT_MAX_OVERDUE': ['max', 'mean'],\n",
    "    'AMT_CREDIT_SUM': ['max', 'mean', 'sum'],\n",
    "    'AMT_CREDIT_SUM_DEBT': ['max', 'mean', 'sum'],\n",
    "    'AMT_CREDIT_SUM_OVERDUE': ['max', 'mean', 'sum'],\n",
    "    'AMT_ANNUITY': ['max', 'mean', 'sum'],\n",
    "    # 추가 가공 컬럼\n",
    "    'BUREAU_ENDDATE_FACT_DIFF':['min', 'max', 'mean'],\n",
    "    'BUREAU_CREDIT_FACT_DIFF':['min', 'max', 'mean'],\n",
    "    'BUREAU_CREDIT_ENDDATE_DIFF':['min', 'max', 'mean'],\n",
    "    'BUREAU_CREDIT_DEBT_RATIO':['min', 'max', 'mean'],\n",
    "    'BUREAU_CREDIT_DEBT_DIFF':['min', 'max', 'mean'],\n",
    "    'BUREAU_IS_DPD':['mean', 'sum'],\n",
    "    'BUREAU_IS_DPD_OVER120':['mean', 'sum']\n",
    "}\n",
    "\n",
    "bureau_grp = bureau.groupby('SK_ID_CURR')\n",
    "bureau_day_amt_agg = bureau_grp.agg(bureau_agg_dict)\n",
    "# BUREAU_ 접두어로 하는 새로운 컬럼명 할당.\n",
    "bureau_day_amt_agg.columns = ['BUREAU_'+('_').join(column).upper() for column in bureau_day_amt_agg.columns.ravel()]\n",
    "# 조인을 위해 SK_ID_CURR을 reset_index()로 컬럼화 \n",
    "bureau_day_amt_agg = bureau_day_amt_agg.reset_index()\n",
    "print(bureau_day_amt_agg.shape)\n"
   ]
  },
  {
   "cell_type": "code",
   "execution_count": null,
   "metadata": {
    "colab": {
     "base_uri": "https://localhost:8080/",
     "height": 383
    },
    "colab_type": "code",
    "executionInfo": {
     "elapsed": 704,
     "status": "ok",
     "timestamp": 1599722204875,
     "user": {
      "displayName": "권철민",
      "photoUrl": "",
      "userId": "03917677622451543916"
     },
     "user_tz": -540
    },
    "id": "WaNAjPym0n_B",
    "outputId": "bbd83950-6393-4369-8fbd-38506b33e980"
   },
   "outputs": [],
   "source": [
    "bureau_day_amt_agg.head(10)"
   ]
  },
  {
   "cell_type": "markdown",
   "metadata": {
    "colab_type": "text",
    "id": "AMelB9YE0n_H"
   },
   "source": [
    "#### 현재 대출 중 Active인 건만 별도로 Group by 수행(CREDIT_ACTIVE='Active')"
   ]
  },
  {
   "cell_type": "code",
   "execution_count": null,
   "metadata": {
    "colab": {
     "base_uri": "https://localhost:8080/",
     "height": 402
    },
    "colab_type": "code",
    "executionInfo": {
     "elapsed": 3135,
     "status": "ok",
     "timestamp": 1599722286043,
     "user": {
      "displayName": "권철민",
      "photoUrl": "",
      "userId": "03917677622451543916"
     },
     "user_tz": -540
    },
    "id": "RIV5ylfJ0n_H",
    "outputId": "68def4b5-e05a-46d1-aaf9-3105f0d03422"
   },
   "outputs": [],
   "source": [
    "cond_active = bureau['CREDIT_ACTIVE'] == 'Active'\n",
    "bureau_active_grp = bureau[cond_active].groupby('SK_ID_CURR')\n",
    "bureau_agg_dict = {\n",
    "    # 기존 컬럼\n",
    "    'SK_ID_BUREAU':['count'],\n",
    "    'DAYS_CREDIT':['min', 'max', 'mean'],\n",
    "    'CREDIT_DAY_OVERDUE':['min', 'max', 'mean'],\n",
    "    'DAYS_CREDIT_ENDDATE':['min', 'max', 'mean'],\n",
    "    'DAYS_ENDDATE_FACT':['min', 'max', 'mean'],\n",
    "    'AMT_CREDIT_MAX_OVERDUE': ['max', 'mean'],\n",
    "    'AMT_CREDIT_SUM': ['max', 'mean', 'sum'],\n",
    "    'AMT_CREDIT_SUM_DEBT': ['max', 'mean', 'sum'],\n",
    "    'AMT_CREDIT_SUM_OVERDUE': ['max', 'mean', 'sum'],\n",
    "    'AMT_ANNUITY': ['max', 'mean', 'sum'],\n",
    "    # 추가 가공 컬럼\n",
    "    'BUREAU_ENDDATE_FACT_DIFF':['min', 'max', 'mean'],\n",
    "    'BUREAU_CREDIT_FACT_DIFF':['min', 'max', 'mean'],\n",
    "    'BUREAU_CREDIT_ENDDATE_DIFF':['min', 'max', 'mean'],\n",
    "    'BUREAU_CREDIT_DEBT_RATIO':['min', 'max', 'mean'],\n",
    "    'BUREAU_CREDIT_DEBT_DIFF':['min', 'max', 'mean'],\n",
    "    'BUREAU_IS_DPD':['mean', 'sum'],\n",
    "    'BUREAU_IS_DPD_OVER120':['mean', 'sum']\n",
    "    }\n",
    "\n",
    "bureau_active_agg = bureau_active_grp.agg(bureau_agg_dict)\n",
    "# BUREAU_ACT을 접두어로 하는 새로운 컬럼명 할당.\n",
    "bureau_active_agg.columns = ['BUREAU_ACT_'+('_').join(column).upper() for column in bureau_active_agg.columns.ravel()]\n",
    "# 조인을 위해 SK_ID_CURR을 reset_index()로 컬럼화 \n",
    "bureau_active_agg = bureau_active_agg.reset_index()\n",
    "print(bureau_active_agg.shape)\n",
    "bureau_active_agg.head(10)\n"
   ]
  },
  {
   "cell_type": "code",
   "execution_count": null,
   "metadata": {
    "colab": {
     "base_uri": "https://localhost:8080/",
     "height": 696
    },
    "colab_type": "code",
    "executionInfo": {
     "elapsed": 1413,
     "status": "ok",
     "timestamp": 1599722288959,
     "user": {
      "displayName": "권철민",
      "photoUrl": "",
      "userId": "03917677622451543916"
     },
     "user_tz": -540
    },
    "id": "WI5vlz900n_L",
    "outputId": "46e951f8-d6c0-48c8-d37f-dfd3a59cf563"
   },
   "outputs": [],
   "source": [
    "bureau_agg = bureau_day_amt_agg.merge(bureau_active_agg, on='SK_ID_CURR', how='left')\n",
    "bureau_agg.head(20)"
   ]
  },
  {
   "cell_type": "code",
   "execution_count": null,
   "metadata": {
    "colab": {
     "base_uri": "https://localhost:8080/",
     "height": 36
    },
    "colab_type": "code",
    "executionInfo": {
     "elapsed": 459,
     "status": "ok",
     "timestamp": 1599722290180,
     "user": {
      "displayName": "권철민",
      "photoUrl": "",
      "userId": "03917677622451543916"
     },
     "user_tz": -540
    },
    "id": "j7syszpw0n_T",
    "outputId": "a842742d-44d7-4538-b26f-b1e1db02a5dd"
   },
   "outputs": [],
   "source": [
    "bureau_agg.shape"
   ]
  },
  {
   "cell_type": "markdown",
   "metadata": {
    "colab_type": "text",
    "id": "yOP5_smE0n_X"
   },
   "source": [
    "##### SK_ID_CURR레벨로 건수 대비 연체 OVER 0, OVER 120 건수 비율 계산"
   ]
  },
  {
   "cell_type": "code",
   "execution_count": null,
   "metadata": {
    "colab": {
     "base_uri": "https://localhost:8080/",
     "height": 696
    },
    "colab_type": "code",
    "executionInfo": {
     "elapsed": 722,
     "status": "ok",
     "timestamp": 1599722293204,
     "user": {
      "displayName": "권철민",
      "photoUrl": "",
      "userId": "03917677622451543916"
     },
     "user_tz": -540
    },
    "id": "fbmrBzs60n_Y",
    "outputId": "11a7e40e-74ba-421b-82fe-6afedefe3b55"
   },
   "outputs": [],
   "source": [
    "select_columns = ['SK_ID_CURR', 'BUREAU_SK_ID_BUREAU_COUNT', 'BUREAU_BUREAU_IS_DPD_SUM', 'BUREAU_BUREAU_IS_DPD_OVER120_SUM',\n",
    "                 'BUREAU_ACT_BUREAU_IS_DPD_SUM', 'BUREAU_ACT_BUREAU_IS_DPD_OVER120_SUM']\n",
    "bureau_agg[select_columns].head(20) "
   ]
  },
  {
   "cell_type": "code",
   "execution_count": null,
   "metadata": {
    "colab": {
     "base_uri": "https://localhost:8080/",
     "height": 187
    },
    "colab_type": "code",
    "executionInfo": {
     "elapsed": 748,
     "status": "ok",
     "timestamp": 1599722295435,
     "user": {
      "displayName": "권철민",
      "photoUrl": "",
      "userId": "03917677622451543916"
     },
     "user_tz": -540
    },
    "id": "WLr94fDX0n_c",
    "outputId": "40bb1dae-1823-4406-bf2a-f2a4a6951f9a"
   },
   "outputs": [],
   "source": [
    "bureau_agg['BUREAU_BUREAU_IS_DPD_SUM'].value_counts()"
   ]
  },
  {
   "cell_type": "code",
   "execution_count": null,
   "metadata": {
    "colab": {
     "base_uri": "https://localhost:8080/",
     "height": 1000
    },
    "colab_type": "code",
    "executionInfo": {
     "elapsed": 469,
     "status": "ok",
     "timestamp": 1599722296708,
     "user": {
      "displayName": "권철민",
      "photoUrl": "",
      "userId": "03917677622451543916"
     },
     "user_tz": -540
    },
    "id": "UoeO0UDL0n_g",
    "outputId": "fc23d27d-6cc3-464c-87ed-d79d7683768d"
   },
   "outputs": [],
   "source": [
    "bureau_agg.columns.tolist()"
   ]
  },
  {
   "cell_type": "code",
   "execution_count": null,
   "metadata": {
    "colab": {},
    "colab_type": "code",
    "executionInfo": {
     "elapsed": 708,
     "status": "ok",
     "timestamp": 1599722298517,
     "user": {
      "displayName": "권철민",
      "photoUrl": "",
      "userId": "03917677622451543916"
     },
     "user_tz": -540
    },
    "id": "q81siv3a0n_l"
   },
   "outputs": [],
   "source": [
    "# SK_ID_CURR 레벨로 DPD 비율, DPD > 120 비율 확률, Active 상태에서 DPD 비율, DPD > 120 비율 확률\n",
    "bureau_agg['BUREAU_IS_DPD_RATIO'] = bureau_agg['BUREAU_BUREAU_IS_DPD_SUM']/bureau_agg['BUREAU_SK_ID_BUREAU_COUNT']\n",
    "bureau_agg['BUREAU_IS_DPD_OVER120_RATIO'] = bureau_agg['BUREAU_BUREAU_IS_DPD_OVER120_SUM']/bureau_agg['BUREAU_SK_ID_BUREAU_COUNT']\n",
    "bureau_agg['BUREAU_ACT_IS_DPD_RATIO'] = bureau_agg['BUREAU_ACT_BUREAU_IS_DPD_SUM']/bureau_agg['BUREAU_SK_ID_BUREAU_COUNT']\n",
    "bureau_agg['BUREAU_ACT_IS_DPD_OVER120_RATIO'] = bureau_agg['BUREAU_ACT_BUREAU_IS_DPD_OVER120_SUM']/bureau_agg['BUREAU_SK_ID_BUREAU_COUNT']"
   ]
  },
  {
   "cell_type": "code",
   "execution_count": null,
   "metadata": {
    "colab": {
     "base_uri": "https://localhost:8080/",
     "height": 383
    },
    "colab_type": "code",
    "executionInfo": {
     "elapsed": 803,
     "status": "ok",
     "timestamp": 1599722299985,
     "user": {
      "displayName": "권철민",
      "photoUrl": "",
      "userId": "03917677622451543916"
     },
     "user_tz": -540
    },
    "id": "Gj2iJoeq0n_o",
    "outputId": "208c542e-e605-424c-a1d3-830a1e2bcc5d"
   },
   "outputs": [],
   "source": [
    "bureau_agg.head(10)"
   ]
  },
  {
   "cell_type": "markdown",
   "metadata": {
    "colab_type": "text",
    "id": "V2UO3jDi0n_t"
   },
   "source": [
    "##### bureau_bal의 주요 컬럼으로 aggregation 컬럼 생성. "
   ]
  },
  {
   "cell_type": "markdown",
   "metadata": {
    "colab_type": "text",
    "id": "6U6-DFQp0n_t"
   },
   "source": [
    "##### bureau_bal을 SK_ID_CURR 별로 groupby 하기 위해 SK_ID_CURR을 가지고 있는 bureau와 조인 "
   ]
  },
  {
   "cell_type": "code",
   "execution_count": null,
   "metadata": {
    "colab": {},
    "colab_type": "code",
    "executionInfo": {
     "elapsed": 20433,
     "status": "ok",
     "timestamp": 1599722323902,
     "user": {
      "displayName": "권철민",
      "photoUrl": "",
      "userId": "03917677622451543916"
     },
     "user_tz": -540
    },
    "id": "8HkBQlF00n_u"
   },
   "outputs": [],
   "source": [
    "# 데이터 세트 재로딩. \n",
    "apps, prev, bureau, bureau_bal = get_dataset()"
   ]
  },
  {
   "cell_type": "code",
   "execution_count": null,
   "metadata": {
    "colab": {
     "base_uri": "https://localhost:8080/",
     "height": 55
    },
    "colab_type": "code",
    "executionInfo": {
     "elapsed": 16554,
     "status": "ok",
     "timestamp": 1599722326968,
     "user": {
      "displayName": "권철민",
      "photoUrl": "",
      "userId": "03917677622451543916"
     },
     "user_tz": -540
    },
    "id": "O25EsOWX0n__",
    "outputId": "b6573b6d-d27b-444c-8820-0efc87c2205c"
   },
   "outputs": [],
   "source": [
    "print(bureau_bal.shape, bureau.shape)\n",
    "\n",
    "# bureau_bal과 bureau join\n",
    "bureau_bal = bureau_bal.merge(bureau[['SK_ID_CURR', 'SK_ID_BUREAU']], on='SK_ID_BUREAU', how='left')\n",
    "bureau_bal.shape"
   ]
  },
  {
   "cell_type": "markdown",
   "metadata": {
    "colab_type": "text",
    "id": "FbM2nP6f0oAF"
   },
   "source": [
    "##### bureau_bal의 주요 컬럼으로 SK_ID_CURR레벨의 aggregation 컬럼 생성. "
   ]
  },
  {
   "cell_type": "code",
   "execution_count": null,
   "metadata": {
    "colab": {
     "base_uri": "https://localhost:8080/",
     "height": 206
    },
    "colab_type": "code",
    "executionInfo": {
     "elapsed": 10812,
     "status": "ok",
     "timestamp": 1599722326975,
     "user": {
      "displayName": "권철민",
      "photoUrl": "",
      "userId": "03917677622451543916"
     },
     "user_tz": -540
    },
    "id": "szwBqeBp0oAG",
    "outputId": "2381cd12-7b18-4788-abd0-b85e2fe89525"
   },
   "outputs": [],
   "source": [
    "bureau_bal.head()"
   ]
  },
  {
   "cell_type": "markdown",
   "metadata": {
    "colab_type": "text",
    "id": "iSFJ2iZG0oAK"
   },
   "source": [
    "##### STATUS 컬럼에 따른 연체 OVER 0 , OVER 120 값 가공. "
   ]
  },
  {
   "cell_type": "code",
   "execution_count": null,
   "metadata": {
    "colab": {
     "base_uri": "https://localhost:8080/",
     "height": 187
    },
    "colab_type": "code",
    "executionInfo": {
     "elapsed": 2630,
     "status": "ok",
     "timestamp": 1599722341977,
     "user": {
      "displayName": "권철민",
      "photoUrl": "",
      "userId": "03917677622451543916"
     },
     "user_tz": -540
    },
    "id": "6pDAStqp0oAL",
    "outputId": "1e134ce7-6f5e-4faa-86f1-6b9c1eb0a592"
   },
   "outputs": [],
   "source": [
    "bureau_bal['STATUS'].value_counts()"
   ]
  },
  {
   "cell_type": "code",
   "execution_count": null,
   "metadata": {
    "colab": {},
    "colab_type": "code",
    "executionInfo": {
     "elapsed": 19346,
     "status": "ok",
     "timestamp": 1599722362051,
     "user": {
      "displayName": "권철민",
      "photoUrl": "",
      "userId": "03917677622451543916"
     },
     "user_tz": -540
    },
    "id": "xjAWH4Lh0oAN"
   },
   "outputs": [],
   "source": [
    "bureau_bal['BUREAU_BAL_IS_DPD'] = bureau_bal['STATUS'].apply(lambda x: 1 if x in['1','2','3','4','5']  else 0)\n",
    "bureau_bal['BUREAU_BAL_IS_DPD_OVER120'] = bureau_bal['STATUS'].apply(lambda x: 1 if x =='5'  else 0)"
   ]
  },
  {
   "cell_type": "code",
   "execution_count": null,
   "metadata": {
    "colab": {
     "base_uri": "https://localhost:8080/",
     "height": 74
    },
    "colab_type": "code",
    "executionInfo": {
     "elapsed": 18449,
     "status": "ok",
     "timestamp": 1599722362061,
     "user": {
      "displayName": "권철민",
      "photoUrl": "",
      "userId": "03917677622451543916"
     },
     "user_tz": -540
    },
    "id": "B3cnBykm0oAR",
    "outputId": "afc78ec0-9a2c-41dd-d6c8-e6608f5a5d1d"
   },
   "outputs": [],
   "source": [
    "bureau_bal['BUREAU_BAL_IS_DPD'].value_counts()"
   ]
  },
  {
   "cell_type": "code",
   "execution_count": null,
   "metadata": {
    "colab": {
     "base_uri": "https://localhost:8080/",
     "height": 245
    },
    "colab_type": "code",
    "executionInfo": {
     "elapsed": 18948,
     "status": "ok",
     "timestamp": 1599722369066,
     "user": {
      "displayName": "권철민",
      "photoUrl": "",
      "userId": "03917677622451543916"
     },
     "user_tz": -540
    },
    "id": "VwomypEV0oAU",
    "outputId": "0e0be06a-0520-44f6-c76d-088d494b1fa1"
   },
   "outputs": [],
   "source": [
    "bureau_bal_grp = bureau_bal.groupby('SK_ID_CURR')\n",
    "# SK_ID_CURR 레벨로 건수와 MONTHS_BALANCE의 aggregation 가공 \n",
    "bureau_bal_agg_dict = {\n",
    "    'SK_ID_CURR':['count'],\n",
    "    'MONTHS_BALANCE':['min', 'max', 'mean'],\n",
    "    'BUREAU_BAL_IS_DPD':['mean', 'sum'],\n",
    "    'BUREAU_BAL_IS_DPD_OVER120':['mean', 'sum']\n",
    "}\n",
    "\n",
    "bureau_bal_agg = bureau_bal_grp.agg(bureau_bal_agg_dict)\n",
    "# BUREAU_BAL을 접두어로 하는 새로운 컬럼명 할당. \n",
    "bureau_bal_agg.columns = [ 'BUREAU_BAL_'+('_').join(column).upper() for column in bureau_bal_agg.columns.ravel() ]\n",
    "# 조인을 위해 SK_ID_CURR을 reset_index()로 컬럼화 \n",
    "bureau_bal_agg = bureau_bal_agg.reset_index()\n",
    "print(bureau_bal_agg.shape)\n",
    "bureau_bal_agg.head()"
   ]
  },
  {
   "cell_type": "code",
   "execution_count": null,
   "metadata": {
    "colab": {
     "base_uri": "https://localhost:8080/",
     "height": 149
    },
    "colab_type": "code",
    "executionInfo": {
     "elapsed": 17292,
     "status": "ok",
     "timestamp": 1599722369068,
     "user": {
      "displayName": "권철민",
      "photoUrl": "",
      "userId": "03917677622451543916"
     },
     "user_tz": -540
    },
    "id": "8LOreX_U0oAW",
    "outputId": "1a12ce1d-294f-4511-a280-30ebfc1c3249"
   },
   "outputs": [],
   "source": [
    "bureau_bal_agg.columns"
   ]
  },
  {
   "cell_type": "markdown",
   "metadata": {
    "colab_type": "text",
    "id": "Kro9ulKZ0oAZ"
   },
   "source": [
    "##### SK_ID_CURR 레벨로 DPD 비율, DPD > 120 비율을 신규 컬럼 생성. "
   ]
  },
  {
   "cell_type": "code",
   "execution_count": null,
   "metadata": {
    "colab": {},
    "colab_type": "code",
    "executionInfo": {
     "elapsed": 14976,
     "status": "ok",
     "timestamp": 1599722369071,
     "user": {
      "displayName": "권철민",
      "photoUrl": "",
      "userId": "03917677622451543916"
     },
     "user_tz": -540
    },
    "id": "2M2Jrmwb0oAZ"
   },
   "outputs": [],
   "source": [
    "# SK_ID_CURR 레벨로 DPD 비율, DPD > 120 비율 가공 \n",
    "bureau_bal_agg['BUREAU_BAL_IS_DPD_RATIO'] = bureau_bal_agg['BUREAU_BAL_BUREAU_BAL_IS_DPD_SUM']/bureau_bal_agg['BUREAU_BAL_SK_ID_CURR_COUNT']\n",
    "bureau_bal_agg['BUREAU_BAL_IS_DPD_OVER120_RATIO'] = bureau_bal_agg['BUREAU_BAL_BUREAU_BAL_IS_DPD_OVER120_SUM']/bureau_bal_agg['BUREAU_BAL_SK_ID_CURR_COUNT']"
   ]
  },
  {
   "cell_type": "markdown",
   "metadata": {
    "colab_type": "text",
    "id": "v8r2ENVX0oAc"
   },
   "source": [
    "#####  bureau_agg, bureau_bal_agg 조인. "
   ]
  },
  {
   "cell_type": "code",
   "execution_count": null,
   "metadata": {
    "colab": {},
    "colab_type": "code",
    "executionInfo": {
     "elapsed": 13711,
     "status": "ok",
     "timestamp": 1599722370216,
     "user": {
      "displayName": "권철민",
      "photoUrl": "",
      "userId": "03917677622451543916"
     },
     "user_tz": -540
    },
    "id": "gPBGp5BG0oAc"
   },
   "outputs": [],
   "source": [
    "##### bureau_day_amt_agg, bureau_bal_agg 조인. \n",
    "bureau_agg = bureau_day_amt_agg.merge(bureau_active_agg, on='SK_ID_CURR', how='left')\n",
    "bureau_agg = bureau_agg.merge(bureau_bal_agg, on='SK_ID_CURR', how='left')"
   ]
  },
  {
   "cell_type": "code",
   "execution_count": null,
   "metadata": {
    "colab": {
     "base_uri": "https://localhost:8080/",
     "height": 36
    },
    "colab_type": "code",
    "executionInfo": {
     "elapsed": 12091,
     "status": "ok",
     "timestamp": 1599722370224,
     "user": {
      "displayName": "권철민",
      "photoUrl": "",
      "userId": "03917677622451543916"
     },
     "user_tz": -540
    },
    "id": "L1eSNkHd0oAg",
    "outputId": "810cfe9f-73eb-4e98-d9bc-18b65bd920b2"
   },
   "outputs": [],
   "source": [
    "print(bureau_agg.shape)"
   ]
  },
  {
   "cell_type": "markdown",
   "metadata": {
    "colab_type": "text",
    "id": "IgVkaZtR0oAj"
   },
   "source": [
    "#### 앞에서 처리한 데이터 가공 로직을 함수화"
   ]
  },
  {
   "cell_type": "code",
   "execution_count": null,
   "metadata": {
    "colab": {},
    "colab_type": "code",
    "executionInfo": {
     "elapsed": 1087,
     "status": "ok",
     "timestamp": 1599724907851,
     "user": {
      "displayName": "권철민",
      "photoUrl": "",
      "userId": "03917677622451543916"
     },
     "user_tz": -540
    },
    "id": "oi-wi_Vd0oAk"
   },
   "outputs": [],
   "source": [
    "# bureau 채무 완료 날짜 및 대출 금액 대비 채무 금액 관련 컬럼 가공.\n",
    "def get_bureau_processed(bureau):\n",
    "    # 예정 채무 시작 및 완료일과 실제 채무 완료일간의 차이 및 날짜 비율 가공.  \n",
    "    bureau['BUREAU_ENDDATE_FACT_DIFF'] = bureau['DAYS_CREDIT_ENDDATE'] - bureau['DAYS_ENDDATE_FACT']\n",
    "    bureau['BUREAU_CREDIT_FACT_DIFF'] = bureau['DAYS_CREDIT'] - bureau['DAYS_ENDDATE_FACT']\n",
    "    bureau['BUREAU_CREDIT_ENDDATE_DIFF'] = bureau['DAYS_CREDIT'] - bureau['DAYS_CREDIT_ENDDATE']\n",
    "  \n",
    "    # 채무 금액 대비/대출 금액 비율 및 차이 가공\n",
    "    bureau['BUREAU_CREDIT_DEBT_RATIO']=bureau['AMT_CREDIT_SUM_DEBT']/bureau['AMT_CREDIT_SUM']\n",
    "    #bureau['BUREAU_CREDIT_DEBT_DIFF'] = bureau['AMT_CREDIT_SUM'] - bureau['AMT_CREDIT_SUM_DEBT']\n",
    "    bureau['BUREAU_CREDIT_DEBT_DIFF'] = bureau['AMT_CREDIT_SUM_DEBT'] - bureau['AMT_CREDIT_SUM']\n",
    "\n",
    "    bureau['BUREAU_IS_DPD'] = bureau['CREDIT_DAY_OVERDUE'].apply(lambda x: 1 if x > 0 else 0)\n",
    "    bureau['BUREAU_IS_DPD_OVER120'] = bureau['CREDIT_DAY_OVERDUE'].apply(lambda x: 1 if x >120 else 0)\n",
    "    \n",
    "    return bureau\n",
    "\n",
    "# bureau 주요 컬럼 및 앞에서 채무 및 대출금액 관련 컬럼들로 SK_ID_CURR 레벨의 aggregation 컬럼 생성. \n",
    "def get_bureau_day_amt_agg(bureau):\n",
    "        \n",
    "    bureau_agg_dict = {\n",
    "    'SK_ID_BUREAU':['count'],\n",
    "    'DAYS_CREDIT':['min', 'max', 'mean'],\n",
    "    'CREDIT_DAY_OVERDUE':['min', 'max', 'mean'],\n",
    "    'DAYS_CREDIT_ENDDATE':['min', 'max', 'mean'],\n",
    "    'DAYS_ENDDATE_FACT':['min', 'max', 'mean'],\n",
    "    'AMT_CREDIT_MAX_OVERDUE': ['max', 'mean'],\n",
    "    'AMT_CREDIT_SUM': ['max', 'mean', 'sum'],\n",
    "    'AMT_CREDIT_SUM_DEBT': ['max', 'mean', 'sum'],\n",
    "    'AMT_CREDIT_SUM_OVERDUE': ['max', 'mean', 'sum'],\n",
    "    'AMT_ANNUITY': ['max', 'mean', 'sum'],\n",
    "    # 추가 가공 컬럼\n",
    "    'BUREAU_ENDDATE_FACT_DIFF':['min', 'max', 'mean'],\n",
    "    'BUREAU_CREDIT_FACT_DIFF':['min', 'max', 'mean'],\n",
    "    'BUREAU_CREDIT_ENDDATE_DIFF':['min', 'max', 'mean'],\n",
    "    'BUREAU_CREDIT_DEBT_RATIO':['min', 'max', 'mean'],\n",
    "    'BUREAU_CREDIT_DEBT_DIFF':['min', 'max', 'mean'],\n",
    "    'BUREAU_IS_DPD':['mean', 'sum'],\n",
    "    'BUREAU_IS_DPD_OVER120':['mean', 'sum']\n",
    "    }\n",
    "\n",
    "    bureau_grp = bureau.groupby('SK_ID_CURR')\n",
    "    bureau_day_amt_agg = bureau_grp.agg(bureau_agg_dict)\n",
    "    bureau_day_amt_agg.columns = ['BUREAU_'+('_').join(column).upper() for column in bureau_day_amt_agg.columns.ravel()]\n",
    "    # 조인을 위해 SK_ID_CURR을 reset_index()로 컬럼화 \n",
    "    bureau_day_amt_agg = bureau_day_amt_agg.reset_index()\n",
    "    print('bureau_day_amt_agg shape:', bureau_day_amt_agg.shape)\n",
    "    return bureau_day_amt_agg\n",
    "\n",
    "# Bureau의 CREDIT_ACTIVE='Active' 인 데이터만 filtering 후 주요 컬럼 및 앞에서 채무 및 대출금액 관련 컬럼들로 SK_ID_CURR 레벨의 aggregation 컬럼 생성\n",
    "def get_bureau_active_agg(bureau):\n",
    "    # CREDIT_ACTIVE='Active' 인 데이터만 filtering\n",
    "    cond_active = bureau['CREDIT_ACTIVE'] == 'Active'\n",
    "    bureau_active_grp = bureau[cond_active].groupby(['SK_ID_CURR'])\n",
    "    bureau_agg_dict = {\n",
    "        'SK_ID_BUREAU':['count'],\n",
    "        'DAYS_CREDIT':['min', 'max', 'mean'],\n",
    "        'CREDIT_DAY_OVERDUE':['min', 'max', 'mean'],\n",
    "        'DAYS_CREDIT_ENDDATE':['min', 'max', 'mean'],\n",
    "        'DAYS_ENDDATE_FACT':['min', 'max', 'mean'],\n",
    "        'AMT_CREDIT_MAX_OVERDUE': ['max', 'mean'],\n",
    "        'AMT_CREDIT_SUM': ['max', 'mean', 'sum'],\n",
    "        'AMT_CREDIT_SUM_DEBT': ['max', 'mean', 'sum'],\n",
    "        'AMT_CREDIT_SUM_OVERDUE': ['max', 'mean', 'sum'],\n",
    "        'AMT_ANNUITY': ['max', 'mean', 'sum'],\n",
    "        # 추가 가공 컬럼\n",
    "        'BUREAU_ENDDATE_FACT_DIFF':['min', 'max', 'mean'],\n",
    "        'BUREAU_CREDIT_FACT_DIFF':['min', 'max', 'mean'],\n",
    "        'BUREAU_CREDIT_ENDDATE_DIFF':['min', 'max', 'mean'],\n",
    "        'BUREAU_CREDIT_DEBT_RATIO':['min', 'max', 'mean'],\n",
    "        'BUREAU_CREDIT_DEBT_DIFF':['min', 'max', 'mean'],\n",
    "        'BUREAU_IS_DPD':['mean', 'sum'],\n",
    "        'BUREAU_IS_DPD_OVER120':['mean', 'sum']\n",
    "        }\n",
    "\n",
    "    bureau_active_agg = bureau_active_grp.agg(bureau_agg_dict)\n",
    "    bureau_active_agg.columns = ['BUREAU_ACT_'+('_').join(column).upper() for column in bureau_active_agg.columns.ravel()]\n",
    "    # 조인을 위해 SK_ID_CURR을 reset_index()로 컬럼화 \n",
    "    bureau_active_agg = bureau_active_agg.reset_index()\n",
    "    print('bureau_active_agg shape:', bureau_active_agg.shape)\n",
    "    return bureau_active_agg\n",
    "\n",
    "# bureau_bal을 SK_ID_CURR 레벨로 건수와 MONTHS_BALANCE의 aggregation 가공 \n",
    "def get_bureau_bal_agg(bureau, bureau_bal):\n",
    "    \n",
    "    bureau_bal = bureau_bal.merge(bureau[['SK_ID_CURR', 'SK_ID_BUREAU']], on='SK_ID_BUREAU', how='left')\n",
    "    bureau_bal['BUREAU_BAL_IS_DPD'] = bureau_bal['STATUS'].apply(lambda x: 1 if x in['1','2','3','4','5']  else 0)\n",
    "    bureau_bal['BUREAU_BAL_IS_DPD_OVER120'] = bureau_bal['STATUS'].apply(lambda x: 1 if x =='5'  else 0)\n",
    "    bureau_bal_grp = bureau_bal.groupby('SK_ID_CURR')\n",
    "    # SK_ID_CURR 레벨로 건수와 MONTHS_BALANCE의 aggregation 가공 \n",
    "    bureau_bal_agg_dict = {\n",
    "        'SK_ID_CURR':['count'],\n",
    "        'MONTHS_BALANCE':['min', 'max', 'mean'],\n",
    "        'BUREAU_BAL_IS_DPD':['mean', 'sum'],\n",
    "        'BUREAU_BAL_IS_DPD_OVER120':['mean', 'sum']\n",
    "    }\n",
    "\n",
    "    bureau_bal_agg = bureau_bal_grp.agg(bureau_bal_agg_dict)\n",
    "    bureau_bal_agg.columns = [ 'BUREAU_BAL_'+('_').join(column).upper() for column in bureau_bal_agg.columns.ravel() ]\n",
    "    # 조인을 위해 SK_ID_CURR을 reset_index()로 컬럼화 \n",
    "    bureau_bal_agg = bureau_bal_agg.reset_index()\n",
    "    print('bureau_bal_agg shape:', bureau_bal_agg.shape)\n",
    "    return bureau_bal_agg\n",
    "    \n",
    "# 가공된 bureau관련 aggregation 컬럼들을 모두 결합   \n",
    "def get_bureau_agg(bureau, bureau_bal):\n",
    "    \n",
    "    bureau = get_bureau_processed(bureau)\n",
    "    bureau_day_amt_agg = get_bureau_day_amt_agg(bureau)\n",
    "    bureau_active_agg = get_bureau_active_agg(bureau)\n",
    "    bureau_bal_agg = get_bureau_bal_agg(bureau, bureau_bal)\n",
    "    # 가공된 bureau관련 aggregation 컬럼들을 모두 조인하여 결합 후 return  \n",
    "    bureau_agg = bureau_day_amt_agg.merge(bureau_active_agg, on='SK_ID_CURR', how='left')\n",
    "    bureau_agg = bureau_agg.merge(bureau_bal_agg, on='SK_ID_CURR', how='left')\n",
    "    print('bureau_agg shape:', bureau_agg.shape)\n",
    "    \n",
    "    return bureau_agg"
   ]
  },
  {
   "cell_type": "markdown",
   "metadata": {
    "colab_type": "text",
    "id": "1Upw5CxG0oAn"
   },
   "source": [
    "#### 기존 application 및 previous 데이터 가공 로직 복사"
   ]
  },
  {
   "cell_type": "code",
   "execution_count": null,
   "metadata": {
    "colab": {},
    "colab_type": "code",
    "executionInfo": {
     "elapsed": 741,
     "status": "ok",
     "timestamp": 1599726357707,
     "user": {
      "displayName": "권철민",
      "photoUrl": "",
      "userId": "03917677622451543916"
     },
     "user_tz": -540
    },
    "id": "MTcp2rFW0oAn"
   },
   "outputs": [],
   "source": [
    "from sklearn.model_selection import train_test_split\n",
    "from lightgbm import LGBMClassifier\n",
    "\n",
    "def get_apps_processed(apps):\n",
    "    \n",
    "    # EXT_SOURCE_X FEATURE 가공\n",
    "    apps['APPS_EXT_SOURCE_MEAN'] = apps[['EXT_SOURCE_1', 'EXT_SOURCE_2', 'EXT_SOURCE_3']].mean(axis=1)\n",
    "    apps['APPS_EXT_SOURCE_STD'] = apps[['EXT_SOURCE_1', 'EXT_SOURCE_2', 'EXT_SOURCE_3']].std(axis=1)\n",
    "    apps['APPS_EXT_SOURCE_STD'] = apps['APPS_EXT_SOURCE_STD'].fillna(apps['APPS_EXT_SOURCE_STD'].mean())\n",
    "    \n",
    "    # AMT_CREDIT 비율로 Feature 가공\n",
    "    apps['APPS_ANNUITY_CREDIT_RATIO'] = apps['AMT_ANNUITY']/apps['AMT_CREDIT']\n",
    "    apps['APPS_GOODS_CREDIT_RATIO'] = apps['AMT_GOODS_PRICE']/apps['AMT_CREDIT']\n",
    "    \n",
    "    # AMT_INCOME_TOTAL 비율로 Feature 가공\n",
    "    apps['APPS_ANNUITY_INCOME_RATIO'] = apps['AMT_ANNUITY']/apps['AMT_INCOME_TOTAL']\n",
    "    apps['APPS_CREDIT_INCOME_RATIO'] = apps['AMT_CREDIT']/apps['AMT_INCOME_TOTAL']\n",
    "    apps['APPS_GOODS_INCOME_RATIO'] = apps['AMT_GOODS_PRICE']/apps['AMT_INCOME_TOTAL']\n",
    "    apps['APPS_CNT_FAM_INCOME_RATIO'] = apps['AMT_INCOME_TOTAL']/apps['CNT_FAM_MEMBERS']\n",
    "    \n",
    "    # DAYS_BIRTH, DAYS_EMPLOYED 비율로 Feature 가공\n",
    "    apps['APPS_EMPLOYED_BIRTH_RATIO'] = apps['DAYS_EMPLOYED']/apps['DAYS_BIRTH']\n",
    "    apps['APPS_INCOME_EMPLOYED_RATIO'] = apps['AMT_INCOME_TOTAL']/apps['DAYS_EMPLOYED']\n",
    "    apps['APPS_INCOME_BIRTH_RATIO'] = apps['AMT_INCOME_TOTAL']/apps['DAYS_BIRTH']\n",
    "    apps['APPS_CAR_BIRTH_RATIO'] = apps['OWN_CAR_AGE'] / apps['DAYS_BIRTH']\n",
    "    apps['APPS_CAR_EMPLOYED_RATIO'] = apps['OWN_CAR_AGE'] / apps['DAYS_EMPLOYED']\n",
    "    \n",
    "    return apps\n",
    "\n",
    "def get_prev_processed(prev):\n",
    "    # 대출 신청 금액과 실제 대출액/대출 상품금액 차이 및 비율\n",
    "    prev['PREV_CREDIT_DIFF'] = prev['AMT_APPLICATION'] - prev['AMT_CREDIT']\n",
    "    prev['PREV_GOODS_DIFF'] = prev['AMT_APPLICATION'] - prev['AMT_GOODS_PRICE']\n",
    "    prev['PREV_CREDIT_APPL_RATIO'] = prev['AMT_CREDIT']/prev['AMT_APPLICATION']\n",
    "    # prev['PREV_ANNUITY_APPL_RATIO'] = prev['AMT_ANNUITY']/prev['AMT_APPLICATION']\n",
    "    prev['PREV_GOODS_APPL_RATIO'] = prev['AMT_GOODS_PRICE']/prev['AMT_APPLICATION']\n",
    "    \n",
    "    prev['DAYS_FIRST_DRAWING'].replace(365243, np.nan, inplace= True)\n",
    "    prev['DAYS_FIRST_DUE'].replace(365243, np.nan, inplace= True)\n",
    "    prev['DAYS_LAST_DUE_1ST_VERSION'].replace(365243, np.nan, inplace= True)\n",
    "    prev['DAYS_LAST_DUE'].replace(365243, np.nan, inplace= True)\n",
    "    prev['DAYS_TERMINATION'].replace(365243, np.nan, inplace= True)\n",
    "    # 첫번째 만기일과 마지막 만기일까지의 기간\n",
    "    prev['PREV_DAYS_LAST_DUE_DIFF'] = prev['DAYS_LAST_DUE_1ST_VERSION'] - prev['DAYS_LAST_DUE']\n",
    "    # 매월 납부 금액과 납부 횟수 곱해서 전체 납부 금액 구함. \n",
    "    all_pay = prev['AMT_ANNUITY'] * prev['CNT_PAYMENT']\n",
    "    # 전체 납부 금액 대비 AMT_CREDIT 비율을 구하고 여기에 다시 납부횟수로 나누어서 이자율 계산. \n",
    "    prev['PREV_INTERESTS_RATE'] = (all_pay/prev['AMT_CREDIT'] - 1)/prev['CNT_PAYMENT']\n",
    "        \n",
    "    return prev\n",
    "    \n",
    "    \n",
    "def get_prev_amt_agg(prev):\n",
    "    # 새롭게 생성된 대출 신청액 대비 다른 금액 차이 및 비율로 aggregation 수행. \n",
    "    agg_dict = {\n",
    "         # 기존 컬럼 aggregation. \n",
    "        'SK_ID_CURR':['count'],\n",
    "        'AMT_CREDIT':['mean', 'max', 'sum'],\n",
    "        'AMT_ANNUITY':['mean', 'max', 'sum'], \n",
    "        'AMT_APPLICATION':['mean', 'max', 'sum'],\n",
    "        'AMT_DOWN_PAYMENT':['mean', 'max', 'sum'],\n",
    "        'AMT_GOODS_PRICE':['mean', 'max', 'sum'],\n",
    "        'RATE_DOWN_PAYMENT': ['min', 'max', 'mean'],\n",
    "        'DAYS_DECISION': ['min', 'max', 'mean'],\n",
    "        'CNT_PAYMENT': ['mean', 'sum'],\n",
    "        # 가공 컬럼 aggregation\n",
    "        'PREV_CREDIT_DIFF':['mean', 'max', 'sum'], \n",
    "        'PREV_CREDIT_APPL_RATIO':['mean', 'max'],\n",
    "        'PREV_GOODS_DIFF':['mean', 'max', 'sum'],\n",
    "        'PREV_GOODS_APPL_RATIO':['mean', 'max'],\n",
    "        'PREV_DAYS_LAST_DUE_DIFF':['mean', 'max', 'sum'],\n",
    "        'PREV_INTERESTS_RATE':['mean', 'max']\n",
    "    }\n",
    "\n",
    "    prev_group = prev.groupby('SK_ID_CURR')\n",
    "    prev_amt_agg = prev_group.agg(agg_dict)\n",
    "\n",
    "    # multi index 컬럼을 '_'로 연결하여 컬럼명 변경\n",
    "    prev_amt_agg.columns = [\"PREV_\"+ \"_\".join(x).upper() for x in prev_amt_agg.columns.ravel()]\n",
    "    \n",
    "    return prev_amt_agg\n",
    "\n",
    "def get_prev_refused_appr_agg(prev):\n",
    "    # 원래 groupby 컬럼 + 세부 기준 컬럼으로 groupby 수행. 세분화된 레벨로 aggregation 수행 한 뒤에 unstack()으로 컬럼레벨로 변형. \n",
    "    prev_refused_appr_group = prev[prev['NAME_CONTRACT_STATUS'].isin(['Approved', 'Refused'])].groupby([ 'SK_ID_CURR', 'NAME_CONTRACT_STATUS'])\n",
    "    prev_refused_appr_agg = prev_refused_appr_group['SK_ID_CURR'].count().unstack()\n",
    "    # 컬럼명 변경. \n",
    "    prev_refused_appr_agg.columns = ['PREV_APPROVED_COUNT', 'PREV_REFUSED_COUNT' ]\n",
    "    # NaN값은 모두 0으로 변경. \n",
    "    prev_refused_appr_agg = prev_refused_appr_agg.fillna(0)\n",
    "    \n",
    "    return prev_refused_appr_agg\n",
    "\n",
    "def get_prev_agg(prev):\n",
    "    prev = get_prev_processed(prev)\n",
    "    prev_amt_agg = get_prev_amt_agg(prev)\n",
    "    prev_refused_appr_agg = get_prev_refused_appr_agg(prev)\n",
    "    \n",
    "    # prev_amt_agg와 조인. \n",
    "    prev_agg = prev_amt_agg.merge(prev_refused_appr_agg, on='SK_ID_CURR', how='left')\n",
    "    # SK_ID_CURR별 과거 대출건수 대비 APPROVED_COUNT 및 REFUSED_COUNT 비율 생성. \n",
    "    prev_agg['PREV_REFUSED_RATIO'] = prev_agg['PREV_REFUSED_COUNT']/prev_agg['PREV_SK_ID_CURR_COUNT']\n",
    "    prev_agg['PREV_APPROVED_RATIO'] = prev_agg['PREV_APPROVED_COUNT']/prev_agg['PREV_SK_ID_CURR_COUNT']\n",
    "    # 'PREV_REFUSED_COUNT', 'PREV_APPROVED_COUNT' 컬럼 drop \n",
    "    prev_agg = prev_agg.drop(['PREV_REFUSED_COUNT', 'PREV_APPROVED_COUNT'], axis=1)\n",
    "    \n",
    "    return prev_agg\n",
    "\n",
    "def get_apps_all_with_prev_agg(apps, prev):\n",
    "    apps_all =  get_apps_processed(apps)\n",
    "    prev_agg = get_prev_agg(prev)\n",
    "    print('prev_agg shape:', prev_agg.shape)\n",
    "    print('apps_all before merge shape:', apps_all.shape)\n",
    "    apps_all = apps_all.merge(prev_agg, on='SK_ID_CURR', how='left')\n",
    "    print('apps_all after merge with prev_agg shape:', apps_all.shape)\n",
    "    \n",
    "    return apps_all\n",
    "\n",
    "def get_apps_all_encoded(apps_all):\n",
    "    object_columns = apps_all.dtypes[apps_all.dtypes == 'object'].index.tolist()\n",
    "    for column in object_columns:\n",
    "        apps_all[column] = pd.factorize(apps_all[column])[0]\n",
    "    \n",
    "    return apps_all\n",
    "\n",
    "def get_apps_all_train_test(apps_all):\n",
    "    apps_all_train = apps_all[~apps_all['TARGET'].isnull()]\n",
    "    apps_all_test = apps_all[apps_all['TARGET'].isnull()]\n",
    "\n",
    "    apps_all_test = apps_all_test.drop('TARGET', axis=1)\n",
    "    \n",
    "    return apps_all_train, apps_all_test\n",
    "    \n",
    "def train_apps_all(apps_all_train):\n",
    "    ftr_app = apps_all_train.drop(['SK_ID_CURR', 'TARGET'], axis=1)\n",
    "    target_app = apps_all_train['TARGET']\n",
    "\n",
    "    train_x, valid_x, train_y, valid_y = train_test_split(ftr_app, target_app, test_size=0.3, random_state=2020)\n",
    "    print('train shape:', train_x.shape, 'valid shape:', valid_x.shape)\n",
    "    clf = LGBMClassifier(\n",
    "                nthread=4,\n",
    "                n_estimators=2000,\n",
    "                learning_rate=0.02,\n",
    "                max_depth = 11,\n",
    "                num_leaves=58,\n",
    "                colsample_bytree=0.613,\n",
    "                subsample=0.708,\n",
    "                max_bin=407,\n",
    "                reg_alpha=3.564,\n",
    "                reg_lambda=4.930,\n",
    "                min_child_weight= 6,\n",
    "                min_child_samples=165,\n",
    "                silent=-1,\n",
    "                verbose=-1,\n",
    "                )\n",
    "   \n",
    "    clf.fit(train_x, train_y, eval_set=[(train_x, train_y), (valid_x, valid_y)], eval_metric= 'auc', verbose= 100, \n",
    "                early_stopping_rounds= 200)\n",
    "    \n",
    "    return clf"
   ]
  },
  {
   "cell_type": "markdown",
   "metadata": {
    "colab_type": "text",
    "id": "xJzRBoj90oAq"
   },
   "source": [
    "##### 새롭게 기존 application, previous 가공 데이터 세트와 bureau,bureau_bal 가공 데이터 세트를 결합. "
   ]
  },
  {
   "cell_type": "code",
   "execution_count": null,
   "metadata": {
    "colab": {},
    "colab_type": "code",
    "executionInfo": {
     "elapsed": 712,
     "status": "ok",
     "timestamp": 1599726359955,
     "user": {
      "displayName": "권철민",
      "photoUrl": "",
      "userId": "03917677622451543916"
     },
     "user_tz": -540
    },
    "id": "WLaEMgB30oA2"
   },
   "outputs": [],
   "source": [
    "def get_apps_all_with_prev_bureau_agg(apps, prev, bureau, bureau_bal):\n",
    "    apps_all =  get_apps_processed(apps)\n",
    "    prev_agg = get_prev_agg(prev)\n",
    "    bureau_agg = get_bureau_agg(bureau, bureau_bal)\n",
    "    print('prev_agg shape:', prev_agg.shape)\n",
    "    print('bueau_agg shape:', bureau_agg.shape)\n",
    "    print('apps_all before merge shape:', apps_all.shape)\n",
    "    apps_all = apps_all.merge(prev_agg, on='SK_ID_CURR', how='left')\n",
    "    apps_all = apps_all.merge(bureau_agg, on='SK_ID_CURR', how='left')\n",
    "    print('apps_all after merge with prev_agg, bureau_agg shape:', apps_all.shape)\n",
    "    \n",
    "    return apps_all"
   ]
  },
  {
   "cell_type": "markdown",
   "metadata": {
    "colab_type": "text",
    "id": "F2dQtLr10oA5"
   },
   "source": [
    "#### application, previous, bureau, bureau_bal 데이터 가공, 인코딩, 학습/테스트 데이터 분리, 학습 수행. "
   ]
  },
  {
   "cell_type": "code",
   "execution_count": null,
   "metadata": {
    "colab": {
     "base_uri": "https://localhost:8080/",
     "height": 281
    },
    "colab_type": "code",
    "id": "zlfSFkh20oA6",
    "outputId": "c9498b65-2e2e-4b6b-f601-e8a1b2cea974"
   },
   "outputs": [],
   "source": [
    "apps, prev, bureau, bureau_bal = get_dataset()\n",
    "\n",
    "# application, previous, bureau, bureau_bal 관련 데이터셋 가공 및 취합. \n",
    "apps_all = get_apps_all_with_prev_bureau_agg(apps, prev, bureau, bureau_bal)\n",
    "\n",
    "# Category 컬럼을 모두 Label 인코딩 수행. \n",
    "apps_all = get_apps_all_encoded(apps_all)\n",
    "\n",
    "# 학습과 테스트 데이터로 분리. \n",
    "apps_all_train, apps_all_test = get_apps_all_train_test(apps_all)\n",
    "\n",
    "#학습수행. \n",
    "\n",
    "clf = train_apps_all(apps_all_train)\n"
   ]
  },
  {
   "cell_type": "code",
   "execution_count": null,
   "metadata": {
    "colab": {},
    "colab_type": "code",
    "id": "6shUg0D60oA7"
   },
   "outputs": [],
   "source": [
    "preds = clf.predict_proba(apps_all_test.drop(['SK_ID_CURR'], axis=1))[:, 1 ]\n",
    "apps_all_test['TARGET'] = preds\n",
    "apps_all_test[['SK_ID_CURR', 'TARGET']].to_csv('bureau_baseline_01.csv', index=False)"
   ]
  },
  {
   "cell_type": "code",
   "execution_count": null,
   "metadata": {
    "colab": {},
    "colab_type": "code",
    "id": "Id4vvYG20oA_"
   },
   "outputs": [],
   "source": []
  },
  {
   "cell_type": "code",
   "execution_count": null,
   "metadata": {
    "colab": {},
    "colab_type": "code",
    "id": "wpc9lXwW0oBD"
   },
   "outputs": [],
   "source": []
  },
  {
   "cell_type": "code",
   "execution_count": null,
   "metadata": {
    "colab": {},
    "colab_type": "code",
    "id": "6upBM7KN0oBH"
   },
   "outputs": [],
   "source": []
  },
  {
   "cell_type": "code",
   "execution_count": null,
   "metadata": {
    "colab": {},
    "colab_type": "code",
    "id": "UKGMTFo_0oBJ"
   },
   "outputs": [],
   "source": []
  }
 ],
 "metadata": {
  "colab": {
   "collapsed_sections": [],
   "name": "bureau_baseline_01.ipynb",
   "provenance": []
  },
  "kernelspec": {
   "display_name": "Python 3",
   "language": "python",
   "name": "python3"
  },
  "language_info": {
   "codemirror_mode": {
    "name": "ipython",
    "version": 3
   },
   "file_extension": ".py",
   "mimetype": "text/x-python",
   "name": "python",
   "nbconvert_exporter": "python",
   "pygments_lexer": "ipython3",
   "version": "3.8.3"
  }
 },
 "nbformat": 4,
 "nbformat_minor": 1
}
